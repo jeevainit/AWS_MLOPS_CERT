{
 "cells": [
  {
   "cell_type": "markdown",
   "metadata": {},
   "source": [
    "# __Introduction to NumPy__"
   ]
  },
  {
   "cell_type": "markdown",
   "metadata": {},
   "source": [
    "## __Agenda__\n",
    "\n",
    "In this lesson, we will cover the following concepts with the help of examples:\n",
    "\n",
    "- Fundamentals of NumPy\n",
    "  * Advantages of NumPy\n",
    "  * NumPy: Installation and Import\n",
    "- NumPy: Array Object\n",
    "  * Creating NumPy Arrays"
   ]
  },
  {
   "cell_type": "markdown",
   "metadata": {
    "tags": []
   },
   "source": [
    "## __1. Fundamentals of NumPy__"
   ]
  },
  {
   "cell_type": "markdown",
   "metadata": {},
   "source": [
    "## __1.1 Introduction to NumPy__\n",
    "\n",
    "This module, along with the next (Pandas), introduces techniques for effectively `loading`, `storing`, and `manipulating` in-memory data in Python. While the topic is broad—datasets can come from various sources and formats, such as documents, images, sound clips, or numerical measurements—it helps to think of all data fundamentally as arrays of numbers.\n",
    "\n",
    "For example:\n",
    "\n",
    "* __Images__ can be represented as two-dimensional arrays of numbers, where each number corresponds to the brightness of a pixel.\n",
    "\n",
    "* __Sound clips__ can be thought of as one-dimensional arrays of intensity values over time.\n",
    "\n",
    "* __Text__ can be converted into numerical representations, such as binary digits indicating the frequency of specific words or word pairs.\n",
    "\n",
    "No matter the data type, the first step in making it analyzable is transforming it into arrays of numbers. \n",
    "\n",
    "For this reason, **efficient storage and manipulation of numerical arrays** are fundamental to data science. In this module, we’ll focus on **NumPy**, a powerful Python library designed for handling numerical arrays. In the next module, we’ll dive into **Pandas**, which builds on NumPy to provide even more advanced data manipulation capabilities."
   ]
  },
  {
   "cell_type": "markdown",
   "metadata": {
    "tags": []
   },
   "source": [
    "## __1.2 What is NumPy?__\n",
    "  \n",
    "NumPy (short for Numerical Python) is a free and open-source library that provides an efficient interface for storing and operating on **dense data buffers**. While NumPy arrays are similar to Python's built-in list type, they offer significantly more efficient storage and operations, especially as the size of the data grows. NumPy arrays form the core of nearly the entire Python data science ecosystem, making it essential to learn how to use them effectively.\n",
    "\n",
    "**Note:** The array object in NumPy is called `ndarray`."
   ]
  },
  {
   "cell_type": "markdown",
   "metadata": {},
   "source": [
    "### __1.3  Advantages of NumPy__\n",
    "\n",
    "* **Performance**: NumPy arrays are optimized for numerical computations, making them much faster than Python lists for large datasets.\n",
    "  \n",
    "* **Functionality**: NumPy provides a wide range of mathematical functions, including linear algebra, statistical operations, and Fourier transforms.\n",
    "\n",
    "* **Interoperability**: NumPy arrays are the foundation for many other data science libraries, such as Pandas, SciPy, Scikit-learn, and Matplotlib.\n",
    "\n",
    "* **Homogeneity**: NumPy arrays are homogeneous, meaning all elements in the array must be of the same data type. This uniformity allows NumPy to optimize memory usage and performance, making it ideal for numerical computations.\n",
    "\n",
    "* NumPy arrays are stored in one continuous place in memory, unlike lists."
   ]
  },
  {
   "cell_type": "markdown",
   "metadata": {},
   "source": [
    "### __1.4 NumPy: Installation and Import__\n",
    "- `C:\\Users\\Your Name>pip install numpy` command is used to install NumPy.\n",
    "- NumPy is imported under the name np like `import numpy as np`"
   ]
  },
  {
   "cell_type": "code",
   "execution_count": 6,
   "metadata": {},
   "outputs": [
    {
     "name": "stdout",
     "output_type": "stream",
     "text": [
      "1.26.4\n"
     ]
    }
   ],
   "source": [
    "import numpy as np\n",
    "print(np.__version__)"
   ]
  },
  {
   "cell_type": "markdown",
   "metadata": {},
   "source": [
    "This module will guide you through the essentials of NumPy, from creating and manipulating arrays to performing advanced mathematical operations. By the end, you’ll have a solid understanding of how to use NumPy to handle numerical data efficiently—a skill that will serve you well in any area of data science.\n",
    "\n",
    "By learning NumPy, you’ll gain access to a powerful tool that forms the backbone of nearly all data science workflows in Python. Whether you're working with images, sound clips, text, or numerical measurements, NumPy provides the foundational tools to transform and analyze your data efficiently."
   ]
  },
  {
   "cell_type": "markdown",
   "metadata": {},
   "source": [
    "## __2. NumPy: Array Object__\n",
    "A NumPy ndarray object can be created by using the `np.array()` function."
   ]
  },
  {
   "cell_type": "code",
   "execution_count": 4,
   "metadata": {},
   "outputs": [
    {
     "name": "stdout",
     "output_type": "stream",
     "text": [
      "[10 20 30 40 50]\n",
      "<class 'numpy.ndarray'>\n"
     ]
    }
   ],
   "source": [
    "# Example:\n",
    "import numpy as np\n",
    "arr = np.array ([10,20,30,40,50])\n",
    "print (arr)\n",
    "print (type(arr))"
   ]
  }
 ],
 "metadata": {
  "kernelspec": {
   "display_name": "Python 3 (ipykernel)",
   "language": "python",
   "name": "python3"
  },
  "language_info": {
   "codemirror_mode": {
    "name": "ipython",
    "version": 3
   },
   "file_extension": ".py",
   "mimetype": "text/x-python",
   "name": "python",
   "nbconvert_exporter": "python",
   "pygments_lexer": "ipython3",
   "version": "3.12.7"
  }
 },
 "nbformat": 4,
 "nbformat_minor": 4
}
