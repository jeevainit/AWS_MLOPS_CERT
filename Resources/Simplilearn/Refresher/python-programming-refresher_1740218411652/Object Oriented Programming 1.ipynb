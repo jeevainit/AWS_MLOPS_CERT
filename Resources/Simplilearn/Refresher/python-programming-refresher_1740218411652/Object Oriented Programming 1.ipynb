{
 "cells": [
  {
   "cell_type": "markdown",
   "id": "61fe133b",
   "metadata": {},
   "source": [
    "## Object Oriented Programming (OOP)"
   ]
  },
  {
   "cell_type": "markdown",
   "id": "b3089ae4",
   "metadata": {},
   "source": [
    "### Motivation\n",
    "\n",
    "As demonstrated earlier, often we need to use other packages, such as scipy, numpy, or other domain specified packages. When you check the source code of these packages, you may see new keywords in the code, such as class. What are classes and why do we use them? \n",
    "\n",
    "This is a new programming paradigm - `Object-Oriented Programming (OOP)` that is commonly used in writing large programs or packages. \n",
    "\n",
    "**When writing a large program, OOP has a number of pluses:** \n",
    "* `It simplifies the code for better readability` \n",
    "* `Better describes the end goal of the project` \n",
    "* `Is reusable, and reduces the number of potential bugs in the code` \n",
    "\n",
    "Given these features, you will see OOP in most of the standard packages in the field. Understanding its basics will help you write better code. \n",
    "\n",
    "This chapter introduces the basics of OOP, with emphasis on the core components: `object`, `class`, and `inheritance`. \n",
    "\n",
    "Python is a highly object-oriented programming language and understanding these concepts will help you program with a minimum amount of headaches."
   ]
  },
  {
   "cell_type": "markdown",
   "id": "c39721d6",
   "metadata": {},
   "source": [
    "### Introduction to OOP"
   ]
  },
  {
   "cell_type": "markdown",
   "id": "8221157a",
   "metadata": {},
   "source": [
    "Python is a multi-paradigm programming language, which means it supports different programming approach. \n",
    "\n",
    "So far, all the codes we have written belong to the category of `procedure-oriented programming (POP)`, which consists of a list of instructions to tell the computer what to do; these instructions are then organized into functions. The program is divided into a collection of `variables`, `data structures`, and routines to accomplish different tasks. \n",
    "\n",
    "One different way to program in Python is `object-oriented programming (OOP)`. The learning curve is steeper, but it is extremely very powerful and worth the time invested in mastering it. \n",
    "\n",
    "**Note: you do not have to use OOP when programming in Python. You can still write very powerful programs using the POP. That said, the POP is good for simple and small programs, while the OOP is better suited for large programs.**\n",
    "\n",
    "The object-oriented programming breaks the programming task into `objects`, which combine `data (known as attributes)` and `behaviors/functions (known as methods)`. Therefore, there are two main components of the OOP: `class` and `object`.\n",
    "\n",
    "The class is a blueprint to define a logical grouping of data and functions. It provides a way to create data structures that model real-world entities. For example, we can create a people class that contains the data such as `name`, `age`, and some `behavior functions` to print out ages and genders of a group of people. \n",
    "\n",
    "While class is the blueprint, an `object is an instance of the class with actual values`. For example, a person named `Iron man` with `age 35`. Put it another way, `a class is like a template to define the needed information`, and `an object is one specific copy that filled in the template`. Also, objects instantiated from the same class are independent from each other. For example, if we have another person - `Batman with age 33`, it can be instantiated from the people class, but it is an independent instance.\n",
    "\n",
    "Let us implement the above example in Python. Do not worry if you do not understand the syntax below; the next section provide more helpful examples."
   ]
  },
  {
   "cell_type": "code",
   "execution_count": 43,
   "id": "a314f7be",
   "metadata": {},
   "outputs": [],
   "source": [
    "### Deefining a class\n",
    "\n",
    "class People():\n",
    "    def __init__(self, name, age, gender, marital_status):\n",
    "        self.name = name\n",
    "        self.age = age\n",
    "        self.gender = gender\n",
    "        self.marital_status = marital_status\n",
    "        \n",
    "    def greet(self):\n",
    "        print(\"Greetings, \" + self.name)\n",
    "\n",
    "    def cry(self):\n",
    "        print(\"Hey,\" + self.name + \" why are you crying?\")"
   ]
  },
  {
   "cell_type": "code",
   "execution_count": 44,
   "id": "99759280",
   "metadata": {},
   "outputs": [],
   "source": [
    "### Instantiating an object\n",
    "person1 = People(name = 'Iron Man', age = 35, gender = \"male\", marital_status = 'single')"
   ]
  },
  {
   "cell_type": "code",
   "execution_count": 45,
   "id": "5c1b95e3",
   "metadata": {},
   "outputs": [
    {
     "name": "stdout",
     "output_type": "stream",
     "text": [
      "Iron Man\n"
     ]
    }
   ],
   "source": [
    "print(person1.name)"
   ]
  },
  {
   "cell_type": "code",
   "execution_count": 46,
   "id": "08677607",
   "metadata": {},
   "outputs": [
    {
     "name": "stdout",
     "output_type": "stream",
     "text": [
      "male\n"
     ]
    }
   ],
   "source": [
    "print(person1.gender)"
   ]
  },
  {
   "cell_type": "code",
   "execution_count": 47,
   "id": "e0d58264",
   "metadata": {},
   "outputs": [
    {
     "name": "stdout",
     "output_type": "stream",
     "text": [
      "Hey,Iron Man why are you crying?\n"
     ]
    }
   ],
   "source": [
    "person1.cry()"
   ]
  },
  {
   "cell_type": "code",
   "execution_count": 8,
   "id": "0a40661d",
   "metadata": {},
   "outputs": [
    {
     "name": "stdout",
     "output_type": "stream",
     "text": [
      "Greetings, Batman\n",
      "Batman\n",
      "33\n"
     ]
    }
   ],
   "source": [
    "person2 = People(name = 'Batman', age = 33)\n",
    "person2.greet()\n",
    "\n",
    "print(person2.name)\n",
    "print(person2.age)"
   ]
  },
  {
   "cell_type": "code",
   "execution_count": 9,
   "id": "7dd44d23-b1d9-4a7f-b34f-eeb2dbd41d6c",
   "metadata": {},
   "outputs": [],
   "source": [
    "person3 = People(name =\"Gwadiso\", age = 24)"
   ]
  },
  {
   "cell_type": "code",
   "execution_count": 11,
   "id": "46b19ccc-583a-424f-967d-572647bad5a1",
   "metadata": {},
   "outputs": [
    {
     "name": "stdout",
     "output_type": "stream",
     "text": [
      "Greetings, Gwadiso\n"
     ]
    }
   ],
   "source": [
    "person3.greet()"
   ]
  },
  {
   "cell_type": "code",
   "execution_count": 13,
   "id": "e6306285-04c9-4c52-97b6-d9e03a8ef787",
   "metadata": {},
   "outputs": [
    {
     "data": {
      "text/plain": [
       "24"
      ]
     },
     "execution_count": 13,
     "metadata": {},
     "output_type": "execute_result"
    }
   ],
   "source": [
    "person3.age"
   ]
  },
  {
   "cell_type": "markdown",
   "id": "f38a35b8",
   "metadata": {},
   "source": [
    "In the above code example\n",
    "\n",
    "**we first:**\n",
    "* defined a class - People, with name and age as the `data` or `attributes`, and a `method` greet. \n",
    "\n",
    "**We then:**\n",
    "* initialized an object - `person1` with the specific `name` and `age`. \n",
    "We can clearly see that the `class defines the whole structure`, while the `object is just an instance of the class`. \n",
    "\n",
    "**Later:** \n",
    "* we instantiated another object, `person2`. \n",
    "\n",
    "It is clear that `person1` and `person2` are independent with each other, though they are all instantiated from the same class."
   ]
  },
  {
   "cell_type": "markdown",
   "id": "72c06358",
   "metadata": {},
   "source": [
    "The concept of OOP is to create reusable code. There are three key principles of using OOP:\n",
    "\n",
    "* `Inheritance` - a way of creating new classes from existing class without modifying it.\n",
    "* `Encapsulation` - a way of hiding some of the private details of a class from other objects.\n",
    "* `Polymorphism` - a way of using common operation in different ways for different data input.\n",
    "\n",
    "**With the above principles, there are many benefits of using OOP:**\n",
    "* It provides a clear modular structure for programs that enhances code re-usability. \n",
    "* It provides a simple way to solve complex problems. \n",
    "* It helps define more abstract data types to model real-world scenarios. \n",
    "* It hides implementation details, leaving a clearly defined interface. \n",
    "* It combines data and operations."
   ]
  },
  {
   "cell_type": "code",
   "execution_count": null,
   "id": "b9fbd3e5",
   "metadata": {},
   "outputs": [],
   "source": []
  }
 ],
 "metadata": {
  "kernelspec": {
   "display_name": "Python 3 (ipykernel)",
   "language": "python",
   "name": "python3"
  },
  "language_info": {
   "codemirror_mode": {
    "name": "ipython",
    "version": 3
   },
   "file_extension": ".py",
   "mimetype": "text/x-python",
   "name": "python",
   "nbconvert_exporter": "python",
   "pygments_lexer": "ipython3",
   "version": "3.12.7"
  }
 },
 "nbformat": 4,
 "nbformat_minor": 5
}
