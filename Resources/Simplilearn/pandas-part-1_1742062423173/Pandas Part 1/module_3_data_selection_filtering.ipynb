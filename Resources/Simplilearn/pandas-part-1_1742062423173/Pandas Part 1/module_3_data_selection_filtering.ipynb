{
 "cells": [
  {
   "cell_type": "markdown",
   "id": "b155c896",
   "metadata": {},
   "source": [
    "# Module 3: Data Selection and Filtering\n",
    "    \n",
    "## Objective:\n",
    "Learn how to select, filter, and manipulate subsets of data using Pandas.\n",
    "\n",
    "---"
   ]
  },
  {
   "cell_type": "markdown",
   "id": "2814cd60",
   "metadata": {},
   "source": [
    "## 1. Loading the Dataset"
   ]
  },
  {
   "cell_type": "code",
   "execution_count": 1,
   "id": "09a06735",
   "metadata": {},
   "outputs": [
    {
     "data": {
      "text/html": [
       "<div>\n",
       "<style scoped>\n",
       "    .dataframe tbody tr th:only-of-type {\n",
       "        vertical-align: middle;\n",
       "    }\n",
       "\n",
       "    .dataframe tbody tr th {\n",
       "        vertical-align: top;\n",
       "    }\n",
       "\n",
       "    .dataframe thead th {\n",
       "        text-align: right;\n",
       "    }\n",
       "</style>\n",
       "<table border=\"1\" class=\"dataframe\">\n",
       "  <thead>\n",
       "    <tr style=\"text-align: right;\">\n",
       "      <th></th>\n",
       "      <th>Employee_ID</th>\n",
       "      <th>Name</th>\n",
       "      <th>Age</th>\n",
       "      <th>Department</th>\n",
       "      <th>Salary</th>\n",
       "      <th>Experience_Years</th>\n",
       "      <th>Full_Time</th>\n",
       "      <th>Joining_Date</th>\n",
       "      <th>Performance_Rating</th>\n",
       "    </tr>\n",
       "  </thead>\n",
       "  <tbody>\n",
       "    <tr>\n",
       "      <th>0</th>\n",
       "      <td>1001</td>\n",
       "      <td>Alice Johnson</td>\n",
       "      <td>29</td>\n",
       "      <td>IT</td>\n",
       "      <td>70000</td>\n",
       "      <td>5</td>\n",
       "      <td>True</td>\n",
       "      <td>2010-01-01</td>\n",
       "      <td>3</td>\n",
       "    </tr>\n",
       "    <tr>\n",
       "      <th>1</th>\n",
       "      <td>1002</td>\n",
       "      <td>Bob Smith</td>\n",
       "      <td>35</td>\n",
       "      <td>HR</td>\n",
       "      <td>55000</td>\n",
       "      <td>7</td>\n",
       "      <td>True</td>\n",
       "      <td>2011-01-01</td>\n",
       "      <td>4</td>\n",
       "    </tr>\n",
       "    <tr>\n",
       "      <th>2</th>\n",
       "      <td>1003</td>\n",
       "      <td>Charlie Brown</td>\n",
       "      <td>42</td>\n",
       "      <td>Finance</td>\n",
       "      <td>80000</td>\n",
       "      <td>15</td>\n",
       "      <td>True</td>\n",
       "      <td>2012-01-01</td>\n",
       "      <td>5</td>\n",
       "    </tr>\n",
       "    <tr>\n",
       "      <th>3</th>\n",
       "      <td>1004</td>\n",
       "      <td>David Wilson</td>\n",
       "      <td>30</td>\n",
       "      <td>IT</td>\n",
       "      <td>72000</td>\n",
       "      <td>6</td>\n",
       "      <td>False</td>\n",
       "      <td>2012-12-31</td>\n",
       "      <td>3</td>\n",
       "    </tr>\n",
       "    <tr>\n",
       "      <th>4</th>\n",
       "      <td>1005</td>\n",
       "      <td>Eva Adams</td>\n",
       "      <td>28</td>\n",
       "      <td>Marketing</td>\n",
       "      <td>50000</td>\n",
       "      <td>3</td>\n",
       "      <td>True</td>\n",
       "      <td>2013-12-31</td>\n",
       "      <td>2</td>\n",
       "    </tr>\n",
       "  </tbody>\n",
       "</table>\n",
       "</div>"
      ],
      "text/plain": [
       "   Employee_ID           Name  Age Department  Salary  Experience_Years  \\\n",
       "0         1001  Alice Johnson   29         IT   70000                 5   \n",
       "1         1002      Bob Smith   35         HR   55000                 7   \n",
       "2         1003  Charlie Brown   42    Finance   80000                15   \n",
       "3         1004   David Wilson   30         IT   72000                 6   \n",
       "4         1005      Eva Adams   28  Marketing   50000                 3   \n",
       "\n",
       "   Full_Time Joining_Date  Performance_Rating  \n",
       "0       True   2010-01-01                   3  \n",
       "1       True   2011-01-01                   4  \n",
       "2       True   2012-01-01                   5  \n",
       "3      False   2012-12-31                   3  \n",
       "4       True   2013-12-31                   2  "
      ]
     },
     "execution_count": 1,
     "metadata": {},
     "output_type": "execute_result"
    }
   ],
   "source": [
    "import pandas as pd\n",
    "\n",
    "# Load the employee dataset\n",
    "df = pd.read_csv(\"employee_records.csv\")\n",
    "\n",
    "# Display first few rows\n",
    "df.head()"
   ]
  },
  {
   "cell_type": "code",
   "execution_count": 2,
   "id": "8b0a0f15-df5a-4167-bcde-c7fc5f972dd3",
   "metadata": {},
   "outputs": [
    {
     "name": "stdout",
     "output_type": "stream",
     "text": [
      "<class 'pandas.core.frame.DataFrame'>\n",
      "RangeIndex: 20 entries, 0 to 19\n",
      "Data columns (total 9 columns):\n",
      " #   Column              Non-Null Count  Dtype \n",
      "---  ------              --------------  ----- \n",
      " 0   Employee_ID         20 non-null     int64 \n",
      " 1   Name                20 non-null     object\n",
      " 2   Age                 20 non-null     int64 \n",
      " 3   Department          20 non-null     object\n",
      " 4   Salary              20 non-null     int64 \n",
      " 5   Experience_Years    20 non-null     int64 \n",
      " 6   Full_Time           20 non-null     bool  \n",
      " 7   Joining_Date        20 non-null     object\n",
      " 8   Performance_Rating  20 non-null     int64 \n",
      "dtypes: bool(1), int64(5), object(3)\n",
      "memory usage: 1.4+ KB\n"
     ]
    }
   ],
   "source": [
    "df.info()"
   ]
  },
  {
   "cell_type": "code",
   "execution_count": 4,
   "id": "78e8f0a1-c822-4e32-b78d-27d2fc816db5",
   "metadata": {},
   "outputs": [
    {
     "data": {
      "text/html": [
       "<div>\n",
       "<style scoped>\n",
       "    .dataframe tbody tr th:only-of-type {\n",
       "        vertical-align: middle;\n",
       "    }\n",
       "\n",
       "    .dataframe tbody tr th {\n",
       "        vertical-align: top;\n",
       "    }\n",
       "\n",
       "    .dataframe thead th {\n",
       "        text-align: right;\n",
       "    }\n",
       "</style>\n",
       "<table border=\"1\" class=\"dataframe\">\n",
       "  <thead>\n",
       "    <tr style=\"text-align: right;\">\n",
       "      <th></th>\n",
       "      <th>count</th>\n",
       "      <th>mean</th>\n",
       "      <th>std</th>\n",
       "      <th>min</th>\n",
       "      <th>25%</th>\n",
       "      <th>50%</th>\n",
       "      <th>75%</th>\n",
       "      <th>max</th>\n",
       "    </tr>\n",
       "  </thead>\n",
       "  <tbody>\n",
       "    <tr>\n",
       "      <th>Employee_ID</th>\n",
       "      <td>20.0</td>\n",
       "      <td>1010.50</td>\n",
       "      <td>5.916080</td>\n",
       "      <td>1001.0</td>\n",
       "      <td>1005.75</td>\n",
       "      <td>1010.5</td>\n",
       "      <td>1015.25</td>\n",
       "      <td>1020.0</td>\n",
       "    </tr>\n",
       "    <tr>\n",
       "      <th>Age</th>\n",
       "      <td>20.0</td>\n",
       "      <td>35.65</td>\n",
       "      <td>7.043287</td>\n",
       "      <td>26.0</td>\n",
       "      <td>29.75</td>\n",
       "      <td>34.5</td>\n",
       "      <td>40.25</td>\n",
       "      <td>50.0</td>\n",
       "    </tr>\n",
       "    <tr>\n",
       "      <th>Salary</th>\n",
       "      <td>20.0</td>\n",
       "      <td>66250.00</td>\n",
       "      <td>13005.565610</td>\n",
       "      <td>49000.0</td>\n",
       "      <td>53750.00</td>\n",
       "      <td>70500.0</td>\n",
       "      <td>77000.00</td>\n",
       "      <td>85000.0</td>\n",
       "    </tr>\n",
       "    <tr>\n",
       "      <th>Experience_Years</th>\n",
       "      <td>20.0</td>\n",
       "      <td>8.35</td>\n",
       "      <td>5.244295</td>\n",
       "      <td>2.0</td>\n",
       "      <td>4.75</td>\n",
       "      <td>7.0</td>\n",
       "      <td>11.25</td>\n",
       "      <td>20.0</td>\n",
       "    </tr>\n",
       "    <tr>\n",
       "      <th>Performance_Rating</th>\n",
       "      <td>20.0</td>\n",
       "      <td>3.50</td>\n",
       "      <td>1.051315</td>\n",
       "      <td>2.0</td>\n",
       "      <td>3.00</td>\n",
       "      <td>3.5</td>\n",
       "      <td>4.00</td>\n",
       "      <td>5.0</td>\n",
       "    </tr>\n",
       "  </tbody>\n",
       "</table>\n",
       "</div>"
      ],
      "text/plain": [
       "                    count      mean           std      min       25%      50%  \\\n",
       "Employee_ID          20.0   1010.50      5.916080   1001.0   1005.75   1010.5   \n",
       "Age                  20.0     35.65      7.043287     26.0     29.75     34.5   \n",
       "Salary               20.0  66250.00  13005.565610  49000.0  53750.00  70500.0   \n",
       "Experience_Years     20.0      8.35      5.244295      2.0      4.75      7.0   \n",
       "Performance_Rating   20.0      3.50      1.051315      2.0      3.00      3.5   \n",
       "\n",
       "                         75%      max  \n",
       "Employee_ID          1015.25   1020.0  \n",
       "Age                    40.25     50.0  \n",
       "Salary              77000.00  85000.0  \n",
       "Experience_Years       11.25     20.0  \n",
       "Performance_Rating      4.00      5.0  "
      ]
     },
     "execution_count": 4,
     "metadata": {},
     "output_type": "execute_result"
    }
   ],
   "source": [
    "df.describe().T"
   ]
  },
  {
   "cell_type": "markdown",
   "id": "3f0e32bf",
   "metadata": {},
   "source": [
    "## 2. Selecting Columns and Rows"
   ]
  },
  {
   "cell_type": "code",
   "execution_count": 6,
   "id": "d9fc44cb-a0e2-4fcf-b18a-7f7dfb2a8aa4",
   "metadata": {},
   "outputs": [
    {
     "data": {
      "text/plain": [
       "Index(['Employee_ID', 'Name', 'Age', 'Department', 'Salary',\n",
       "       'Experience_Years', 'Full_Time', 'Joining_Date', 'Performance_Rating'],\n",
       "      dtype='object')"
      ]
     },
     "execution_count": 6,
     "metadata": {},
     "output_type": "execute_result"
    }
   ],
   "source": [
    "df.columns"
   ]
  },
  {
   "cell_type": "markdown",
   "id": "3c08c09d",
   "metadata": {},
   "source": [
    "### Selecting Specific Columns"
   ]
  },
  {
   "cell_type": "code",
   "execution_count": 8,
   "id": "964300e8",
   "metadata": {},
   "outputs": [
    {
     "data": {
      "text/plain": [
       "0     Alice Johnson\n",
       "1         Bob Smith\n",
       "2     Charlie Brown\n",
       "3      David Wilson\n",
       "4         Eva Adams\n",
       "5       Frank White\n",
       "6        Grace Hall\n",
       "7       Henry Lewis\n",
       "8         Ivy Scott\n",
       "9       Jack Carter\n",
       "10    Karen Roberts\n",
       "11         Leo King\n",
       "12       Mona Lopez\n",
       "13     Nathan Green\n",
       "14      Olivia Hill\n",
       "15      Peter Young\n",
       "16     Quincy Baker\n",
       "17     Rachel Allen\n",
       "18     Steve Martin\n",
       "19      Tina Turner\n",
       "Name: Name, dtype: object"
      ]
     },
     "execution_count": 8,
     "metadata": {},
     "output_type": "execute_result"
    }
   ],
   "source": [
    "# Selecting single column\n",
    "df['Name']"
   ]
  },
  {
   "cell_type": "code",
   "execution_count": 11,
   "id": "dc10815f-33a0-4c8a-b5f1-b93cec17b882",
   "metadata": {},
   "outputs": [
    {
     "data": {
      "text/plain": [
       "['Name', 'Department', 'Salary']"
      ]
     },
     "execution_count": 11,
     "metadata": {},
     "output_type": "execute_result"
    }
   ],
   "source": [
    "cols = ['Name', 'Department', 'Salary']\n",
    "cols"
   ]
  },
  {
   "cell_type": "code",
   "execution_count": 12,
   "id": "0fb0cb07-6a22-4fd6-a39b-a8f4f610e6cc",
   "metadata": {},
   "outputs": [
    {
     "data": {
      "text/html": [
       "<div>\n",
       "<style scoped>\n",
       "    .dataframe tbody tr th:only-of-type {\n",
       "        vertical-align: middle;\n",
       "    }\n",
       "\n",
       "    .dataframe tbody tr th {\n",
       "        vertical-align: top;\n",
       "    }\n",
       "\n",
       "    .dataframe thead th {\n",
       "        text-align: right;\n",
       "    }\n",
       "</style>\n",
       "<table border=\"1\" class=\"dataframe\">\n",
       "  <thead>\n",
       "    <tr style=\"text-align: right;\">\n",
       "      <th></th>\n",
       "      <th>Name</th>\n",
       "      <th>Department</th>\n",
       "      <th>Salary</th>\n",
       "    </tr>\n",
       "  </thead>\n",
       "  <tbody>\n",
       "    <tr>\n",
       "      <th>0</th>\n",
       "      <td>Alice Johnson</td>\n",
       "      <td>IT</td>\n",
       "      <td>70000</td>\n",
       "    </tr>\n",
       "    <tr>\n",
       "      <th>1</th>\n",
       "      <td>Bob Smith</td>\n",
       "      <td>HR</td>\n",
       "      <td>55000</td>\n",
       "    </tr>\n",
       "    <tr>\n",
       "      <th>2</th>\n",
       "      <td>Charlie Brown</td>\n",
       "      <td>Finance</td>\n",
       "      <td>80000</td>\n",
       "    </tr>\n",
       "    <tr>\n",
       "      <th>3</th>\n",
       "      <td>David Wilson</td>\n",
       "      <td>IT</td>\n",
       "      <td>72000</td>\n",
       "    </tr>\n",
       "    <tr>\n",
       "      <th>4</th>\n",
       "      <td>Eva Adams</td>\n",
       "      <td>Marketing</td>\n",
       "      <td>50000</td>\n",
       "    </tr>\n",
       "  </tbody>\n",
       "</table>\n",
       "</div>"
      ],
      "text/plain": [
       "            Name Department  Salary\n",
       "0  Alice Johnson         IT   70000\n",
       "1      Bob Smith         HR   55000\n",
       "2  Charlie Brown    Finance   80000\n",
       "3   David Wilson         IT   72000\n",
       "4      Eva Adams  Marketing   50000"
      ]
     },
     "execution_count": 12,
     "metadata": {},
     "output_type": "execute_result"
    }
   ],
   "source": [
    "# Selecting multiple columns\n",
    "df[cols].head()"
   ]
  },
  {
   "cell_type": "markdown",
   "id": "c37e8e5c",
   "metadata": {},
   "source": [
    "### Selecting Rows Using `.loc` and `.iloc`"
   ]
  },
  {
   "cell_type": "code",
   "execution_count": 20,
   "id": "bae6cc9a",
   "metadata": {},
   "outputs": [
    {
     "data": {
      "text/plain": [
       "Employee_ID                    1001\n",
       "Name                  Alice Johnson\n",
       "Age                              29\n",
       "Department                       IT\n",
       "Salary                        70000\n",
       "Experience_Years                  5\n",
       "Full_Time                      True\n",
       "Joining_Date             2010-01-01\n",
       "Performance_Rating                3\n",
       "Name: 0, dtype: object"
      ]
     },
     "execution_count": 20,
     "metadata": {},
     "output_type": "execute_result"
    }
   ],
   "source": [
    "# Selecting a row by index using loc\n",
    "df.loc[0]"
   ]
  },
  {
   "cell_type": "code",
   "execution_count": 21,
   "id": "c8592046-b6c9-4105-b6b6-5a22919391d0",
   "metadata": {},
   "outputs": [
    {
     "data": {
      "text/html": [
       "<div>\n",
       "<style scoped>\n",
       "    .dataframe tbody tr th:only-of-type {\n",
       "        vertical-align: middle;\n",
       "    }\n",
       "\n",
       "    .dataframe tbody tr th {\n",
       "        vertical-align: top;\n",
       "    }\n",
       "\n",
       "    .dataframe thead th {\n",
       "        text-align: right;\n",
       "    }\n",
       "</style>\n",
       "<table border=\"1\" class=\"dataframe\">\n",
       "  <thead>\n",
       "    <tr style=\"text-align: right;\">\n",
       "      <th></th>\n",
       "      <th>Employee_ID</th>\n",
       "      <th>Name</th>\n",
       "      <th>Age</th>\n",
       "      <th>Department</th>\n",
       "      <th>Salary</th>\n",
       "      <th>Experience_Years</th>\n",
       "      <th>Full_Time</th>\n",
       "      <th>Joining_Date</th>\n",
       "      <th>Performance_Rating</th>\n",
       "    </tr>\n",
       "  </thead>\n",
       "  <tbody>\n",
       "    <tr>\n",
       "      <th>0</th>\n",
       "      <td>1001</td>\n",
       "      <td>Alice Johnson</td>\n",
       "      <td>29</td>\n",
       "      <td>IT</td>\n",
       "      <td>70000</td>\n",
       "      <td>5</td>\n",
       "      <td>True</td>\n",
       "      <td>2010-01-01</td>\n",
       "      <td>3</td>\n",
       "    </tr>\n",
       "    <tr>\n",
       "      <th>1</th>\n",
       "      <td>1002</td>\n",
       "      <td>Bob Smith</td>\n",
       "      <td>35</td>\n",
       "      <td>HR</td>\n",
       "      <td>55000</td>\n",
       "      <td>7</td>\n",
       "      <td>True</td>\n",
       "      <td>2011-01-01</td>\n",
       "      <td>4</td>\n",
       "    </tr>\n",
       "  </tbody>\n",
       "</table>\n",
       "</div>"
      ],
      "text/plain": [
       "   Employee_ID           Name  Age Department  Salary  Experience_Years  \\\n",
       "0         1001  Alice Johnson   29         IT   70000                 5   \n",
       "1         1002      Bob Smith   35         HR   55000                 7   \n",
       "\n",
       "   Full_Time Joining_Date  Performance_Rating  \n",
       "0       True   2010-01-01                   3  \n",
       "1       True   2011-01-01                   4  "
      ]
     },
     "execution_count": 21,
     "metadata": {},
     "output_type": "execute_result"
    }
   ],
   "source": [
    "df.head(2)"
   ]
  },
  {
   "cell_type": "code",
   "execution_count": 25,
   "id": "808c36fb-3091-4550-a461-861feb602d1f",
   "metadata": {},
   "outputs": [
    {
     "data": {
      "text/html": [
       "<div>\n",
       "<style scoped>\n",
       "    .dataframe tbody tr th:only-of-type {\n",
       "        vertical-align: middle;\n",
       "    }\n",
       "\n",
       "    .dataframe tbody tr th {\n",
       "        vertical-align: top;\n",
       "    }\n",
       "\n",
       "    .dataframe thead th {\n",
       "        text-align: right;\n",
       "    }\n",
       "</style>\n",
       "<table border=\"1\" class=\"dataframe\">\n",
       "  <thead>\n",
       "    <tr style=\"text-align: right;\">\n",
       "      <th></th>\n",
       "      <th>Name</th>\n",
       "      <th>Department</th>\n",
       "      <th>Salary</th>\n",
       "    </tr>\n",
       "  </thead>\n",
       "  <tbody>\n",
       "    <tr>\n",
       "      <th>0</th>\n",
       "      <td>Alice Johnson</td>\n",
       "      <td>IT</td>\n",
       "      <td>70000</td>\n",
       "    </tr>\n",
       "    <tr>\n",
       "      <th>1</th>\n",
       "      <td>Bob Smith</td>\n",
       "      <td>HR</td>\n",
       "      <td>55000</td>\n",
       "    </tr>\n",
       "    <tr>\n",
       "      <th>2</th>\n",
       "      <td>Charlie Brown</td>\n",
       "      <td>Finance</td>\n",
       "      <td>80000</td>\n",
       "    </tr>\n",
       "    <tr>\n",
       "      <th>3</th>\n",
       "      <td>David Wilson</td>\n",
       "      <td>IT</td>\n",
       "      <td>72000</td>\n",
       "    </tr>\n",
       "    <tr>\n",
       "      <th>4</th>\n",
       "      <td>Eva Adams</td>\n",
       "      <td>Marketing</td>\n",
       "      <td>50000</td>\n",
       "    </tr>\n",
       "    <tr>\n",
       "      <th>5</th>\n",
       "      <td>Frank White</td>\n",
       "      <td>Finance</td>\n",
       "      <td>85000</td>\n",
       "    </tr>\n",
       "  </tbody>\n",
       "</table>\n",
       "</div>"
      ],
      "text/plain": [
       "            Name Department  Salary\n",
       "0  Alice Johnson         IT   70000\n",
       "1      Bob Smith         HR   55000\n",
       "2  Charlie Brown    Finance   80000\n",
       "3   David Wilson         IT   72000\n",
       "4      Eva Adams  Marketing   50000\n",
       "5    Frank White    Finance   85000"
      ]
     },
     "execution_count": 25,
     "metadata": {},
     "output_type": "execute_result"
    }
   ],
   "source": [
    "df.loc[0:5, cols]"
   ]
  },
  {
   "cell_type": "code",
   "execution_count": 26,
   "id": "8791e5e3-f82e-43d6-b2eb-1abb459e5c5b",
   "metadata": {},
   "outputs": [],
   "source": [
    "col = [1, 3, 4]"
   ]
  },
  {
   "cell_type": "code",
   "execution_count": 31,
   "id": "01c9837d-d6d1-4550-994b-7158e2aa21bb",
   "metadata": {},
   "outputs": [
    {
     "data": {
      "text/html": [
       "<div>\n",
       "<style scoped>\n",
       "    .dataframe tbody tr th:only-of-type {\n",
       "        vertical-align: middle;\n",
       "    }\n",
       "\n",
       "    .dataframe tbody tr th {\n",
       "        vertical-align: top;\n",
       "    }\n",
       "\n",
       "    .dataframe thead th {\n",
       "        text-align: right;\n",
       "    }\n",
       "</style>\n",
       "<table border=\"1\" class=\"dataframe\">\n",
       "  <thead>\n",
       "    <tr style=\"text-align: right;\">\n",
       "      <th></th>\n",
       "      <th>Name</th>\n",
       "      <th>Department</th>\n",
       "      <th>Salary</th>\n",
       "    </tr>\n",
       "  </thead>\n",
       "  <tbody>\n",
       "    <tr>\n",
       "      <th>0</th>\n",
       "      <td>Alice Johnson</td>\n",
       "      <td>IT</td>\n",
       "      <td>70000</td>\n",
       "    </tr>\n",
       "    <tr>\n",
       "      <th>1</th>\n",
       "      <td>Bob Smith</td>\n",
       "      <td>HR</td>\n",
       "      <td>55000</td>\n",
       "    </tr>\n",
       "    <tr>\n",
       "      <th>2</th>\n",
       "      <td>Charlie Brown</td>\n",
       "      <td>Finance</td>\n",
       "      <td>80000</td>\n",
       "    </tr>\n",
       "    <tr>\n",
       "      <th>3</th>\n",
       "      <td>David Wilson</td>\n",
       "      <td>IT</td>\n",
       "      <td>72000</td>\n",
       "    </tr>\n",
       "    <tr>\n",
       "      <th>4</th>\n",
       "      <td>Eva Adams</td>\n",
       "      <td>Marketing</td>\n",
       "      <td>50000</td>\n",
       "    </tr>\n",
       "    <tr>\n",
       "      <th>5</th>\n",
       "      <td>Frank White</td>\n",
       "      <td>Finance</td>\n",
       "      <td>85000</td>\n",
       "    </tr>\n",
       "  </tbody>\n",
       "</table>\n",
       "</div>"
      ],
      "text/plain": [
       "            Name Department  Salary\n",
       "0  Alice Johnson         IT   70000\n",
       "1      Bob Smith         HR   55000\n",
       "2  Charlie Brown    Finance   80000\n",
       "3   David Wilson         IT   72000\n",
       "4      Eva Adams  Marketing   50000\n",
       "5    Frank White    Finance   85000"
      ]
     },
     "execution_count": 31,
     "metadata": {},
     "output_type": "execute_result"
    }
   ],
   "source": [
    "df.iloc[0:6, col]"
   ]
  },
  {
   "cell_type": "code",
   "execution_count": 32,
   "id": "038eefbf-1a1a-4f8f-af3e-2a336d99bef1",
   "metadata": {},
   "outputs": [
    {
     "data": {
      "text/html": [
       "<div>\n",
       "<style scoped>\n",
       "    .dataframe tbody tr th:only-of-type {\n",
       "        vertical-align: middle;\n",
       "    }\n",
       "\n",
       "    .dataframe tbody tr th {\n",
       "        vertical-align: top;\n",
       "    }\n",
       "\n",
       "    .dataframe thead th {\n",
       "        text-align: right;\n",
       "    }\n",
       "</style>\n",
       "<table border=\"1\" class=\"dataframe\">\n",
       "  <thead>\n",
       "    <tr style=\"text-align: right;\">\n",
       "      <th></th>\n",
       "      <th>Name</th>\n",
       "      <th>Age</th>\n",
       "      <th>Salary</th>\n",
       "    </tr>\n",
       "  </thead>\n",
       "  <tbody>\n",
       "    <tr>\n",
       "      <th>0</th>\n",
       "      <td>Alice Johnson</td>\n",
       "      <td>29</td>\n",
       "      <td>70000</td>\n",
       "    </tr>\n",
       "    <tr>\n",
       "      <th>1</th>\n",
       "      <td>Bob Smith</td>\n",
       "      <td>35</td>\n",
       "      <td>55000</td>\n",
       "    </tr>\n",
       "    <tr>\n",
       "      <th>2</th>\n",
       "      <td>Charlie Brown</td>\n",
       "      <td>42</td>\n",
       "      <td>80000</td>\n",
       "    </tr>\n",
       "    <tr>\n",
       "      <th>3</th>\n",
       "      <td>David Wilson</td>\n",
       "      <td>30</td>\n",
       "      <td>72000</td>\n",
       "    </tr>\n",
       "    <tr>\n",
       "      <th>4</th>\n",
       "      <td>Eva Adams</td>\n",
       "      <td>28</td>\n",
       "      <td>50000</td>\n",
       "    </tr>\n",
       "    <tr>\n",
       "      <th>5</th>\n",
       "      <td>Frank White</td>\n",
       "      <td>50</td>\n",
       "      <td>85000</td>\n",
       "    </tr>\n",
       "  </tbody>\n",
       "</table>\n",
       "</div>"
      ],
      "text/plain": [
       "            Name  Age  Salary\n",
       "0  Alice Johnson   29   70000\n",
       "1      Bob Smith   35   55000\n",
       "2  Charlie Brown   42   80000\n",
       "3   David Wilson   30   72000\n",
       "4      Eva Adams   28   50000\n",
       "5    Frank White   50   85000"
      ]
     },
     "execution_count": 32,
     "metadata": {},
     "output_type": "execute_result"
    }
   ],
   "source": [
    "df.iloc[0:6,[1,2,4]]"
   ]
  },
  {
   "cell_type": "code",
   "execution_count": 30,
   "id": "ada61ff8-b032-43b6-94d2-31f417596b89",
   "metadata": {},
   "outputs": [
    {
     "data": {
      "text/html": [
       "<div>\n",
       "<style scoped>\n",
       "    .dataframe tbody tr th:only-of-type {\n",
       "        vertical-align: middle;\n",
       "    }\n",
       "\n",
       "    .dataframe tbody tr th {\n",
       "        vertical-align: top;\n",
       "    }\n",
       "\n",
       "    .dataframe thead th {\n",
       "        text-align: right;\n",
       "    }\n",
       "</style>\n",
       "<table border=\"1\" class=\"dataframe\">\n",
       "  <thead>\n",
       "    <tr style=\"text-align: right;\">\n",
       "      <th></th>\n",
       "      <th>Name</th>\n",
       "      <th>Age</th>\n",
       "      <th>Salary</th>\n",
       "    </tr>\n",
       "  </thead>\n",
       "  <tbody>\n",
       "    <tr>\n",
       "      <th>0</th>\n",
       "      <td>Alice Johnson</td>\n",
       "      <td>29</td>\n",
       "      <td>70000</td>\n",
       "    </tr>\n",
       "    <tr>\n",
       "      <th>1</th>\n",
       "      <td>Bob Smith</td>\n",
       "      <td>35</td>\n",
       "      <td>55000</td>\n",
       "    </tr>\n",
       "    <tr>\n",
       "      <th>2</th>\n",
       "      <td>Charlie Brown</td>\n",
       "      <td>42</td>\n",
       "      <td>80000</td>\n",
       "    </tr>\n",
       "    <tr>\n",
       "      <th>3</th>\n",
       "      <td>David Wilson</td>\n",
       "      <td>30</td>\n",
       "      <td>72000</td>\n",
       "    </tr>\n",
       "    <tr>\n",
       "      <th>4</th>\n",
       "      <td>Eva Adams</td>\n",
       "      <td>28</td>\n",
       "      <td>50000</td>\n",
       "    </tr>\n",
       "    <tr>\n",
       "      <th>5</th>\n",
       "      <td>Frank White</td>\n",
       "      <td>50</td>\n",
       "      <td>85000</td>\n",
       "    </tr>\n",
       "  </tbody>\n",
       "</table>\n",
       "</div>"
      ],
      "text/plain": [
       "            Name  Age  Salary\n",
       "0  Alice Johnson   29   70000\n",
       "1      Bob Smith   35   55000\n",
       "2  Charlie Brown   42   80000\n",
       "3   David Wilson   30   72000\n",
       "4      Eva Adams   28   50000\n",
       "5    Frank White   50   85000"
      ]
     },
     "execution_count": 30,
     "metadata": {},
     "output_type": "execute_result"
    }
   ],
   "source": [
    "import numpy as np\n",
    "df.iloc[0:6, np.r_[1:3, 4:5]]"
   ]
  },
  {
   "cell_type": "code",
   "execution_count": null,
   "id": "7873b635-f79e-4160-abf7-bd9d8fdf8633",
   "metadata": {},
   "outputs": [],
   "source": [
    "# Selecting specific rows and columns using loc\n",
    "df.loc[0:5, ['Name', 'Salary']]\n",
    "\n",
    "# Selecting rows using iloc (position-based)\n",
    "df.iloc[0:5, 1:4]"
   ]
  },
  {
   "cell_type": "markdown",
   "id": "8b4658a7",
   "metadata": {},
   "source": [
    "## 3. Indexing and Selecting Data"
   ]
  },
  {
   "cell_type": "markdown",
   "id": "26ed2ae8",
   "metadata": {},
   "source": [
    "### Using `.at` and `.iat` for Fast Access"
   ]
  },
  {
   "cell_type": "code",
   "execution_count": 37,
   "id": "c6e9dab1",
   "metadata": {},
   "outputs": [
    {
     "data": {
      "text/plain": [
       "'Alice Johnson'"
      ]
     },
     "execution_count": 37,
     "metadata": {},
     "output_type": "execute_result"
    }
   ],
   "source": [
    "# Using .at to access a single value\n",
    "df.at[0, 'Name'] "
   ]
  },
  {
   "cell_type": "code",
   "execution_count": 39,
   "id": "06413f86-749b-4d39-b97f-d2fe20f36f6e",
   "metadata": {},
   "outputs": [
    {
     "data": {
      "text/plain": [
       "'Alice Johnson'"
      ]
     },
     "execution_count": 39,
     "metadata": {},
     "output_type": "execute_result"
    }
   ],
   "source": [
    "# Using .iat to access a single value by index position\n",
    "df.iat[0, 1]"
   ]
  },
  {
   "cell_type": "code",
   "execution_count": 40,
   "id": "c2733f98-f2b3-4d52-9fde-2e23caca7ac4",
   "metadata": {},
   "outputs": [],
   "source": [
    "# Using .at to access a single value\n",
    "df.at[0, 'Name']  = 'Solomon Promise'"
   ]
  },
  {
   "cell_type": "code",
   "execution_count": 41,
   "id": "e0dc35b4-2af8-405d-976a-0b68ef27cdb5",
   "metadata": {},
   "outputs": [
    {
     "data": {
      "text/html": [
       "<div>\n",
       "<style scoped>\n",
       "    .dataframe tbody tr th:only-of-type {\n",
       "        vertical-align: middle;\n",
       "    }\n",
       "\n",
       "    .dataframe tbody tr th {\n",
       "        vertical-align: top;\n",
       "    }\n",
       "\n",
       "    .dataframe thead th {\n",
       "        text-align: right;\n",
       "    }\n",
       "</style>\n",
       "<table border=\"1\" class=\"dataframe\">\n",
       "  <thead>\n",
       "    <tr style=\"text-align: right;\">\n",
       "      <th></th>\n",
       "      <th>Employee_ID</th>\n",
       "      <th>Name</th>\n",
       "      <th>Age</th>\n",
       "      <th>Department</th>\n",
       "      <th>Salary</th>\n",
       "      <th>Experience_Years</th>\n",
       "      <th>Full_Time</th>\n",
       "      <th>Joining_Date</th>\n",
       "      <th>Performance_Rating</th>\n",
       "    </tr>\n",
       "  </thead>\n",
       "  <tbody>\n",
       "    <tr>\n",
       "      <th>0</th>\n",
       "      <td>1001</td>\n",
       "      <td>Solomon Promise</td>\n",
       "      <td>29</td>\n",
       "      <td>IT</td>\n",
       "      <td>70000</td>\n",
       "      <td>5</td>\n",
       "      <td>True</td>\n",
       "      <td>2010-01-01</td>\n",
       "      <td>3</td>\n",
       "    </tr>\n",
       "    <tr>\n",
       "      <th>1</th>\n",
       "      <td>1002</td>\n",
       "      <td>Bob Smith</td>\n",
       "      <td>35</td>\n",
       "      <td>HR</td>\n",
       "      <td>55000</td>\n",
       "      <td>7</td>\n",
       "      <td>True</td>\n",
       "      <td>2011-01-01</td>\n",
       "      <td>4</td>\n",
       "    </tr>\n",
       "    <tr>\n",
       "      <th>2</th>\n",
       "      <td>1003</td>\n",
       "      <td>Charlie Brown</td>\n",
       "      <td>42</td>\n",
       "      <td>Finance</td>\n",
       "      <td>80000</td>\n",
       "      <td>15</td>\n",
       "      <td>True</td>\n",
       "      <td>2012-01-01</td>\n",
       "      <td>5</td>\n",
       "    </tr>\n",
       "    <tr>\n",
       "      <th>3</th>\n",
       "      <td>1004</td>\n",
       "      <td>David Wilson</td>\n",
       "      <td>30</td>\n",
       "      <td>IT</td>\n",
       "      <td>72000</td>\n",
       "      <td>6</td>\n",
       "      <td>False</td>\n",
       "      <td>2012-12-31</td>\n",
       "      <td>3</td>\n",
       "    </tr>\n",
       "    <tr>\n",
       "      <th>4</th>\n",
       "      <td>1005</td>\n",
       "      <td>Eva Adams</td>\n",
       "      <td>28</td>\n",
       "      <td>Marketing</td>\n",
       "      <td>50000</td>\n",
       "      <td>3</td>\n",
       "      <td>True</td>\n",
       "      <td>2013-12-31</td>\n",
       "      <td>2</td>\n",
       "    </tr>\n",
       "  </tbody>\n",
       "</table>\n",
       "</div>"
      ],
      "text/plain": [
       "   Employee_ID             Name  Age Department  Salary  Experience_Years  \\\n",
       "0         1001  Solomon Promise   29         IT   70000                 5   \n",
       "1         1002        Bob Smith   35         HR   55000                 7   \n",
       "2         1003    Charlie Brown   42    Finance   80000                15   \n",
       "3         1004     David Wilson   30         IT   72000                 6   \n",
       "4         1005        Eva Adams   28  Marketing   50000                 3   \n",
       "\n",
       "   Full_Time Joining_Date  Performance_Rating  \n",
       "0       True   2010-01-01                   3  \n",
       "1       True   2011-01-01                   4  \n",
       "2       True   2012-01-01                   5  \n",
       "3      False   2012-12-31                   3  \n",
       "4       True   2013-12-31                   2  "
      ]
     },
     "execution_count": 41,
     "metadata": {},
     "output_type": "execute_result"
    }
   ],
   "source": [
    "df.head()"
   ]
  },
  {
   "cell_type": "markdown",
   "id": "021a01e9",
   "metadata": {},
   "source": [
    "## 4. Filtering Data"
   ]
  },
  {
   "cell_type": "markdown",
   "id": "65860aff",
   "metadata": {},
   "source": [
    "### Filtering with Boolean Conditions"
   ]
  },
  {
   "cell_type": "code",
   "execution_count": 43,
   "id": "f1c5bf01-382c-4d28-84c8-3822e463697c",
   "metadata": {},
   "outputs": [
    {
     "data": {
      "text/html": [
       "<div>\n",
       "<style scoped>\n",
       "    .dataframe tbody tr th:only-of-type {\n",
       "        vertical-align: middle;\n",
       "    }\n",
       "\n",
       "    .dataframe tbody tr th {\n",
       "        vertical-align: top;\n",
       "    }\n",
       "\n",
       "    .dataframe thead th {\n",
       "        text-align: right;\n",
       "    }\n",
       "</style>\n",
       "<table border=\"1\" class=\"dataframe\">\n",
       "  <thead>\n",
       "    <tr style=\"text-align: right;\">\n",
       "      <th></th>\n",
       "      <th>Employee_ID</th>\n",
       "      <th>Name</th>\n",
       "      <th>Age</th>\n",
       "      <th>Department</th>\n",
       "      <th>Salary</th>\n",
       "      <th>Experience_Years</th>\n",
       "      <th>Full_Time</th>\n",
       "      <th>Joining_Date</th>\n",
       "      <th>Performance_Rating</th>\n",
       "    </tr>\n",
       "  </thead>\n",
       "  <tbody>\n",
       "    <tr>\n",
       "      <th>0</th>\n",
       "      <td>1001</td>\n",
       "      <td>Solomon Promise</td>\n",
       "      <td>29</td>\n",
       "      <td>IT</td>\n",
       "      <td>70000</td>\n",
       "      <td>5</td>\n",
       "      <td>True</td>\n",
       "      <td>2010-01-01</td>\n",
       "      <td>3</td>\n",
       "    </tr>\n",
       "    <tr>\n",
       "      <th>1</th>\n",
       "      <td>1002</td>\n",
       "      <td>Bob Smith</td>\n",
       "      <td>35</td>\n",
       "      <td>HR</td>\n",
       "      <td>55000</td>\n",
       "      <td>7</td>\n",
       "      <td>True</td>\n",
       "      <td>2011-01-01</td>\n",
       "      <td>4</td>\n",
       "    </tr>\n",
       "    <tr>\n",
       "      <th>2</th>\n",
       "      <td>1003</td>\n",
       "      <td>Charlie Brown</td>\n",
       "      <td>42</td>\n",
       "      <td>Finance</td>\n",
       "      <td>80000</td>\n",
       "      <td>15</td>\n",
       "      <td>True</td>\n",
       "      <td>2012-01-01</td>\n",
       "      <td>5</td>\n",
       "    </tr>\n",
       "    <tr>\n",
       "      <th>3</th>\n",
       "      <td>1004</td>\n",
       "      <td>David Wilson</td>\n",
       "      <td>30</td>\n",
       "      <td>IT</td>\n",
       "      <td>72000</td>\n",
       "      <td>6</td>\n",
       "      <td>False</td>\n",
       "      <td>2012-12-31</td>\n",
       "      <td>3</td>\n",
       "    </tr>\n",
       "    <tr>\n",
       "      <th>4</th>\n",
       "      <td>1005</td>\n",
       "      <td>Eva Adams</td>\n",
       "      <td>28</td>\n",
       "      <td>Marketing</td>\n",
       "      <td>50000</td>\n",
       "      <td>3</td>\n",
       "      <td>True</td>\n",
       "      <td>2013-12-31</td>\n",
       "      <td>2</td>\n",
       "    </tr>\n",
       "  </tbody>\n",
       "</table>\n",
       "</div>"
      ],
      "text/plain": [
       "   Employee_ID             Name  Age Department  Salary  Experience_Years  \\\n",
       "0         1001  Solomon Promise   29         IT   70000                 5   \n",
       "1         1002        Bob Smith   35         HR   55000                 7   \n",
       "2         1003    Charlie Brown   42    Finance   80000                15   \n",
       "3         1004     David Wilson   30         IT   72000                 6   \n",
       "4         1005        Eva Adams   28  Marketing   50000                 3   \n",
       "\n",
       "   Full_Time Joining_Date  Performance_Rating  \n",
       "0       True   2010-01-01                   3  \n",
       "1       True   2011-01-01                   4  \n",
       "2       True   2012-01-01                   5  \n",
       "3      False   2012-12-31                   3  \n",
       "4       True   2013-12-31                   2  "
      ]
     },
     "execution_count": 43,
     "metadata": {},
     "output_type": "execute_result"
    }
   ],
   "source": [
    "df.head()"
   ]
  },
  {
   "cell_type": "code",
   "execution_count": 48,
   "id": "d3156759-383b-4fd9-af27-756eef1a4bf3",
   "metadata": {},
   "outputs": [],
   "source": [
    "IT_dept = df['Department'] == 'IT'"
   ]
  },
  {
   "cell_type": "code",
   "execution_count": 55,
   "id": "5028a653-5672-4f15-ab1e-b850f368910f",
   "metadata": {},
   "outputs": [
    {
     "name": "stdout",
     "output_type": "stream",
     "text": [
      "437000\n",
      "--------------------------------------\n",
      "72833.33333333333\n"
     ]
    }
   ],
   "source": [
    "print(df[IT_dept]['Salary'].sum())\n",
    "print(\"--------------------------------------\")\n",
    "print(df[IT_dept]['Salary'].mean())"
   ]
  },
  {
   "cell_type": "code",
   "execution_count": 56,
   "id": "b7351bc6",
   "metadata": {},
   "outputs": [
    {
     "data": {
      "text/html": [
       "<div>\n",
       "<style scoped>\n",
       "    .dataframe tbody tr th:only-of-type {\n",
       "        vertical-align: middle;\n",
       "    }\n",
       "\n",
       "    .dataframe tbody tr th {\n",
       "        vertical-align: top;\n",
       "    }\n",
       "\n",
       "    .dataframe thead th {\n",
       "        text-align: right;\n",
       "    }\n",
       "</style>\n",
       "<table border=\"1\" class=\"dataframe\">\n",
       "  <thead>\n",
       "    <tr style=\"text-align: right;\">\n",
       "      <th></th>\n",
       "      <th>Employee_ID</th>\n",
       "      <th>Name</th>\n",
       "      <th>Age</th>\n",
       "      <th>Department</th>\n",
       "      <th>Salary</th>\n",
       "      <th>Experience_Years</th>\n",
       "      <th>Full_Time</th>\n",
       "      <th>Joining_Date</th>\n",
       "      <th>Performance_Rating</th>\n",
       "    </tr>\n",
       "  </thead>\n",
       "  <tbody>\n",
       "    <tr>\n",
       "      <th>0</th>\n",
       "      <td>1001</td>\n",
       "      <td>Solomon Promise</td>\n",
       "      <td>29</td>\n",
       "      <td>IT</td>\n",
       "      <td>70000</td>\n",
       "      <td>5</td>\n",
       "      <td>True</td>\n",
       "      <td>2010-01-01</td>\n",
       "      <td>3</td>\n",
       "    </tr>\n",
       "    <tr>\n",
       "      <th>3</th>\n",
       "      <td>1004</td>\n",
       "      <td>David Wilson</td>\n",
       "      <td>30</td>\n",
       "      <td>IT</td>\n",
       "      <td>72000</td>\n",
       "      <td>6</td>\n",
       "      <td>False</td>\n",
       "      <td>2012-12-31</td>\n",
       "      <td>3</td>\n",
       "    </tr>\n",
       "    <tr>\n",
       "      <th>7</th>\n",
       "      <td>1008</td>\n",
       "      <td>Henry Lewis</td>\n",
       "      <td>40</td>\n",
       "      <td>IT</td>\n",
       "      <td>76000</td>\n",
       "      <td>12</td>\n",
       "      <td>True</td>\n",
       "      <td>2016-12-30</td>\n",
       "      <td>4</td>\n",
       "    </tr>\n",
       "    <tr>\n",
       "      <th>11</th>\n",
       "      <td>1012</td>\n",
       "      <td>Leo King</td>\n",
       "      <td>27</td>\n",
       "      <td>IT</td>\n",
       "      <td>71000</td>\n",
       "      <td>9</td>\n",
       "      <td>False</td>\n",
       "      <td>2020-12-29</td>\n",
       "      <td>4</td>\n",
       "    </tr>\n",
       "    <tr>\n",
       "      <th>15</th>\n",
       "      <td>1016</td>\n",
       "      <td>Peter Young</td>\n",
       "      <td>31</td>\n",
       "      <td>IT</td>\n",
       "      <td>73000</td>\n",
       "      <td>8</td>\n",
       "      <td>True</td>\n",
       "      <td>2024-12-28</td>\n",
       "      <td>5</td>\n",
       "    </tr>\n",
       "    <tr>\n",
       "      <th>19</th>\n",
       "      <td>1020</td>\n",
       "      <td>Tina Turner</td>\n",
       "      <td>29</td>\n",
       "      <td>IT</td>\n",
       "      <td>75000</td>\n",
       "      <td>7</td>\n",
       "      <td>True</td>\n",
       "      <td>2028-12-27</td>\n",
       "      <td>4</td>\n",
       "    </tr>\n",
       "  </tbody>\n",
       "</table>\n",
       "</div>"
      ],
      "text/plain": [
       "    Employee_ID             Name  Age Department  Salary  Experience_Years  \\\n",
       "0          1001  Solomon Promise   29         IT   70000                 5   \n",
       "3          1004     David Wilson   30         IT   72000                 6   \n",
       "7          1008      Henry Lewis   40         IT   76000                12   \n",
       "11         1012         Leo King   27         IT   71000                 9   \n",
       "15         1016      Peter Young   31         IT   73000                 8   \n",
       "19         1020      Tina Turner   29         IT   75000                 7   \n",
       "\n",
       "    Full_Time Joining_Date  Performance_Rating  \n",
       "0        True   2010-01-01                   3  \n",
       "3       False   2012-12-31                   3  \n",
       "7        True   2016-12-30                   4  \n",
       "11      False   2020-12-29                   4  \n",
       "15       True   2024-12-28                   5  \n",
       "19       True   2028-12-27                   4  "
      ]
     },
     "execution_count": 56,
     "metadata": {},
     "output_type": "execute_result"
    }
   ],
   "source": [
    "# Employees in IT department\n",
    "df[df['Department'] == 'IT']"
   ]
  },
  {
   "cell_type": "code",
   "execution_count": null,
   "id": "164d19c7-e9f9-44da-95b9-e5fa7e39d412",
   "metadata": {},
   "outputs": [],
   "source": []
  },
  {
   "cell_type": "code",
   "execution_count": 62,
   "id": "15b7ce5d-068d-407b-92e3-5236527db3f6",
   "metadata": {},
   "outputs": [
    {
     "data": {
      "text/plain": [
       "0     False\n",
       "1     False\n",
       "2      True\n",
       "3      True\n",
       "4     False\n",
       "5      True\n",
       "6     False\n",
       "7      True\n",
       "8     False\n",
       "9      True\n",
       "10    False\n",
       "11     True\n",
       "12    False\n",
       "13     True\n",
       "14    False\n",
       "15     True\n",
       "16    False\n",
       "17     True\n",
       "18    False\n",
       "19     True\n",
       "Name: Salary, dtype: bool"
      ]
     },
     "execution_count": 62,
     "metadata": {},
     "output_type": "execute_result"
    }
   ],
   "source": [
    "# Employees earning more than 70,000\n",
    "sal_over_70 = df['Salary'] > 70000\n",
    "sal_over_70"
   ]
  },
  {
   "cell_type": "code",
   "execution_count": 63,
   "id": "cbc12bcd-d78c-435b-95b0-ce7c30ed083e",
   "metadata": {},
   "outputs": [],
   "source": [
    "coll = ['Department', 'Experience_Years', 'Performance_Rating']"
   ]
  },
  {
   "cell_type": "code",
   "execution_count": 67,
   "id": "0dcd7bc8-b047-41a7-aca4-dcc473c4c43c",
   "metadata": {},
   "outputs": [
    {
     "data": {
      "text/html": [
       "<div>\n",
       "<style scoped>\n",
       "    .dataframe tbody tr th:only-of-type {\n",
       "        vertical-align: middle;\n",
       "    }\n",
       "\n",
       "    .dataframe tbody tr th {\n",
       "        vertical-align: top;\n",
       "    }\n",
       "\n",
       "    .dataframe thead th {\n",
       "        text-align: right;\n",
       "    }\n",
       "</style>\n",
       "<table border=\"1\" class=\"dataframe\">\n",
       "  <thead>\n",
       "    <tr style=\"text-align: right;\">\n",
       "      <th></th>\n",
       "      <th>Department</th>\n",
       "      <th>Experience_Years</th>\n",
       "      <th>Performance_Rating</th>\n",
       "    </tr>\n",
       "  </thead>\n",
       "  <tbody>\n",
       "    <tr>\n",
       "      <th>2</th>\n",
       "      <td>Finance</td>\n",
       "      <td>15</td>\n",
       "      <td>5</td>\n",
       "    </tr>\n",
       "    <tr>\n",
       "      <th>3</th>\n",
       "      <td>IT</td>\n",
       "      <td>6</td>\n",
       "      <td>3</td>\n",
       "    </tr>\n",
       "    <tr>\n",
       "      <th>5</th>\n",
       "      <td>Finance</td>\n",
       "      <td>20</td>\n",
       "      <td>5</td>\n",
       "    </tr>\n",
       "    <tr>\n",
       "      <th>7</th>\n",
       "      <td>IT</td>\n",
       "      <td>12</td>\n",
       "      <td>4</td>\n",
       "    </tr>\n",
       "    <tr>\n",
       "      <th>9</th>\n",
       "      <td>Finance</td>\n",
       "      <td>18</td>\n",
       "      <td>5</td>\n",
       "    </tr>\n",
       "    <tr>\n",
       "      <th>11</th>\n",
       "      <td>IT</td>\n",
       "      <td>9</td>\n",
       "      <td>4</td>\n",
       "    </tr>\n",
       "    <tr>\n",
       "      <th>13</th>\n",
       "      <td>Finance</td>\n",
       "      <td>11</td>\n",
       "      <td>4</td>\n",
       "    </tr>\n",
       "    <tr>\n",
       "      <th>15</th>\n",
       "      <td>IT</td>\n",
       "      <td>8</td>\n",
       "      <td>5</td>\n",
       "    </tr>\n",
       "    <tr>\n",
       "      <th>17</th>\n",
       "      <td>Finance</td>\n",
       "      <td>14</td>\n",
       "      <td>4</td>\n",
       "    </tr>\n",
       "    <tr>\n",
       "      <th>19</th>\n",
       "      <td>IT</td>\n",
       "      <td>7</td>\n",
       "      <td>4</td>\n",
       "    </tr>\n",
       "  </tbody>\n",
       "</table>\n",
       "</div>"
      ],
      "text/plain": [
       "   Department  Experience_Years  Performance_Rating\n",
       "2     Finance                15                   5\n",
       "3          IT                 6                   3\n",
       "5     Finance                20                   5\n",
       "7          IT                12                   4\n",
       "9     Finance                18                   5\n",
       "11         IT                 9                   4\n",
       "13    Finance                11                   4\n",
       "15         IT                 8                   5\n",
       "17    Finance                14                   4\n",
       "19         IT                 7                   4"
      ]
     },
     "execution_count": 67,
     "metadata": {},
     "output_type": "execute_result"
    }
   ],
   "source": [
    "df.loc[sal_over_70, coll]"
   ]
  },
  {
   "cell_type": "markdown",
   "id": "f3a5e102",
   "metadata": {},
   "source": [
    "### Filtering with Multiple Conditions"
   ]
  },
  {
   "cell_type": "code",
   "execution_count": 69,
   "id": "bc46cc34-2574-4cdf-b514-374c1f2d9f54",
   "metadata": {},
   "outputs": [
    {
     "data": {
      "text/plain": [
       "0      True\n",
       "1     False\n",
       "2     False\n",
       "3      True\n",
       "4     False\n",
       "5     False\n",
       "6     False\n",
       "7      True\n",
       "8     False\n",
       "9     False\n",
       "10    False\n",
       "11     True\n",
       "12    False\n",
       "13    False\n",
       "14    False\n",
       "15     True\n",
       "16    False\n",
       "17    False\n",
       "18    False\n",
       "19     True\n",
       "Name: Department, dtype: bool"
      ]
     },
     "execution_count": 69,
     "metadata": {},
     "output_type": "execute_result"
    }
   ],
   "source": [
    "df['Department'] == 'IT'"
   ]
  },
  {
   "cell_type": "code",
   "execution_count": 70,
   "id": "bf676057-6eef-415c-8d41-b9ba42484898",
   "metadata": {},
   "outputs": [
    {
     "data": {
      "text/plain": [
       "0     False\n",
       "1     False\n",
       "2      True\n",
       "3      True\n",
       "4     False\n",
       "5      True\n",
       "6     False\n",
       "7      True\n",
       "8     False\n",
       "9      True\n",
       "10    False\n",
       "11     True\n",
       "12    False\n",
       "13     True\n",
       "14    False\n",
       "15     True\n",
       "16    False\n",
       "17     True\n",
       "18    False\n",
       "19     True\n",
       "Name: Salary, dtype: bool"
      ]
     },
     "execution_count": 70,
     "metadata": {},
     "output_type": "execute_result"
    }
   ],
   "source": [
    "df['Salary'] > 70000"
   ]
  },
  {
   "cell_type": "code",
   "execution_count": 72,
   "id": "cf12ff2e-ada0-44f2-931d-a4c52b5df0c8",
   "metadata": {},
   "outputs": [
    {
     "data": {
      "text/plain": [
       "0     False\n",
       "1     False\n",
       "2     False\n",
       "3      True\n",
       "4     False\n",
       "5     False\n",
       "6     False\n",
       "7      True\n",
       "8     False\n",
       "9     False\n",
       "10    False\n",
       "11     True\n",
       "12    False\n",
       "13    False\n",
       "14    False\n",
       "15     True\n",
       "16    False\n",
       "17    False\n",
       "18    False\n",
       "19     True\n",
       "dtype: bool"
      ]
     },
     "execution_count": 72,
     "metadata": {},
     "output_type": "execute_result"
    }
   ],
   "source": [
    "(df['Department'] == 'IT') & (df['Salary'] > 70000)"
   ]
  },
  {
   "cell_type": "code",
   "execution_count": 74,
   "id": "c15f4aae",
   "metadata": {},
   "outputs": [
    {
     "data": {
      "text/html": [
       "<div>\n",
       "<style scoped>\n",
       "    .dataframe tbody tr th:only-of-type {\n",
       "        vertical-align: middle;\n",
       "    }\n",
       "\n",
       "    .dataframe tbody tr th {\n",
       "        vertical-align: top;\n",
       "    }\n",
       "\n",
       "    .dataframe thead th {\n",
       "        text-align: right;\n",
       "    }\n",
       "</style>\n",
       "<table border=\"1\" class=\"dataframe\">\n",
       "  <thead>\n",
       "    <tr style=\"text-align: right;\">\n",
       "      <th></th>\n",
       "      <th>Employee_ID</th>\n",
       "      <th>Name</th>\n",
       "      <th>Age</th>\n",
       "      <th>Department</th>\n",
       "      <th>Salary</th>\n",
       "      <th>Experience_Years</th>\n",
       "      <th>Full_Time</th>\n",
       "      <th>Joining_Date</th>\n",
       "      <th>Performance_Rating</th>\n",
       "    </tr>\n",
       "  </thead>\n",
       "  <tbody>\n",
       "    <tr>\n",
       "      <th>3</th>\n",
       "      <td>1004</td>\n",
       "      <td>David Wilson</td>\n",
       "      <td>30</td>\n",
       "      <td>IT</td>\n",
       "      <td>72000</td>\n",
       "      <td>6</td>\n",
       "      <td>False</td>\n",
       "      <td>2012-12-31</td>\n",
       "      <td>3</td>\n",
       "    </tr>\n",
       "    <tr>\n",
       "      <th>7</th>\n",
       "      <td>1008</td>\n",
       "      <td>Henry Lewis</td>\n",
       "      <td>40</td>\n",
       "      <td>IT</td>\n",
       "      <td>76000</td>\n",
       "      <td>12</td>\n",
       "      <td>True</td>\n",
       "      <td>2016-12-30</td>\n",
       "      <td>4</td>\n",
       "    </tr>\n",
       "    <tr>\n",
       "      <th>11</th>\n",
       "      <td>1012</td>\n",
       "      <td>Leo King</td>\n",
       "      <td>27</td>\n",
       "      <td>IT</td>\n",
       "      <td>71000</td>\n",
       "      <td>9</td>\n",
       "      <td>False</td>\n",
       "      <td>2020-12-29</td>\n",
       "      <td>4</td>\n",
       "    </tr>\n",
       "    <tr>\n",
       "      <th>15</th>\n",
       "      <td>1016</td>\n",
       "      <td>Peter Young</td>\n",
       "      <td>31</td>\n",
       "      <td>IT</td>\n",
       "      <td>73000</td>\n",
       "      <td>8</td>\n",
       "      <td>True</td>\n",
       "      <td>2024-12-28</td>\n",
       "      <td>5</td>\n",
       "    </tr>\n",
       "    <tr>\n",
       "      <th>19</th>\n",
       "      <td>1020</td>\n",
       "      <td>Tina Turner</td>\n",
       "      <td>29</td>\n",
       "      <td>IT</td>\n",
       "      <td>75000</td>\n",
       "      <td>7</td>\n",
       "      <td>True</td>\n",
       "      <td>2028-12-27</td>\n",
       "      <td>4</td>\n",
       "    </tr>\n",
       "  </tbody>\n",
       "</table>\n",
       "</div>"
      ],
      "text/plain": [
       "    Employee_ID          Name  Age Department  Salary  Experience_Years  \\\n",
       "3          1004  David Wilson   30         IT   72000                 6   \n",
       "7          1008   Henry Lewis   40         IT   76000                12   \n",
       "11         1012      Leo King   27         IT   71000                 9   \n",
       "15         1016   Peter Young   31         IT   73000                 8   \n",
       "19         1020   Tina Turner   29         IT   75000                 7   \n",
       "\n",
       "    Full_Time Joining_Date  Performance_Rating  \n",
       "3       False   2012-12-31                   3  \n",
       "7        True   2016-12-30                   4  \n",
       "11      False   2020-12-29                   4  \n",
       "15       True   2024-12-28                   5  \n",
       "19       True   2028-12-27                   4  "
      ]
     },
     "execution_count": 74,
     "metadata": {},
     "output_type": "execute_result"
    }
   ],
   "source": [
    "# Employees in IT department earning more than 70,000\n",
    "df[(df['Department'] == 'IT') & (df['Salary'] > 70000)]"
   ]
  },
  {
   "cell_type": "code",
   "execution_count": 79,
   "id": "7fe7d7dd-aa41-4725-8a9d-740709c4573c",
   "metadata": {},
   "outputs": [
    {
     "data": {
      "text/html": [
       "<div>\n",
       "<style scoped>\n",
       "    .dataframe tbody tr th:only-of-type {\n",
       "        vertical-align: middle;\n",
       "    }\n",
       "\n",
       "    .dataframe tbody tr th {\n",
       "        vertical-align: top;\n",
       "    }\n",
       "\n",
       "    .dataframe thead th {\n",
       "        text-align: right;\n",
       "    }\n",
       "</style>\n",
       "<table border=\"1\" class=\"dataframe\">\n",
       "  <thead>\n",
       "    <tr style=\"text-align: right;\">\n",
       "      <th></th>\n",
       "      <th>Department</th>\n",
       "      <th>Experience_Years</th>\n",
       "      <th>Performance_Rating</th>\n",
       "    </tr>\n",
       "  </thead>\n",
       "  <tbody>\n",
       "    <tr>\n",
       "      <th>0</th>\n",
       "      <td>IT</td>\n",
       "      <td>5</td>\n",
       "      <td>3</td>\n",
       "    </tr>\n",
       "    <tr>\n",
       "      <th>2</th>\n",
       "      <td>Finance</td>\n",
       "      <td>15</td>\n",
       "      <td>5</td>\n",
       "    </tr>\n",
       "    <tr>\n",
       "      <th>3</th>\n",
       "      <td>IT</td>\n",
       "      <td>6</td>\n",
       "      <td>3</td>\n",
       "    </tr>\n",
       "    <tr>\n",
       "      <th>5</th>\n",
       "      <td>Finance</td>\n",
       "      <td>20</td>\n",
       "      <td>5</td>\n",
       "    </tr>\n",
       "    <tr>\n",
       "      <th>7</th>\n",
       "      <td>IT</td>\n",
       "      <td>12</td>\n",
       "      <td>4</td>\n",
       "    </tr>\n",
       "    <tr>\n",
       "      <th>9</th>\n",
       "      <td>Finance</td>\n",
       "      <td>18</td>\n",
       "      <td>5</td>\n",
       "    </tr>\n",
       "    <tr>\n",
       "      <th>11</th>\n",
       "      <td>IT</td>\n",
       "      <td>9</td>\n",
       "      <td>4</td>\n",
       "    </tr>\n",
       "    <tr>\n",
       "      <th>13</th>\n",
       "      <td>Finance</td>\n",
       "      <td>11</td>\n",
       "      <td>4</td>\n",
       "    </tr>\n",
       "    <tr>\n",
       "      <th>15</th>\n",
       "      <td>IT</td>\n",
       "      <td>8</td>\n",
       "      <td>5</td>\n",
       "    </tr>\n",
       "    <tr>\n",
       "      <th>17</th>\n",
       "      <td>Finance</td>\n",
       "      <td>14</td>\n",
       "      <td>4</td>\n",
       "    </tr>\n",
       "    <tr>\n",
       "      <th>19</th>\n",
       "      <td>IT</td>\n",
       "      <td>7</td>\n",
       "      <td>4</td>\n",
       "    </tr>\n",
       "  </tbody>\n",
       "</table>\n",
       "</div>"
      ],
      "text/plain": [
       "   Department  Experience_Years  Performance_Rating\n",
       "0          IT                 5                   3\n",
       "2     Finance                15                   5\n",
       "3          IT                 6                   3\n",
       "5     Finance                20                   5\n",
       "7          IT                12                   4\n",
       "9     Finance                18                   5\n",
       "11         IT                 9                   4\n",
       "13    Finance                11                   4\n",
       "15         IT                 8                   5\n",
       "17    Finance                14                   4\n",
       "19         IT                 7                   4"
      ]
     },
     "execution_count": 79,
     "metadata": {},
     "output_type": "execute_result"
    }
   ],
   "source": [
    "# Employees in IT department or earning more than 70,000\n",
    "df.loc[(df['Department'] == 'IT') | (df['Salary'] > 70000), coll]"
   ]
  },
  {
   "cell_type": "markdown",
   "id": "c5134be6",
   "metadata": {},
   "source": [
    "### Using `.query()` for Filtering"
   ]
  },
  {
   "cell_type": "code",
   "execution_count": 87,
   "id": "4d014eb0",
   "metadata": {},
   "outputs": [
    {
     "data": {
      "text/html": [
       "<div>\n",
       "<style scoped>\n",
       "    .dataframe tbody tr th:only-of-type {\n",
       "        vertical-align: middle;\n",
       "    }\n",
       "\n",
       "    .dataframe tbody tr th {\n",
       "        vertical-align: top;\n",
       "    }\n",
       "\n",
       "    .dataframe thead th {\n",
       "        text-align: right;\n",
       "    }\n",
       "</style>\n",
       "<table border=\"1\" class=\"dataframe\">\n",
       "  <thead>\n",
       "    <tr style=\"text-align: right;\">\n",
       "      <th></th>\n",
       "      <th>Name</th>\n",
       "      <th>Department</th>\n",
       "      <th>Experience_Years</th>\n",
       "    </tr>\n",
       "  </thead>\n",
       "  <tbody>\n",
       "    <tr>\n",
       "      <th>2</th>\n",
       "      <td>Charlie Brown</td>\n",
       "      <td>Finance</td>\n",
       "      <td>15</td>\n",
       "    </tr>\n",
       "    <tr>\n",
       "      <th>5</th>\n",
       "      <td>Frank White</td>\n",
       "      <td>Finance</td>\n",
       "      <td>20</td>\n",
       "    </tr>\n",
       "    <tr>\n",
       "      <th>9</th>\n",
       "      <td>Jack Carter</td>\n",
       "      <td>Finance</td>\n",
       "      <td>18</td>\n",
       "    </tr>\n",
       "    <tr>\n",
       "      <th>13</th>\n",
       "      <td>Nathan Green</td>\n",
       "      <td>Finance</td>\n",
       "      <td>11</td>\n",
       "    </tr>\n",
       "    <tr>\n",
       "      <th>17</th>\n",
       "      <td>Rachel Allen</td>\n",
       "      <td>Finance</td>\n",
       "      <td>14</td>\n",
       "    </tr>\n",
       "  </tbody>\n",
       "</table>\n",
       "</div>"
      ],
      "text/plain": [
       "             Name Department  Experience_Years\n",
       "2   Charlie Brown    Finance                15\n",
       "5     Frank White    Finance                20\n",
       "9     Jack Carter    Finance                18\n",
       "13   Nathan Green    Finance                11\n",
       "17   Rachel Allen    Finance                14"
      ]
     },
     "execution_count": 87,
     "metadata": {},
     "output_type": "execute_result"
    }
   ],
   "source": [
    "# Using query to filter data\n",
    "df.query(\"Department == 'Finance' and Salary > 75000\")[['Name', 'Department', 'Experience_Years']]"
   ]
  },
  {
   "cell_type": "markdown",
   "id": "ebada0c8",
   "metadata": {},
   "source": [
    "## 5. Filtering Rows and Columns"
   ]
  },
  {
   "cell_type": "code",
   "execution_count": 85,
   "id": "25be6773",
   "metadata": {},
   "outputs": [
    {
     "data": {
      "text/html": [
       "<div>\n",
       "<style scoped>\n",
       "    .dataframe tbody tr th:only-of-type {\n",
       "        vertical-align: middle;\n",
       "    }\n",
       "\n",
       "    .dataframe tbody tr th {\n",
       "        vertical-align: top;\n",
       "    }\n",
       "\n",
       "    .dataframe thead th {\n",
       "        text-align: right;\n",
       "    }\n",
       "</style>\n",
       "<table border=\"1\" class=\"dataframe\">\n",
       "  <thead>\n",
       "    <tr style=\"text-align: right;\">\n",
       "      <th></th>\n",
       "      <th>Name</th>\n",
       "      <th>Department</th>\n",
       "      <th>Experience_Years</th>\n",
       "    </tr>\n",
       "  </thead>\n",
       "  <tbody>\n",
       "    <tr>\n",
       "      <th>2</th>\n",
       "      <td>Charlie Brown</td>\n",
       "      <td>Finance</td>\n",
       "      <td>15</td>\n",
       "    </tr>\n",
       "    <tr>\n",
       "      <th>5</th>\n",
       "      <td>Frank White</td>\n",
       "      <td>Finance</td>\n",
       "      <td>20</td>\n",
       "    </tr>\n",
       "    <tr>\n",
       "      <th>7</th>\n",
       "      <td>Henry Lewis</td>\n",
       "      <td>IT</td>\n",
       "      <td>12</td>\n",
       "    </tr>\n",
       "    <tr>\n",
       "      <th>9</th>\n",
       "      <td>Jack Carter</td>\n",
       "      <td>Finance</td>\n",
       "      <td>18</td>\n",
       "    </tr>\n",
       "    <tr>\n",
       "      <th>13</th>\n",
       "      <td>Nathan Green</td>\n",
       "      <td>Finance</td>\n",
       "      <td>11</td>\n",
       "    </tr>\n",
       "    <tr>\n",
       "      <th>17</th>\n",
       "      <td>Rachel Allen</td>\n",
       "      <td>Finance</td>\n",
       "      <td>14</td>\n",
       "    </tr>\n",
       "  </tbody>\n",
       "</table>\n",
       "</div>"
      ],
      "text/plain": [
       "             Name Department  Experience_Years\n",
       "2   Charlie Brown    Finance                15\n",
       "5     Frank White    Finance                20\n",
       "7     Henry Lewis         IT                12\n",
       "9     Jack Carter    Finance                18\n",
       "13   Nathan Green    Finance                11\n",
       "17   Rachel Allen    Finance                14"
      ]
     },
     "execution_count": 85,
     "metadata": {},
     "output_type": "execute_result"
    }
   ],
   "source": [
    "# Selecting employees with more than 10 years of experience\n",
    "df[df['Experience_Years'] > 10][['Name', 'Department', 'Experience_Years']]"
   ]
  },
  {
   "cell_type": "code",
   "execution_count": 86,
   "id": "b2e3931a-81f4-466b-a29d-50ece21ae023",
   "metadata": {},
   "outputs": [
    {
     "data": {
      "text/html": [
       "<div>\n",
       "<style scoped>\n",
       "    .dataframe tbody tr th:only-of-type {\n",
       "        vertical-align: middle;\n",
       "    }\n",
       "\n",
       "    .dataframe tbody tr th {\n",
       "        vertical-align: top;\n",
       "    }\n",
       "\n",
       "    .dataframe thead th {\n",
       "        text-align: right;\n",
       "    }\n",
       "</style>\n",
       "<table border=\"1\" class=\"dataframe\">\n",
       "  <thead>\n",
       "    <tr style=\"text-align: right;\">\n",
       "      <th></th>\n",
       "      <th>Name</th>\n",
       "      <th>Department</th>\n",
       "      <th>Experience_Years</th>\n",
       "    </tr>\n",
       "  </thead>\n",
       "  <tbody>\n",
       "    <tr>\n",
       "      <th>2</th>\n",
       "      <td>Charlie Brown</td>\n",
       "      <td>Finance</td>\n",
       "      <td>15</td>\n",
       "    </tr>\n",
       "    <tr>\n",
       "      <th>5</th>\n",
       "      <td>Frank White</td>\n",
       "      <td>Finance</td>\n",
       "      <td>20</td>\n",
       "    </tr>\n",
       "    <tr>\n",
       "      <th>7</th>\n",
       "      <td>Henry Lewis</td>\n",
       "      <td>IT</td>\n",
       "      <td>12</td>\n",
       "    </tr>\n",
       "    <tr>\n",
       "      <th>9</th>\n",
       "      <td>Jack Carter</td>\n",
       "      <td>Finance</td>\n",
       "      <td>18</td>\n",
       "    </tr>\n",
       "    <tr>\n",
       "      <th>13</th>\n",
       "      <td>Nathan Green</td>\n",
       "      <td>Finance</td>\n",
       "      <td>11</td>\n",
       "    </tr>\n",
       "    <tr>\n",
       "      <th>17</th>\n",
       "      <td>Rachel Allen</td>\n",
       "      <td>Finance</td>\n",
       "      <td>14</td>\n",
       "    </tr>\n",
       "  </tbody>\n",
       "</table>\n",
       "</div>"
      ],
      "text/plain": [
       "             Name Department  Experience_Years\n",
       "2   Charlie Brown    Finance                15\n",
       "5     Frank White    Finance                20\n",
       "7     Henry Lewis         IT                12\n",
       "9     Jack Carter    Finance                18\n",
       "13   Nathan Green    Finance                11\n",
       "17   Rachel Allen    Finance                14"
      ]
     },
     "execution_count": 86,
     "metadata": {},
     "output_type": "execute_result"
    }
   ],
   "source": [
    "# Selecting employees with more than 10 years of experience\n",
    "df.loc[df['Experience_Years'] > 10, ['Name', 'Department', 'Experience_Years']]"
   ]
  },
  {
   "cell_type": "markdown",
   "id": "19c184d7",
   "metadata": {},
   "source": [
    "## 6. Changing Data Types"
   ]
  },
  {
   "cell_type": "code",
   "execution_count": 89,
   "id": "3af5707f-1e45-4c81-9900-eaaf9597383a",
   "metadata": {},
   "outputs": [
    {
     "data": {
      "text/html": [
       "<div>\n",
       "<style scoped>\n",
       "    .dataframe tbody tr th:only-of-type {\n",
       "        vertical-align: middle;\n",
       "    }\n",
       "\n",
       "    .dataframe tbody tr th {\n",
       "        vertical-align: top;\n",
       "    }\n",
       "\n",
       "    .dataframe thead th {\n",
       "        text-align: right;\n",
       "    }\n",
       "</style>\n",
       "<table border=\"1\" class=\"dataframe\">\n",
       "  <thead>\n",
       "    <tr style=\"text-align: right;\">\n",
       "      <th></th>\n",
       "      <th>Employee_ID</th>\n",
       "      <th>Name</th>\n",
       "      <th>Age</th>\n",
       "      <th>Department</th>\n",
       "      <th>Salary</th>\n",
       "      <th>Experience_Years</th>\n",
       "      <th>Full_Time</th>\n",
       "      <th>Joining_Date</th>\n",
       "      <th>Performance_Rating</th>\n",
       "    </tr>\n",
       "  </thead>\n",
       "  <tbody>\n",
       "    <tr>\n",
       "      <th>0</th>\n",
       "      <td>1001</td>\n",
       "      <td>Solomon Promise</td>\n",
       "      <td>29</td>\n",
       "      <td>IT</td>\n",
       "      <td>70000</td>\n",
       "      <td>5</td>\n",
       "      <td>True</td>\n",
       "      <td>2010-01-01</td>\n",
       "      <td>3</td>\n",
       "    </tr>\n",
       "    <tr>\n",
       "      <th>1</th>\n",
       "      <td>1002</td>\n",
       "      <td>Bob Smith</td>\n",
       "      <td>35</td>\n",
       "      <td>HR</td>\n",
       "      <td>55000</td>\n",
       "      <td>7</td>\n",
       "      <td>True</td>\n",
       "      <td>2011-01-01</td>\n",
       "      <td>4</td>\n",
       "    </tr>\n",
       "    <tr>\n",
       "      <th>2</th>\n",
       "      <td>1003</td>\n",
       "      <td>Charlie Brown</td>\n",
       "      <td>42</td>\n",
       "      <td>Finance</td>\n",
       "      <td>80000</td>\n",
       "      <td>15</td>\n",
       "      <td>True</td>\n",
       "      <td>2012-01-01</td>\n",
       "      <td>5</td>\n",
       "    </tr>\n",
       "    <tr>\n",
       "      <th>3</th>\n",
       "      <td>1004</td>\n",
       "      <td>David Wilson</td>\n",
       "      <td>30</td>\n",
       "      <td>IT</td>\n",
       "      <td>72000</td>\n",
       "      <td>6</td>\n",
       "      <td>False</td>\n",
       "      <td>2012-12-31</td>\n",
       "      <td>3</td>\n",
       "    </tr>\n",
       "    <tr>\n",
       "      <th>4</th>\n",
       "      <td>1005</td>\n",
       "      <td>Eva Adams</td>\n",
       "      <td>28</td>\n",
       "      <td>Marketing</td>\n",
       "      <td>50000</td>\n",
       "      <td>3</td>\n",
       "      <td>True</td>\n",
       "      <td>2013-12-31</td>\n",
       "      <td>2</td>\n",
       "    </tr>\n",
       "  </tbody>\n",
       "</table>\n",
       "</div>"
      ],
      "text/plain": [
       "   Employee_ID             Name  Age Department  Salary  Experience_Years  \\\n",
       "0         1001  Solomon Promise   29         IT   70000                 5   \n",
       "1         1002        Bob Smith   35         HR   55000                 7   \n",
       "2         1003    Charlie Brown   42    Finance   80000                15   \n",
       "3         1004     David Wilson   30         IT   72000                 6   \n",
       "4         1005        Eva Adams   28  Marketing   50000                 3   \n",
       "\n",
       "   Full_Time Joining_Date  Performance_Rating  \n",
       "0       True   2010-01-01                   3  \n",
       "1       True   2011-01-01                   4  \n",
       "2       True   2012-01-01                   5  \n",
       "3      False   2012-12-31                   3  \n",
       "4       True   2013-12-31                   2  "
      ]
     },
     "execution_count": 89,
     "metadata": {},
     "output_type": "execute_result"
    }
   ],
   "source": [
    "df.head()"
   ]
  },
  {
   "cell_type": "code",
   "execution_count": 88,
   "id": "7182a2d9-64a8-4cdf-abc9-d0254593c24a",
   "metadata": {},
   "outputs": [
    {
     "name": "stdout",
     "output_type": "stream",
     "text": [
      "<class 'pandas.core.frame.DataFrame'>\n",
      "RangeIndex: 20 entries, 0 to 19\n",
      "Data columns (total 9 columns):\n",
      " #   Column              Non-Null Count  Dtype \n",
      "---  ------              --------------  ----- \n",
      " 0   Employee_ID         20 non-null     int64 \n",
      " 1   Name                20 non-null     object\n",
      " 2   Age                 20 non-null     int64 \n",
      " 3   Department          20 non-null     object\n",
      " 4   Salary              20 non-null     int64 \n",
      " 5   Experience_Years    20 non-null     int64 \n",
      " 6   Full_Time           20 non-null     bool  \n",
      " 7   Joining_Date        20 non-null     object\n",
      " 8   Performance_Rating  20 non-null     int64 \n",
      "dtypes: bool(1), int64(5), object(3)\n",
      "memory usage: 1.4+ KB\n"
     ]
    }
   ],
   "source": [
    "df.info()"
   ]
  },
  {
   "cell_type": "code",
   "execution_count": 91,
   "id": "04cf5716",
   "metadata": {},
   "outputs": [
    {
     "data": {
      "text/plain": [
       "Employee_ID                    int64\n",
       "Name                          object\n",
       "Age                            int64\n",
       "Department                    object\n",
       "Salary                       float64\n",
       "Experience_Years               int64\n",
       "Full_Time                       bool\n",
       "Joining_Date          datetime64[ns]\n",
       "Performance_Rating             int64\n",
       "dtype: object"
      ]
     },
     "execution_count": 91,
     "metadata": {},
     "output_type": "execute_result"
    }
   ],
   "source": [
    "# Converting Salary to float\n",
    "df['Salary'] = df['Salary'].astype(float)\n",
    "\n",
    "# Converting Joining_Date to datetime\n",
    "df['Joining_Date'] = pd.to_datetime(df['Joining_Date'])\n",
    "\n",
    "# Display updated dtypes\n",
    "df.dtypes"
   ]
  },
  {
   "cell_type": "code",
   "execution_count": 92,
   "id": "d825b0e5-26ce-487b-b8cb-29851939909a",
   "metadata": {},
   "outputs": [
    {
     "name": "stdout",
     "output_type": "stream",
     "text": [
      "<class 'pandas.core.frame.DataFrame'>\n",
      "RangeIndex: 20 entries, 0 to 19\n",
      "Data columns (total 9 columns):\n",
      " #   Column              Non-Null Count  Dtype         \n",
      "---  ------              --------------  -----         \n",
      " 0   Employee_ID         20 non-null     int64         \n",
      " 1   Name                20 non-null     object        \n",
      " 2   Age                 20 non-null     int64         \n",
      " 3   Department          20 non-null     object        \n",
      " 4   Salary              20 non-null     float64       \n",
      " 5   Experience_Years    20 non-null     int64         \n",
      " 6   Full_Time           20 non-null     bool          \n",
      " 7   Joining_Date        20 non-null     datetime64[ns]\n",
      " 8   Performance_Rating  20 non-null     int64         \n",
      "dtypes: bool(1), datetime64[ns](1), float64(1), int64(4), object(2)\n",
      "memory usage: 1.4+ KB\n"
     ]
    }
   ],
   "source": [
    "df.info()"
   ]
  },
  {
   "cell_type": "markdown",
   "id": "734932b4",
   "metadata": {},
   "source": [
    "## 7. Handling Missing Data"
   ]
  },
  {
   "cell_type": "markdown",
   "id": "52001819",
   "metadata": {},
   "source": [
    "### Identifying Missing Values"
   ]
  },
  {
   "cell_type": "code",
   "execution_count": 95,
   "id": "93bd1085-854b-4e95-a088-9f869eb63314",
   "metadata": {},
   "outputs": [
    {
     "data": {
      "text/plain": [
       "Employee_ID           0\n",
       "Name                  0\n",
       "Age                   0\n",
       "Department            0\n",
       "Salary                0\n",
       "Experience_Years      0\n",
       "Full_Time             0\n",
       "Joining_Date          0\n",
       "Performance_Rating    0\n",
       "dtype: int64"
      ]
     },
     "execution_count": 95,
     "metadata": {},
     "output_type": "execute_result"
    }
   ],
   "source": [
    "df.isnull().sum()"
   ]
  },
  {
   "cell_type": "code",
   "execution_count": 96,
   "id": "592dd353-ce60-4c44-b689-2deeb30eb9bd",
   "metadata": {},
   "outputs": [
    {
     "data": {
      "text/plain": [
       "Employee_ID           0\n",
       "Name                  0\n",
       "Age                   0\n",
       "Department            0\n",
       "Salary                0\n",
       "Experience_Years      0\n",
       "Full_Time             0\n",
       "Joining_Date          0\n",
       "Performance_Rating    0\n",
       "dtype: int64"
      ]
     },
     "execution_count": 96,
     "metadata": {},
     "output_type": "execute_result"
    }
   ],
   "source": [
    "df.isna().sum()"
   ]
  },
  {
   "cell_type": "code",
   "execution_count": 98,
   "id": "650dc96a",
   "metadata": {},
   "outputs": [
    {
     "data": {
      "text/plain": [
       "Employee_ID           0\n",
       "Name                  0\n",
       "Age                   0\n",
       "Department            0\n",
       "Salary                0\n",
       "Experience_Years      0\n",
       "Full_Time             0\n",
       "Joining_Date          0\n",
       "Performance_Rating    0\n",
       "dtype: int64"
      ]
     },
     "execution_count": 98,
     "metadata": {},
     "output_type": "execute_result"
    }
   ],
   "source": [
    "# Check for missing values\n",
    "df.isna().sum()"
   ]
  },
  {
   "cell_type": "code",
   "execution_count": 99,
   "id": "d8074500-9cfb-4d0f-929b-032a6f6a45e7",
   "metadata": {},
   "outputs": [
    {
     "data": {
      "text/plain": [
       "Employee_ID           0.0\n",
       "Name                  0.0\n",
       "Age                   0.0\n",
       "Department            0.0\n",
       "Salary                0.0\n",
       "Experience_Years      0.0\n",
       "Full_Time             0.0\n",
       "Joining_Date          0.0\n",
       "Performance_Rating    0.0\n",
       "dtype: float64"
      ]
     },
     "execution_count": 99,
     "metadata": {},
     "output_type": "execute_result"
    }
   ],
   "source": [
    "# Check for missing values\n",
    "df.isna().mean()*100"
   ]
  },
  {
   "cell_type": "markdown",
   "id": "dfc2cc85",
   "metadata": {},
   "source": [
    "### Filling Missing Values"
   ]
  },
  {
   "cell_type": "code",
   "execution_count": 100,
   "id": "8bdd1ff3",
   "metadata": {},
   "outputs": [],
   "source": [
    "# Fill missing Salary with the mean value\n",
    "#df['Salary'].fillna(df['Salary'].mean(), inplace=True)"
   ]
  },
  {
   "cell_type": "markdown",
   "id": "04ad3a2c",
   "metadata": {},
   "source": [
    "## 8. Removing Duplicates"
   ]
  },
  {
   "cell_type": "code",
   "execution_count": 101,
   "id": "859c65e3-6731-47ae-b0ce-89c5e2245255",
   "metadata": {},
   "outputs": [
    {
     "data": {
      "text/plain": [
       "(20, 9)"
      ]
     },
     "execution_count": 101,
     "metadata": {},
     "output_type": "execute_result"
    }
   ],
   "source": [
    "df.shape"
   ]
  },
  {
   "cell_type": "code",
   "execution_count": 102,
   "id": "f8a95d16",
   "metadata": {},
   "outputs": [],
   "source": [
    "# Remove duplicate rows\n",
    "df.drop_duplicates(inplace=True)"
   ]
  },
  {
   "cell_type": "code",
   "execution_count": 103,
   "id": "bfc7d264-d36c-44cb-a8e6-318487df0cbd",
   "metadata": {},
   "outputs": [
    {
     "data": {
      "text/plain": [
       "(20, 9)"
      ]
     },
     "execution_count": 103,
     "metadata": {},
     "output_type": "execute_result"
    }
   ],
   "source": [
    "df.shape"
   ]
  },
  {
   "cell_type": "markdown",
   "id": "4d726bc9",
   "metadata": {},
   "source": [
    "## 9. Hands-on Exercises"
   ]
  },
  {
   "cell_type": "markdown",
   "id": "89be4039",
   "metadata": {},
   "source": [
    "### Exercise 1: Select Specific Data"
   ]
  },
  {
   "cell_type": "markdown",
   "id": "9c312f92",
   "metadata": {},
   "source": [
    "1. Select the `Name` and `Department` columns.\n",
    "\n",
    "2. Select rows where employees are in the `HR` department.\n",
    "\n",
    "3. Select the first 10 rows using `.iloc`."
   ]
  },
  {
   "cell_type": "markdown",
   "id": "c90fe984",
   "metadata": {},
   "source": [
    "### Exercise 2: Filter Data"
   ]
  },
  {
   "cell_type": "markdown",
   "id": "61f8e491",
   "metadata": {},
   "source": [
    "1. Filter employees who have more than 5 years of experience.\n",
    "\n",
    "2. Filter employees in the `Marketing` department earning more than 50,000."
   ]
  },
  {
   "cell_type": "markdown",
   "id": "ccf65bfe",
   "metadata": {},
   "source": [
    "### Exercise 3: Change Data Types"
   ]
  },
  {
   "cell_type": "markdown",
   "id": "0419e002",
   "metadata": {},
   "source": [
    "1. Convert `Joining_Date` to datetime.\n",
    "\n",
    "2. Convert `Experience_Years` to float."
   ]
  },
  {
   "cell_type": "markdown",
   "id": "40d0814f",
   "metadata": {},
   "source": [
    "### Exercise 4: Handle Missing Data"
   ]
  },
  {
   "cell_type": "markdown",
   "id": "143b4ab5",
   "metadata": {},
   "source": [
    "1. Check for missing values in the dataset.\n",
    "\n",
    "2. Fill missing values in the `Salary` column with the median salary."
   ]
  },
  {
   "cell_type": "markdown",
   "id": "fb2645ba",
   "metadata": {},
   "source": [
    "### Exercise 5: Remove Duplicates"
   ]
  },
  {
   "cell_type": "markdown",
   "id": "0f2d4265",
   "metadata": {},
   "source": [
    "1. Check for duplicate rows in the dataset.\n",
    "\n",
    "2. Remove any duplicate rows and display the updated dataset."
   ]
  },
  {
   "cell_type": "code",
   "execution_count": 104,
   "id": "83a27341-6668-4803-ae0a-5ee03eb8da7a",
   "metadata": {},
   "outputs": [
    {
     "data": {
      "text/html": [
       "<div>\n",
       "<style scoped>\n",
       "    .dataframe tbody tr th:only-of-type {\n",
       "        vertical-align: middle;\n",
       "    }\n",
       "\n",
       "    .dataframe tbody tr th {\n",
       "        vertical-align: top;\n",
       "    }\n",
       "\n",
       "    .dataframe thead th {\n",
       "        text-align: right;\n",
       "    }\n",
       "</style>\n",
       "<table border=\"1\" class=\"dataframe\">\n",
       "  <thead>\n",
       "    <tr style=\"text-align: right;\">\n",
       "      <th></th>\n",
       "      <th>Employee_ID</th>\n",
       "      <th>Name</th>\n",
       "      <th>Age</th>\n",
       "      <th>Department</th>\n",
       "      <th>Salary</th>\n",
       "      <th>Experience_Years</th>\n",
       "      <th>Full_Time</th>\n",
       "      <th>Joining_Date</th>\n",
       "      <th>Performance_Rating</th>\n",
       "    </tr>\n",
       "  </thead>\n",
       "  <tbody>\n",
       "    <tr>\n",
       "      <th>0</th>\n",
       "      <td>1001</td>\n",
       "      <td>Solomon Promise</td>\n",
       "      <td>29</td>\n",
       "      <td>IT</td>\n",
       "      <td>70000.0</td>\n",
       "      <td>5</td>\n",
       "      <td>True</td>\n",
       "      <td>2010-01-01</td>\n",
       "      <td>3</td>\n",
       "    </tr>\n",
       "    <tr>\n",
       "      <th>1</th>\n",
       "      <td>1002</td>\n",
       "      <td>Bob Smith</td>\n",
       "      <td>35</td>\n",
       "      <td>HR</td>\n",
       "      <td>55000.0</td>\n",
       "      <td>7</td>\n",
       "      <td>True</td>\n",
       "      <td>2011-01-01</td>\n",
       "      <td>4</td>\n",
       "    </tr>\n",
       "    <tr>\n",
       "      <th>2</th>\n",
       "      <td>1003</td>\n",
       "      <td>Charlie Brown</td>\n",
       "      <td>42</td>\n",
       "      <td>Finance</td>\n",
       "      <td>80000.0</td>\n",
       "      <td>15</td>\n",
       "      <td>True</td>\n",
       "      <td>2012-01-01</td>\n",
       "      <td>5</td>\n",
       "    </tr>\n",
       "    <tr>\n",
       "      <th>3</th>\n",
       "      <td>1004</td>\n",
       "      <td>David Wilson</td>\n",
       "      <td>30</td>\n",
       "      <td>IT</td>\n",
       "      <td>72000.0</td>\n",
       "      <td>6</td>\n",
       "      <td>False</td>\n",
       "      <td>2012-12-31</td>\n",
       "      <td>3</td>\n",
       "    </tr>\n",
       "    <tr>\n",
       "      <th>4</th>\n",
       "      <td>1005</td>\n",
       "      <td>Eva Adams</td>\n",
       "      <td>28</td>\n",
       "      <td>Marketing</td>\n",
       "      <td>50000.0</td>\n",
       "      <td>3</td>\n",
       "      <td>True</td>\n",
       "      <td>2013-12-31</td>\n",
       "      <td>2</td>\n",
       "    </tr>\n",
       "    <tr>\n",
       "      <th>5</th>\n",
       "      <td>1006</td>\n",
       "      <td>Frank White</td>\n",
       "      <td>50</td>\n",
       "      <td>Finance</td>\n",
       "      <td>85000.0</td>\n",
       "      <td>20</td>\n",
       "      <td>True</td>\n",
       "      <td>2014-12-31</td>\n",
       "      <td>5</td>\n",
       "    </tr>\n",
       "    <tr>\n",
       "      <th>6</th>\n",
       "      <td>1007</td>\n",
       "      <td>Grace Hall</td>\n",
       "      <td>26</td>\n",
       "      <td>HR</td>\n",
       "      <td>53000.0</td>\n",
       "      <td>2</td>\n",
       "      <td>False</td>\n",
       "      <td>2015-12-31</td>\n",
       "      <td>2</td>\n",
       "    </tr>\n",
       "    <tr>\n",
       "      <th>7</th>\n",
       "      <td>1008</td>\n",
       "      <td>Henry Lewis</td>\n",
       "      <td>40</td>\n",
       "      <td>IT</td>\n",
       "      <td>76000.0</td>\n",
       "      <td>12</td>\n",
       "      <td>True</td>\n",
       "      <td>2016-12-30</td>\n",
       "      <td>4</td>\n",
       "    </tr>\n",
       "    <tr>\n",
       "      <th>8</th>\n",
       "      <td>1009</td>\n",
       "      <td>Ivy Scott</td>\n",
       "      <td>32</td>\n",
       "      <td>Marketing</td>\n",
       "      <td>51000.0</td>\n",
       "      <td>4</td>\n",
       "      <td>False</td>\n",
       "      <td>2017-12-30</td>\n",
       "      <td>3</td>\n",
       "    </tr>\n",
       "    <tr>\n",
       "      <th>9</th>\n",
       "      <td>1010</td>\n",
       "      <td>Jack Carter</td>\n",
       "      <td>38</td>\n",
       "      <td>Finance</td>\n",
       "      <td>83000.0</td>\n",
       "      <td>18</td>\n",
       "      <td>True</td>\n",
       "      <td>2018-12-30</td>\n",
       "      <td>5</td>\n",
       "    </tr>\n",
       "  </tbody>\n",
       "</table>\n",
       "</div>"
      ],
      "text/plain": [
       "   Employee_ID             Name  Age Department   Salary  Experience_Years  \\\n",
       "0         1001  Solomon Promise   29         IT  70000.0                 5   \n",
       "1         1002        Bob Smith   35         HR  55000.0                 7   \n",
       "2         1003    Charlie Brown   42    Finance  80000.0                15   \n",
       "3         1004     David Wilson   30         IT  72000.0                 6   \n",
       "4         1005        Eva Adams   28  Marketing  50000.0                 3   \n",
       "5         1006      Frank White   50    Finance  85000.0                20   \n",
       "6         1007       Grace Hall   26         HR  53000.0                 2   \n",
       "7         1008      Henry Lewis   40         IT  76000.0                12   \n",
       "8         1009        Ivy Scott   32  Marketing  51000.0                 4   \n",
       "9         1010      Jack Carter   38    Finance  83000.0                18   \n",
       "\n",
       "   Full_Time Joining_Date  Performance_Rating  \n",
       "0       True   2010-01-01                   3  \n",
       "1       True   2011-01-01                   4  \n",
       "2       True   2012-01-01                   5  \n",
       "3      False   2012-12-31                   3  \n",
       "4       True   2013-12-31                   2  \n",
       "5       True   2014-12-31                   5  \n",
       "6      False   2015-12-31                   2  \n",
       "7       True   2016-12-30                   4  \n",
       "8      False   2017-12-30                   3  \n",
       "9       True   2018-12-30                   5  "
      ]
     },
     "execution_count": 104,
     "metadata": {},
     "output_type": "execute_result"
    }
   ],
   "source": [
    "cols=['Name', 'Department']\n",
    "df[cols]\n",
    "df[df[\"Department\"] == \"HR\"]\n",
    "df.iloc[0:10]"
   ]
  },
  {
   "cell_type": "code",
   "execution_count": 106,
   "id": "04753226-d537-4735-b4cf-047e9ef69a1f",
   "metadata": {},
   "outputs": [
    {
     "name": "stdout",
     "output_type": "stream",
     "text": [
      "Selected Columns:\n",
      "               Name Department\n",
      "0  Solomon Promise         IT\n",
      "1        Bob Smith         HR\n",
      "2    Charlie Brown    Finance\n",
      "3     David Wilson         IT\n",
      "4        Eva Adams  Marketing\n",
      "\n",
      "Employees in HR Department:\n",
      "     Employee_ID           Name  Age Department   Salary  Experience_Years  \\\n",
      "1          1002      Bob Smith   35         HR  55000.0                 7   \n",
      "6          1007     Grace Hall   26         HR  53000.0                 2   \n",
      "10         1011  Karen Roberts   45         HR  54000.0                 5   \n",
      "14         1015    Olivia Hill   36         HR  56000.0                 6   \n",
      "18         1019   Steve Martin   48         HR  57000.0                10   \n",
      "\n",
      "    Full_Time Joining_Date  Performance_Rating  \n",
      "1        True   2011-01-01                   4  \n",
      "6       False   2015-12-31                   2  \n",
      "10       True   2019-12-30                   3  \n",
      "14       True   2023-12-29                   3  \n",
      "18      False   2027-12-28                   3  \n",
      "\n",
      "First 10 Rows:\n",
      "    Employee_ID             Name  Age Department   Salary  Experience_Years  \\\n",
      "0         1001  Solomon Promise   29         IT  70000.0                 5   \n",
      "1         1002        Bob Smith   35         HR  55000.0                 7   \n",
      "2         1003    Charlie Brown   42    Finance  80000.0                15   \n",
      "3         1004     David Wilson   30         IT  72000.0                 6   \n",
      "4         1005        Eva Adams   28  Marketing  50000.0                 3   \n",
      "5         1006      Frank White   50    Finance  85000.0                20   \n",
      "6         1007       Grace Hall   26         HR  53000.0                 2   \n",
      "7         1008      Henry Lewis   40         IT  76000.0                12   \n",
      "8         1009        Ivy Scott   32  Marketing  51000.0                 4   \n",
      "9         1010      Jack Carter   38    Finance  83000.0                18   \n",
      "\n",
      "   Full_Time Joining_Date  Performance_Rating  \n",
      "0       True   2010-01-01                   3  \n",
      "1       True   2011-01-01                   4  \n",
      "2       True   2012-01-01                   5  \n",
      "3      False   2012-12-31                   3  \n",
      "4       True   2013-12-31                   2  \n",
      "5       True   2014-12-31                   5  \n",
      "6      False   2015-12-31                   2  \n",
      "7       True   2016-12-30                   4  \n",
      "8      False   2017-12-30                   3  \n",
      "9       True   2018-12-30                   5  \n"
     ]
    }
   ],
   "source": [
    "# 1. Select the `Name` and `Department` columns\n",
    "selected_columns = df[[\"Name\", \"Department\"]]\n",
    "print(\"Selected Columns:\\n\", selected_columns.head())\n",
    "\n",
    "# 2. Select rows where employees are in the `HR` department\n",
    "hr_employees = df[df[\"Department\"] == \"HR\"]\n",
    "print(\"\\nEmployees in HR Department:\\n\", hr_employees)\n",
    "\n",
    "# 3. Select the first 10 rows using `.iloc`\n",
    "first_10_rows = df.iloc[:10]\n",
    "print(\"\\nFirst 10 Rows:\\n\", first_10_rows)"
   ]
  },
  {
   "cell_type": "code",
   "execution_count": null,
   "id": "0672191d-16c2-4d07-abe5-c0bff448a646",
   "metadata": {},
   "outputs": [],
   "source": [
    "import pandas as pd\n",
    "\n",
    "# Corrected file path with the updated file name\n",
    "file_path = r\"C:\\Users\\isigh\\OneDrive\\Documents\\purdue\\employee_records.csv\"\n",
    "\n",
    "# Try reading the file\n",
    "try:\n",
    "    df = pd.read_csv(file_path)\n",
    "    print(\"File loaded successfully!\\n\")\n",
    "    \n",
    "    # 1. Select the `Name` and `Department` columns\n",
    "    selected_columns = df[[\"Name\", \"Department\"]]\n",
    "    print(\"Selected Columns:\\n\", selected_columns.head())\n",
    "\n",
    "    # 2. Select rows where employees are in the `HR` department\n",
    "    hr_employees = df[df[\"Department\"] == \"HR\"]\n",
    "    print(\"\\nEmployees in HR Department:\\n\", hr_employees)\n",
    "\n",
    "    # 3. Select the first 10 rows using `.iloc`\n",
    "    first_10_rows = df.iloc[:10]\n",
    "    print(\"\\nFirst 10 Rows:\\n\", first_10_rows)"
   ]
  },
  {
   "cell_type": "code",
   "execution_count": null,
   "id": "15214869-e5ba-4ae6-b189-89e46b9db9a5",
   "metadata": {},
   "outputs": [],
   "source": []
  }
 ],
 "metadata": {
  "kernelspec": {
   "display_name": "Python 3 (ipykernel)",
   "language": "python",
   "name": "python3"
  },
  "language_info": {
   "codemirror_mode": {
    "name": "ipython",
    "version": 3
   },
   "file_extension": ".py",
   "mimetype": "text/x-python",
   "name": "python",
   "nbconvert_exporter": "python",
   "pygments_lexer": "ipython3",
   "version": "3.12.7"
  }
 },
 "nbformat": 4,
 "nbformat_minor": 5
}
