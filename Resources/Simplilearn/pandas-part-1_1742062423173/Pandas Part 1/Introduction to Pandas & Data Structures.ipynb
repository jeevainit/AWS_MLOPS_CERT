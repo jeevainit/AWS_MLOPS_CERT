{
 "cells": [
  {
   "cell_type": "markdown",
   "id": "5ecafbf5-03ef-4308-9ef8-1a8a5ce23381",
   "metadata": {},
   "source": [
    "# **Introduction to Pandas**"
   ]
  },
  {
   "cell_type": "markdown",
   "id": "2fde125a-191f-4227-9877-11b34fe29a53",
   "metadata": {},
   "source": [
    "## __Objective:__\n",
    "\n",
    "Understand Pandas and its core data structures: Series and DataFrame. Learn how to create, access, and manipulate these structures.\n",
    "\n",
    "\n",
    "## __Agenda__\n",
    "- Fundamentals of Pandas\n",
    "  * Purpose of Pandas\n",
    "  * Features of Pandas\n",
    "- Data Structures\n",
    "- Introduction to Series\n",
    "- Introduction to Pandas DataFrame\n",
    "  * Creating a DataFrame Using Different Methods\n",
    "  * Accessing the DataFrame\n",
    "  * Understanding DataFrame Basics"
   ]
  },
  {
   "cell_type": "markdown",
   "id": "969e418d-3afc-4afb-bfb1-7ffdb4289043",
   "metadata": {},
   "source": [
    "**1. What is Pandas? Why is it Useful?**\n",
    "\n",
    "**Overview:**\n",
    "\n",
    "Pandas is a Python library built on top of NumPy and is used for data manipulation and analysis. It provides powerful tools to work with structured data efficiently. Businesses, researchers, and data professionals use Pandas to clean, transform, and analyze datasets.\n",
    "\n",
    "- It introduces data structures like DataFrame and Series that make working with structured data more efficient.\n",
    "\n",
    "**Key Benefits:**\n",
    "\n",
    "* Easy data handling with DataFrames and Series\n",
    "\n",
    "* Fast and efficient data manipulation\n",
    "\n",
    "* Supports data import/export from multiple file formats\n",
    "\n",
    "* Integrated with NumPy and other data science libraries\n"
   ]
  },
  {
   "cell_type": "code",
   "execution_count": null,
   "id": "4d579e8b-4dd2-471c-bfc9-fc85b912bf83",
   "metadata": {},
   "outputs": [],
   "source": []
  },
  {
   "cell_type": "markdown",
   "id": "70d57ab7-efca-47d1-a187-dee7ce41205c",
   "metadata": {},
   "source": [
    "**2. Installing Pandas**\n",
    "\n",
    "Ensure you have Pandas installed before proceeding."
   ]
  },
  {
   "cell_type": "code",
   "execution_count": null,
   "id": "9077eca7-f2d9-41a2-83fe-a6e308d30feb",
   "metadata": {},
   "outputs": [],
   "source": [
    "pip install pandas"
   ]
  },
  {
   "cell_type": "code",
   "execution_count": 1,
   "id": "604e22d5-388e-43fb-95db-509c0609fcf4",
   "metadata": {},
   "outputs": [],
   "source": [
    "import pandas as pd"
   ]
  },
  {
   "cell_type": "markdown",
   "id": "a923d815-6bba-465b-ad7e-6e4c694e4d16",
   "metadata": {},
   "source": [
    "**3. Understanding Pandas Data Structures**\n",
    "\n",
    "Pandas provides two main data structures:"
   ]
  },
  {
   "cell_type": "markdown",
   "id": "cddf40b0-789b-4e13-946d-160d616cad77",
   "metadata": {},
   "source": [
    "The two main libraries of Pandas data structure are:\n",
    "![link text](https://labcontent.simplicdn.net/data-content/content-assets/Data_and_AI/ADSP_Images/Lesson_04_Working_with_Pandas/1_Introduction_to_Pandas/Data_Structures.png)"
   ]
  },
  {
   "cell_type": "markdown",
   "id": "fcab51bf-11b3-438f-8118-870e3c12512a",
   "metadata": {},
   "source": [
    "**A. Series (1D Data Structure)**\n",
    "\n",
    "A Series is a one-dimensional labeled array that can hold any data type (integers, floats, strings, etc.). Think of it as a single column in a spreadsheet."
   ]
  },
  {
   "cell_type": "markdown",
   "id": "f6807849-b22c-4eb1-adb1-530cdfb418bc",
   "metadata": {},
   "source": [
    "It can be created with different data inputs:\n",
    "![link text](https://labcontent.simplicdn.net/data-content/content-assets/Data_and_AI/ADSP_Images/Updated_Images/Lesson_4/4_01/Introduction_to_Series.png)"
   ]
  },
  {
   "cell_type": "markdown",
   "id": "796d98a4-edb7-46a8-b12d-755ba1d482c6",
   "metadata": {},
   "source": [
    "`Creating a series from a list`"
   ]
  },
  {
   "cell_type": "code",
   "execution_count": 5,
   "id": "2f273a1e-0311-43d8-8411-f3afacdccd1c",
   "metadata": {},
   "outputs": [
    {
     "data": {
      "text/plain": [
       "[10, 20, 30, 40, 50]"
      ]
     },
     "execution_count": 5,
     "metadata": {},
     "output_type": "execute_result"
    }
   ],
   "source": [
    "data = [10, 20, 30, 40, 50]\n",
    "data"
   ]
  },
  {
   "cell_type": "code",
   "execution_count": 6,
   "id": "2dc9bb7a-2280-4575-ad3c-359d7840b97f",
   "metadata": {},
   "outputs": [],
   "source": [
    "import numpy as np"
   ]
  },
  {
   "cell_type": "code",
   "execution_count": 7,
   "id": "0c9910c0-7dbf-4907-bec6-27e959f0cbfb",
   "metadata": {},
   "outputs": [
    {
     "data": {
      "text/plain": [
       "array([10, 20, 30, 40, 50])"
      ]
     },
     "execution_count": 7,
     "metadata": {},
     "output_type": "execute_result"
    }
   ],
   "source": [
    "array = np.array(data)\n",
    "array"
   ]
  },
  {
   "cell_type": "code",
   "execution_count": 9,
   "id": "a6077ab9-01e8-48fe-bcab-3a0591558211",
   "metadata": {},
   "outputs": [
    {
     "name": "stdout",
     "output_type": "stream",
     "text": [
      "0    10\n",
      "1    20\n",
      "2    30\n",
      "3    40\n",
      "4    50\n",
      "dtype: int64\n"
     ]
    }
   ],
   "source": [
    "series = pd.Series(data)\n",
    "print(series)"
   ]
  },
  {
   "cell_type": "markdown",
   "id": "9ed94167-e2a0-467b-8e4f-4b4f3661b931",
   "metadata": {},
   "source": [
    "Creating a Series with Custom Indexes:"
   ]
  },
  {
   "cell_type": "code",
   "execution_count": 10,
   "id": "62f62ed9-cb22-4db7-bb38-4a2d0b4ed0d5",
   "metadata": {},
   "outputs": [
    {
     "name": "stdout",
     "output_type": "stream",
     "text": [
      "Monday       150\n",
      "Tuesday      155\n",
      "Wednesday    160\n",
      "Thursday     162\n",
      "Friday       158\n",
      "dtype: int64\n"
     ]
    }
   ],
   "source": [
    "stock_prices = pd.Series([150, 155, 160, 162, 158], \n",
    "                         index=[\"Monday\", \"Tuesday\", \"Wednesday\", \"Thursday\", \"Friday\"])\n",
    "print(stock_prices)"
   ]
  },
  {
   "cell_type": "markdown",
   "id": "c7fd30b0-4874-459c-9895-b7a1ff2ac8a4",
   "metadata": {},
   "source": [
    "Creating a Series from a Dictionary:"
   ]
  },
  {
   "cell_type": "code",
   "execution_count": 11,
   "id": "bb58bc00-c521-4e26-8ed4-7e4d79914e51",
   "metadata": {},
   "outputs": [
    {
     "data": {
      "text/plain": [
       "{'Jan': 2000, 'Feb': 3000, 'Mar': 2500}"
      ]
     },
     "execution_count": 11,
     "metadata": {},
     "output_type": "execute_result"
    }
   ],
   "source": [
    "sales = {\"Jan\": 2000, \"Feb\": 3000, \"Mar\": 2500}\n",
    "sales"
   ]
  },
  {
   "cell_type": "code",
   "execution_count": 12,
   "id": "016e0b2e-4f6c-4e09-b5f7-793686b67b91",
   "metadata": {},
   "outputs": [
    {
     "name": "stdout",
     "output_type": "stream",
     "text": [
      "Jan    2000\n",
      "Feb    3000\n",
      "Mar    2500\n",
      "dtype: int64\n"
     ]
    }
   ],
   "source": [
    "sales_series = pd.Series(sales)\n",
    "print(sales_series)"
   ]
  },
  {
   "cell_type": "markdown",
   "id": "9553daea-6425-404d-a5ef-5babb9c6f63c",
   "metadata": {},
   "source": [
    "Creating a Series from a NumPy Array:"
   ]
  },
  {
   "cell_type": "code",
   "execution_count": 13,
   "id": "4cd60100-7410-4b9f-88c3-b5761d2c2946",
   "metadata": {},
   "outputs": [
    {
     "data": {
      "text/plain": [
       "array([ 5, 10, 15, 20])"
      ]
     },
     "execution_count": 13,
     "metadata": {},
     "output_type": "execute_result"
    }
   ],
   "source": [
    "import numpy as np\n",
    "arr = np.array([5, 10, 15, 20])\n",
    "arr"
   ]
  },
  {
   "cell_type": "code",
   "execution_count": 14,
   "id": "b5157359-4346-4416-aec2-d89f508a2a3c",
   "metadata": {},
   "outputs": [
    {
     "name": "stdout",
     "output_type": "stream",
     "text": [
      "0     5\n",
      "1    10\n",
      "2    15\n",
      "3    20\n",
      "dtype: int32\n"
     ]
    }
   ],
   "source": [
    "num_series = pd.Series(arr)\n",
    "print(num_series)"
   ]
  },
  {
   "cell_type": "markdown",
   "id": "75c71fc3-4863-4df8-82cd-63c21af9064b",
   "metadata": {},
   "source": [
    "#### __B. DataFrame (2D Data Structure)__\n",
    "\n",
    "A DataFrame is a two-dimensional table similar to an Excel spreadsheet or SQL table. It consists of rows and columns.\n",
    "\n",
    "It is a primary data structure in the Pandas library, providing a versatile and efficient way to handle and manipulate data in Python.\n",
    "\n",
    "![link text](https://labcontent.simplicdn.net/data-content/content-assets/Data_and_AI/ADSP_Images/Lesson_04_Working_with_Pandas/2_Introduction_to_DataFrame/Introduction_to_Pandas_DataFrame.png)"
   ]
  },
  {
   "cell_type": "markdown",
   "id": "bead03df-4215-4ee3-800c-89edf7576bc9",
   "metadata": {},
   "source": [
    "### __Key Features:__\n",
    "- __Tabular structure:__ The DataFrame is organized as a table with rows and columns, similar to a spreadsheet or SQL table.\n",
    "\n",
    "- __Labeled axes:__ Both rows and columns are labeled, allowing for easy indexing and referencing of data.\n",
    "\n",
    "- __Heterogeneous data types:__ Each column in a DataFrame can contain different types of data, such as integers, floats, strings, or even complex objects.\n",
    "\n",
    "- __Versatility:__ DataFrames can store and handle a wide range of data formats, including CSV, Excel, SQL databases, and more.\n",
    "\n",
    "- __Data alignment:__ Operations on DataFrames are designed to handle missing values gracefully, aligning data based on labels."
   ]
  },
  {
   "cell_type": "markdown",
   "id": "52024dc2-54db-48c3-a5ea-a45a0e9abbf5",
   "metadata": {},
   "source": [
    "### __1.1 Creating a DataFrame Using Different Methods__\n",
    "Creating a Pandas DataFrame is a fundamental step in data analysis and manipulation.\n",
    "- Diverse methods are available within Pandas to generate a DataFrame, addressing various data sources and structures.\n",
    "- Data, whether in Python dictionaries, lists, NumPy arrays, or external files such as CSV and Excel, can be seamlessly transformed into a structured tabular format by Pandas."
   ]
  },
  {
   "cell_type": "markdown",
   "id": "1b7dcbf8-ed82-4e47-bec2-43e64f085783",
   "metadata": {},
   "source": [
    "Creating a DataFrame from a Dictionary:"
   ]
  },
  {
   "cell_type": "code",
   "execution_count": 16,
   "id": "dc2758cc-9691-48d7-990a-bba9c3f0bb17",
   "metadata": {},
   "outputs": [
    {
     "data": {
      "text/plain": [
       "{'Name': ['Alice', 'Bob', 'Charlie'],\n",
       " 'Age': [25, 30, 35],\n",
       " 'City': ['New York', 'Los Angeles', 'Chicago']}"
      ]
     },
     "execution_count": 16,
     "metadata": {},
     "output_type": "execute_result"
    }
   ],
   "source": [
    "data = {\n",
    "    \"Name\": [\"Alice\", \"Bob\", \"Charlie\"],\n",
    "    \"Age\": [25, 30, 35],\n",
    "    \"City\": [\"New York\", \"Los Angeles\", \"Chicago\"]\n",
    "}\n",
    "data"
   ]
  },
  {
   "cell_type": "code",
   "execution_count": 18,
   "id": "cc414404-2531-43e2-9070-89897d74b364",
   "metadata": {},
   "outputs": [
    {
     "name": "stdout",
     "output_type": "stream",
     "text": [
      "      Name  Age         City\n",
      "0    Alice   25     New York\n",
      "1      Bob   30  Los Angeles\n",
      "2  Charlie   35      Chicago\n"
     ]
    }
   ],
   "source": [
    "df = pd.DataFrame(data)\n",
    "print(df)"
   ]
  },
  {
   "cell_type": "code",
   "execution_count": 19,
   "id": "88e73caa-b6ac-4675-b2a9-a81c2859ab76",
   "metadata": {},
   "outputs": [
    {
     "data": {
      "text/html": [
       "<div>\n",
       "<style scoped>\n",
       "    .dataframe tbody tr th:only-of-type {\n",
       "        vertical-align: middle;\n",
       "    }\n",
       "\n",
       "    .dataframe tbody tr th {\n",
       "        vertical-align: top;\n",
       "    }\n",
       "\n",
       "    .dataframe thead th {\n",
       "        text-align: right;\n",
       "    }\n",
       "</style>\n",
       "<table border=\"1\" class=\"dataframe\">\n",
       "  <thead>\n",
       "    <tr style=\"text-align: right;\">\n",
       "      <th></th>\n",
       "      <th>Name</th>\n",
       "      <th>Age</th>\n",
       "      <th>City</th>\n",
       "    </tr>\n",
       "  </thead>\n",
       "  <tbody>\n",
       "    <tr>\n",
       "      <th>0</th>\n",
       "      <td>Alice</td>\n",
       "      <td>25</td>\n",
       "      <td>New York</td>\n",
       "    </tr>\n",
       "    <tr>\n",
       "      <th>1</th>\n",
       "      <td>Bob</td>\n",
       "      <td>30</td>\n",
       "      <td>Los Angeles</td>\n",
       "    </tr>\n",
       "    <tr>\n",
       "      <th>2</th>\n",
       "      <td>Charlie</td>\n",
       "      <td>35</td>\n",
       "      <td>Chicago</td>\n",
       "    </tr>\n",
       "  </tbody>\n",
       "</table>\n",
       "</div>"
      ],
      "text/plain": [
       "      Name  Age         City\n",
       "0    Alice   25     New York\n",
       "1      Bob   30  Los Angeles\n",
       "2  Charlie   35      Chicago"
      ]
     },
     "execution_count": 19,
     "metadata": {},
     "output_type": "execute_result"
    }
   ],
   "source": [
    "df"
   ]
  },
  {
   "cell_type": "code",
   "execution_count": 21,
   "id": "dea61a08-49b7-4966-997e-e99fbcc3cba0",
   "metadata": {},
   "outputs": [
    {
     "data": {
      "text/plain": [
       "[['Alice', 25, 'New York'],\n",
       " ['Bob', 30, 'Los Angeles'],\n",
       " ['Charlie', 35, 'Chicago']]"
      ]
     },
     "execution_count": 21,
     "metadata": {},
     "output_type": "execute_result"
    }
   ],
   "source": [
    "data = [[\"Alice\", 25, \"New York\"], \n",
    "        [\"Bob\", 30, \"Los Angeles\"], \n",
    "        [\"Charlie\", 35, \"Chicago\"]]\n",
    "\n",
    "data"
   ]
  },
  {
   "cell_type": "code",
   "execution_count": 30,
   "id": "c27550ac-6923-4161-9e88-74a117070297",
   "metadata": {},
   "outputs": [
    {
     "data": {
      "text/html": [
       "<div>\n",
       "<style scoped>\n",
       "    .dataframe tbody tr th:only-of-type {\n",
       "        vertical-align: middle;\n",
       "    }\n",
       "\n",
       "    .dataframe tbody tr th {\n",
       "        vertical-align: top;\n",
       "    }\n",
       "\n",
       "    .dataframe thead th {\n",
       "        text-align: right;\n",
       "    }\n",
       "</style>\n",
       "<table border=\"1\" class=\"dataframe\">\n",
       "  <thead>\n",
       "    <tr style=\"text-align: right;\">\n",
       "      <th></th>\n",
       "      <th>Name</th>\n",
       "      <th>Age</th>\n",
       "      <th>City</th>\n",
       "    </tr>\n",
       "  </thead>\n",
       "  <tbody>\n",
       "    <tr>\n",
       "      <th>0</th>\n",
       "      <td>Alice</td>\n",
       "      <td>25</td>\n",
       "      <td>New York</td>\n",
       "    </tr>\n",
       "    <tr>\n",
       "      <th>1</th>\n",
       "      <td>Bob</td>\n",
       "      <td>30</td>\n",
       "      <td>Los Angeles</td>\n",
       "    </tr>\n",
       "    <tr>\n",
       "      <th>2</th>\n",
       "      <td>Charlie</td>\n",
       "      <td>35</td>\n",
       "      <td>Chicago</td>\n",
       "    </tr>\n",
       "  </tbody>\n",
       "</table>\n",
       "</div>"
      ],
      "text/plain": [
       "      Name  Age         City\n",
       "0    Alice   25     New York\n",
       "1      Bob   30  Los Angeles\n",
       "2  Charlie   35      Chicago"
      ]
     },
     "execution_count": 30,
     "metadata": {},
     "output_type": "execute_result"
    }
   ],
   "source": [
    "df = pd.DataFrame(data, columns=[\"Name\", \"Age\", \"City\"])\n",
    "df"
   ]
  },
  {
   "cell_type": "markdown",
   "id": "599da60f-b747-4eaf-bddc-867da49a2142",
   "metadata": {},
   "source": [
    "`Zip`"
   ]
  },
  {
   "cell_type": "code",
   "execution_count": 53,
   "id": "5b0f5a77-b60d-479f-95ec-87b0ccd4f452",
   "metadata": {},
   "outputs": [
    {
     "data": {
      "text/plain": [
       "[('Alice', 25), ('Bob', 30), ('Charlie', 35)]"
      ]
     },
     "execution_count": 53,
     "metadata": {},
     "output_type": "execute_result"
    }
   ],
   "source": [
    "names = [\"Alice\", \"Bob\", \"Charlie\"]\n",
    "ages = [25, 30, 35]\n",
    "\n",
    "list(zip(names,ages))"
   ]
  },
  {
   "cell_type": "code",
   "execution_count": 34,
   "id": "40d4a08e-8883-43ad-b507-c4c53d999548",
   "metadata": {},
   "outputs": [
    {
     "name": "stdout",
     "output_type": "stream",
     "text": [
      "      Name  Age\n",
      "0    Alice   25\n",
      "1      Bob   30\n",
      "2  Charlie   35\n"
     ]
    }
   ],
   "source": [
    "df = pd.DataFrame(list(zip(names, ages)), columns=[\"Name\", \"Age\"])\n",
    "print(df)"
   ]
  },
  {
   "cell_type": "code",
   "execution_count": 70,
   "id": "224a6016-49a4-4aa1-8d32-abdd8d4b2d58",
   "metadata": {},
   "outputs": [
    {
     "data": {
      "text/plain": [
       "{'Employee ID': [101, 102, 103, 104, 105, 106, 107, 108, 109, 110],\n",
       " 'Name': ['John Doe',\n",
       "  'Jane Smith',\n",
       "  'Emily Davis',\n",
       "  'Michael Brown',\n",
       "  'Mary Hey',\n",
       "  'John Mark',\n",
       "  'Joy Williams',\n",
       "  'Esther Solomon',\n",
       "  'Mattew Philips',\n",
       "  'Solomon Promise'],\n",
       " 'Department': ['IT',\n",
       "  'HR',\n",
       "  'Finance',\n",
       "  'Marketing',\n",
       "  'IT',\n",
       "  'HR',\n",
       "  'Finance',\n",
       "  'MarketingIT',\n",
       "  'HR',\n",
       "  'IT'],\n",
       " 'Salary': [75000,\n",
       "  80000,\n",
       "  65000,\n",
       "  72000,\n",
       "  75000,\n",
       "  80000,\n",
       "  65000,\n",
       "  72000,\n",
       "  75000,\n",
       "  80000]}"
      ]
     },
     "execution_count": 70,
     "metadata": {},
     "output_type": "execute_result"
    }
   ],
   "source": [
    "employee_data = {\n",
    "    \"Employee ID\": [101, 102, 103, 104, 105,106,107,108,109,110],\n",
    "    \"Name\": [\"John Doe\", \"Jane Smith\", \"Emily Davis\", \"Michael Brown\", \"Mary Hey\",\n",
    "             \"John Mark\", \"Joy Williams\", \"Esther Solomon\", \"Mattew Philips\", \"Solomon Promise\" ],\n",
    "    \"Department\": [\"IT\", \"HR\", \"Finance\", \"Marketing\", \"IT\", \"HR\", \"Finance\", \"Marketing\"\n",
    "                  \"IT\", \"HR\", 'IT'],\n",
    "    \"Salary\": [75000, 80000, 65000, 72000, 75000, 80000, 65000, 72000,75000, 80000]\n",
    "}\n",
    "\n",
    "\n",
    "employee_data"
   ]
  },
  {
   "cell_type": "code",
   "execution_count": 71,
   "id": "ccdb9586-6ee9-42c8-b7d1-939557844e0f",
   "metadata": {},
   "outputs": [
    {
     "name": "stdout",
     "output_type": "stream",
     "text": [
      "   Employee ID             Name   Department  Salary\n",
      "0          101         John Doe           IT   75000\n",
      "1          102       Jane Smith           HR   80000\n",
      "2          103      Emily Davis      Finance   65000\n",
      "3          104    Michael Brown    Marketing   72000\n",
      "4          105         Mary Hey           IT   75000\n",
      "5          106        John Mark           HR   80000\n",
      "6          107     Joy Williams      Finance   65000\n",
      "7          108   Esther Solomon  MarketingIT   72000\n",
      "8          109   Mattew Philips           HR   75000\n",
      "9          110  Solomon Promise           IT   80000\n"
     ]
    }
   ],
   "source": [
    "employees_df = pd.DataFrame(employee_data)\n",
    "print(employees_df)"
   ]
  },
  {
   "cell_type": "code",
   "execution_count": 72,
   "id": "f7bf0933-8cc1-49be-bad2-658b43e46d1e",
   "metadata": {},
   "outputs": [
    {
     "data": {
      "text/html": [
       "<div>\n",
       "<style scoped>\n",
       "    .dataframe tbody tr th:only-of-type {\n",
       "        vertical-align: middle;\n",
       "    }\n",
       "\n",
       "    .dataframe tbody tr th {\n",
       "        vertical-align: top;\n",
       "    }\n",
       "\n",
       "    .dataframe thead th {\n",
       "        text-align: right;\n",
       "    }\n",
       "</style>\n",
       "<table border=\"1\" class=\"dataframe\">\n",
       "  <thead>\n",
       "    <tr style=\"text-align: right;\">\n",
       "      <th></th>\n",
       "      <th>Employee ID</th>\n",
       "      <th>Name</th>\n",
       "      <th>Department</th>\n",
       "      <th>Salary</th>\n",
       "    </tr>\n",
       "  </thead>\n",
       "  <tbody>\n",
       "    <tr>\n",
       "      <th>0</th>\n",
       "      <td>101</td>\n",
       "      <td>John Doe</td>\n",
       "      <td>IT</td>\n",
       "      <td>75000</td>\n",
       "    </tr>\n",
       "    <tr>\n",
       "      <th>1</th>\n",
       "      <td>102</td>\n",
       "      <td>Jane Smith</td>\n",
       "      <td>HR</td>\n",
       "      <td>80000</td>\n",
       "    </tr>\n",
       "    <tr>\n",
       "      <th>2</th>\n",
       "      <td>103</td>\n",
       "      <td>Emily Davis</td>\n",
       "      <td>Finance</td>\n",
       "      <td>65000</td>\n",
       "    </tr>\n",
       "    <tr>\n",
       "      <th>3</th>\n",
       "      <td>104</td>\n",
       "      <td>Michael Brown</td>\n",
       "      <td>Marketing</td>\n",
       "      <td>72000</td>\n",
       "    </tr>\n",
       "    <tr>\n",
       "      <th>4</th>\n",
       "      <td>105</td>\n",
       "      <td>Mary Hey</td>\n",
       "      <td>IT</td>\n",
       "      <td>75000</td>\n",
       "    </tr>\n",
       "    <tr>\n",
       "      <th>5</th>\n",
       "      <td>106</td>\n",
       "      <td>John Mark</td>\n",
       "      <td>HR</td>\n",
       "      <td>80000</td>\n",
       "    </tr>\n",
       "    <tr>\n",
       "      <th>6</th>\n",
       "      <td>107</td>\n",
       "      <td>Joy Williams</td>\n",
       "      <td>Finance</td>\n",
       "      <td>65000</td>\n",
       "    </tr>\n",
       "    <tr>\n",
       "      <th>7</th>\n",
       "      <td>108</td>\n",
       "      <td>Esther Solomon</td>\n",
       "      <td>MarketingIT</td>\n",
       "      <td>72000</td>\n",
       "    </tr>\n",
       "    <tr>\n",
       "      <th>8</th>\n",
       "      <td>109</td>\n",
       "      <td>Mattew Philips</td>\n",
       "      <td>HR</td>\n",
       "      <td>75000</td>\n",
       "    </tr>\n",
       "    <tr>\n",
       "      <th>9</th>\n",
       "      <td>110</td>\n",
       "      <td>Solomon Promise</td>\n",
       "      <td>IT</td>\n",
       "      <td>80000</td>\n",
       "    </tr>\n",
       "  </tbody>\n",
       "</table>\n",
       "</div>"
      ],
      "text/plain": [
       "   Employee ID             Name   Department  Salary\n",
       "0          101         John Doe           IT   75000\n",
       "1          102       Jane Smith           HR   80000\n",
       "2          103      Emily Davis      Finance   65000\n",
       "3          104    Michael Brown    Marketing   72000\n",
       "4          105         Mary Hey           IT   75000\n",
       "5          106        John Mark           HR   80000\n",
       "6          107     Joy Williams      Finance   65000\n",
       "7          108   Esther Solomon  MarketingIT   72000\n",
       "8          109   Mattew Philips           HR   75000\n",
       "9          110  Solomon Promise           IT   80000"
      ]
     },
     "execution_count": 72,
     "metadata": {},
     "output_type": "execute_result"
    }
   ],
   "source": [
    "employees_df"
   ]
  },
  {
   "cell_type": "code",
   "execution_count": 46,
   "id": "908015ed-0039-4144-9eb9-2fbf6e5950b7",
   "metadata": {},
   "outputs": [
    {
     "data": {
      "text/plain": [
       "array([['Alice', '25', '50000'],\n",
       "       ['Bob', '30', '60000'],\n",
       "       ['Charlie', '22', '45000']], dtype='<U11')"
      ]
     },
     "execution_count": 46,
     "metadata": {},
     "output_type": "execute_result"
    }
   ],
   "source": [
    "# Creating a DataFrame from a NumPy array\n",
    "import numpy as np\n",
    "data_array = np.array([['Alice', 25, 50000],\n",
    "                       ['Bob', 30, 60000],\n",
    "                       ['Charlie', 22, 45000]])\n",
    "\n",
    "data_array"
   ]
  },
  {
   "cell_type": "code",
   "execution_count": 47,
   "id": "858b3eea-5c3a-44dc-9557-ce60c9dd5eb4",
   "metadata": {},
   "outputs": [
    {
     "data": {
      "text/html": [
       "<div>\n",
       "<style scoped>\n",
       "    .dataframe tbody tr th:only-of-type {\n",
       "        vertical-align: middle;\n",
       "    }\n",
       "\n",
       "    .dataframe tbody tr th {\n",
       "        vertical-align: top;\n",
       "    }\n",
       "\n",
       "    .dataframe thead th {\n",
       "        text-align: right;\n",
       "    }\n",
       "</style>\n",
       "<table border=\"1\" class=\"dataframe\">\n",
       "  <thead>\n",
       "    <tr style=\"text-align: right;\">\n",
       "      <th></th>\n",
       "      <th>0</th>\n",
       "      <th>1</th>\n",
       "      <th>2</th>\n",
       "    </tr>\n",
       "  </thead>\n",
       "  <tbody>\n",
       "    <tr>\n",
       "      <th>0</th>\n",
       "      <td>Alice</td>\n",
       "      <td>25</td>\n",
       "      <td>50000</td>\n",
       "    </tr>\n",
       "    <tr>\n",
       "      <th>1</th>\n",
       "      <td>Bob</td>\n",
       "      <td>30</td>\n",
       "      <td>60000</td>\n",
       "    </tr>\n",
       "    <tr>\n",
       "      <th>2</th>\n",
       "      <td>Charlie</td>\n",
       "      <td>22</td>\n",
       "      <td>45000</td>\n",
       "    </tr>\n",
       "  </tbody>\n",
       "</table>\n",
       "</div>"
      ],
      "text/plain": [
       "         0   1      2\n",
       "0    Alice  25  50000\n",
       "1      Bob  30  60000\n",
       "2  Charlie  22  45000"
      ]
     },
     "execution_count": 47,
     "metadata": {},
     "output_type": "execute_result"
    }
   ],
   "source": [
    "pd.DataFrame(data_array)"
   ]
  },
  {
   "cell_type": "code",
   "execution_count": 48,
   "id": "5e13fba9-03ed-441e-adad-404e573b600b",
   "metadata": {},
   "outputs": [
    {
     "data": {
      "text/html": [
       "<div>\n",
       "<style scoped>\n",
       "    .dataframe tbody tr th:only-of-type {\n",
       "        vertical-align: middle;\n",
       "    }\n",
       "\n",
       "    .dataframe tbody tr th {\n",
       "        vertical-align: top;\n",
       "    }\n",
       "\n",
       "    .dataframe thead th {\n",
       "        text-align: right;\n",
       "    }\n",
       "</style>\n",
       "<table border=\"1\" class=\"dataframe\">\n",
       "  <thead>\n",
       "    <tr style=\"text-align: right;\">\n",
       "      <th></th>\n",
       "      <th>Name</th>\n",
       "      <th>Age</th>\n",
       "      <th>Salary</th>\n",
       "    </tr>\n",
       "  </thead>\n",
       "  <tbody>\n",
       "    <tr>\n",
       "      <th>Mon</th>\n",
       "      <td>Alice</td>\n",
       "      <td>25</td>\n",
       "      <td>50000</td>\n",
       "    </tr>\n",
       "    <tr>\n",
       "      <th>Tue</th>\n",
       "      <td>Bob</td>\n",
       "      <td>30</td>\n",
       "      <td>60000</td>\n",
       "    </tr>\n",
       "    <tr>\n",
       "      <th>Wed</th>\n",
       "      <td>Charlie</td>\n",
       "      <td>22</td>\n",
       "      <td>45000</td>\n",
       "    </tr>\n",
       "  </tbody>\n",
       "</table>\n",
       "</div>"
      ],
      "text/plain": [
       "        Name Age Salary\n",
       "Mon    Alice  25  50000\n",
       "Tue      Bob  30  60000\n",
       "Wed  Charlie  22  45000"
      ]
     },
     "execution_count": 48,
     "metadata": {},
     "output_type": "execute_result"
    }
   ],
   "source": [
    "# Defining column names\n",
    "columns = ['Name', 'Age', 'Salary']\n",
    "index = ['Mon', 'Tue', 'Wed']\n",
    "\n",
    "df_array = pd.DataFrame(data_array, columns=columns, index = index)\n",
    "df_array"
   ]
  },
  {
   "cell_type": "markdown",
   "id": "aa963dd5-f581-4f96-9fc7-d48493e583f4",
   "metadata": {},
   "source": [
    "4. Basic DataFrame Operations\n",
    "\n",
    "A. Viewing Data"
   ]
  },
  {
   "cell_type": "code",
   "execution_count": 54,
   "id": "9b65aef1-3ce0-4b0f-98e7-01e89fdc4ccc",
   "metadata": {},
   "outputs": [
    {
     "data": {
      "text/html": [
       "<div>\n",
       "<style scoped>\n",
       "    .dataframe tbody tr th:only-of-type {\n",
       "        vertical-align: middle;\n",
       "    }\n",
       "\n",
       "    .dataframe tbody tr th {\n",
       "        vertical-align: top;\n",
       "    }\n",
       "\n",
       "    .dataframe thead th {\n",
       "        text-align: right;\n",
       "    }\n",
       "</style>\n",
       "<table border=\"1\" class=\"dataframe\">\n",
       "  <thead>\n",
       "    <tr style=\"text-align: right;\">\n",
       "      <th></th>\n",
       "      <th>Employee ID</th>\n",
       "      <th>Name</th>\n",
       "      <th>Department</th>\n",
       "      <th>Salary</th>\n",
       "    </tr>\n",
       "  </thead>\n",
       "  <tbody>\n",
       "    <tr>\n",
       "      <th>0</th>\n",
       "      <td>101</td>\n",
       "      <td>John Doe</td>\n",
       "      <td>IT</td>\n",
       "      <td>75000</td>\n",
       "    </tr>\n",
       "    <tr>\n",
       "      <th>1</th>\n",
       "      <td>102</td>\n",
       "      <td>Jane Smith</td>\n",
       "      <td>HR</td>\n",
       "      <td>80000</td>\n",
       "    </tr>\n",
       "    <tr>\n",
       "      <th>2</th>\n",
       "      <td>103</td>\n",
       "      <td>Emily Davis</td>\n",
       "      <td>Finance</td>\n",
       "      <td>65000</td>\n",
       "    </tr>\n",
       "    <tr>\n",
       "      <th>3</th>\n",
       "      <td>104</td>\n",
       "      <td>Michael Brown</td>\n",
       "      <td>Marketing</td>\n",
       "      <td>72000</td>\n",
       "    </tr>\n",
       "  </tbody>\n",
       "</table>\n",
       "</div>"
      ],
      "text/plain": [
       "   Employee ID           Name Department  Salary\n",
       "0          101       John Doe         IT   75000\n",
       "1          102     Jane Smith         HR   80000\n",
       "2          103    Emily Davis    Finance   65000\n",
       "3          104  Michael Brown  Marketing   72000"
      ]
     },
     "execution_count": 54,
     "metadata": {},
     "output_type": "execute_result"
    }
   ],
   "source": [
    "employees_df"
   ]
  },
  {
   "cell_type": "code",
   "execution_count": 63,
   "id": "501f6b34-d328-49b5-b5d9-7efb8808d94c",
   "metadata": {},
   "outputs": [
    {
     "data": {
      "text/plain": [
       "16"
      ]
     },
     "execution_count": 63,
     "metadata": {},
     "output_type": "execute_result"
    }
   ],
   "source": [
    "employees_df.size"
   ]
  },
  {
   "cell_type": "code",
   "execution_count": 61,
   "id": "bf640280-ec71-4659-9a01-f22c8433c11a",
   "metadata": {},
   "outputs": [
    {
     "data": {
      "text/plain": [
       "(5,)"
      ]
     },
     "execution_count": 61,
     "metadata": {},
     "output_type": "execute_result"
    }
   ],
   "source": [
    "stock_prices.shape"
   ]
  },
  {
   "cell_type": "code",
   "execution_count": 65,
   "id": "73b1f1a6-c20a-44ae-8734-a55cfd0baf24",
   "metadata": {},
   "outputs": [
    {
     "data": {
      "text/plain": [
       "5"
      ]
     },
     "execution_count": 65,
     "metadata": {},
     "output_type": "execute_result"
    }
   ],
   "source": [
    "stock_prices.size"
   ]
  },
  {
   "cell_type": "code",
   "execution_count": 80,
   "id": "d3b44fe5-73a4-416a-ad8f-7b8ef65564fe",
   "metadata": {},
   "outputs": [
    {
     "data": {
      "text/html": [
       "<div>\n",
       "<style scoped>\n",
       "    .dataframe tbody tr th:only-of-type {\n",
       "        vertical-align: middle;\n",
       "    }\n",
       "\n",
       "    .dataframe tbody tr th {\n",
       "        vertical-align: top;\n",
       "    }\n",
       "\n",
       "    .dataframe thead th {\n",
       "        text-align: right;\n",
       "    }\n",
       "</style>\n",
       "<table border=\"1\" class=\"dataframe\">\n",
       "  <thead>\n",
       "    <tr style=\"text-align: right;\">\n",
       "      <th></th>\n",
       "      <th>Employee ID</th>\n",
       "      <th>Name</th>\n",
       "      <th>Department</th>\n",
       "      <th>Salary</th>\n",
       "    </tr>\n",
       "  </thead>\n",
       "  <tbody>\n",
       "    <tr>\n",
       "      <th>0</th>\n",
       "      <td>101</td>\n",
       "      <td>John Doe</td>\n",
       "      <td>IT</td>\n",
       "      <td>75000</td>\n",
       "    </tr>\n",
       "    <tr>\n",
       "      <th>1</th>\n",
       "      <td>102</td>\n",
       "      <td>Jane Smith</td>\n",
       "      <td>HR</td>\n",
       "      <td>80000</td>\n",
       "    </tr>\n",
       "    <tr>\n",
       "      <th>2</th>\n",
       "      <td>103</td>\n",
       "      <td>Emily Davis</td>\n",
       "      <td>Finance</td>\n",
       "      <td>65000</td>\n",
       "    </tr>\n",
       "    <tr>\n",
       "      <th>3</th>\n",
       "      <td>104</td>\n",
       "      <td>Michael Brown</td>\n",
       "      <td>Marketing</td>\n",
       "      <td>72000</td>\n",
       "    </tr>\n",
       "    <tr>\n",
       "      <th>4</th>\n",
       "      <td>105</td>\n",
       "      <td>Mary Hey</td>\n",
       "      <td>IT</td>\n",
       "      <td>75000</td>\n",
       "    </tr>\n",
       "  </tbody>\n",
       "</table>\n",
       "</div>"
      ],
      "text/plain": [
       "   Employee ID           Name Department  Salary\n",
       "0          101       John Doe         IT   75000\n",
       "1          102     Jane Smith         HR   80000\n",
       "2          103    Emily Davis    Finance   65000\n",
       "3          104  Michael Brown  Marketing   72000\n",
       "4          105       Mary Hey         IT   75000"
      ]
     },
     "execution_count": 80,
     "metadata": {},
     "output_type": "execute_result"
    }
   ],
   "source": [
    "employees_df.head()"
   ]
  },
  {
   "cell_type": "code",
   "execution_count": 82,
   "id": "267c0823-00e1-4029-bd05-847334754a68",
   "metadata": {},
   "outputs": [
    {
     "data": {
      "text/html": [
       "<div>\n",
       "<style scoped>\n",
       "    .dataframe tbody tr th:only-of-type {\n",
       "        vertical-align: middle;\n",
       "    }\n",
       "\n",
       "    .dataframe tbody tr th {\n",
       "        vertical-align: top;\n",
       "    }\n",
       "\n",
       "    .dataframe thead th {\n",
       "        text-align: right;\n",
       "    }\n",
       "</style>\n",
       "<table border=\"1\" class=\"dataframe\">\n",
       "  <thead>\n",
       "    <tr style=\"text-align: right;\">\n",
       "      <th></th>\n",
       "      <th>Employee ID</th>\n",
       "      <th>Name</th>\n",
       "      <th>Department</th>\n",
       "      <th>Salary</th>\n",
       "    </tr>\n",
       "  </thead>\n",
       "  <tbody>\n",
       "    <tr>\n",
       "      <th>5</th>\n",
       "      <td>106</td>\n",
       "      <td>John Mark</td>\n",
       "      <td>HR</td>\n",
       "      <td>80000</td>\n",
       "    </tr>\n",
       "    <tr>\n",
       "      <th>6</th>\n",
       "      <td>107</td>\n",
       "      <td>Joy Williams</td>\n",
       "      <td>Finance</td>\n",
       "      <td>65000</td>\n",
       "    </tr>\n",
       "    <tr>\n",
       "      <th>7</th>\n",
       "      <td>108</td>\n",
       "      <td>Esther Solomon</td>\n",
       "      <td>MarketingIT</td>\n",
       "      <td>72000</td>\n",
       "    </tr>\n",
       "    <tr>\n",
       "      <th>8</th>\n",
       "      <td>109</td>\n",
       "      <td>Mattew Philips</td>\n",
       "      <td>HR</td>\n",
       "      <td>75000</td>\n",
       "    </tr>\n",
       "    <tr>\n",
       "      <th>9</th>\n",
       "      <td>110</td>\n",
       "      <td>Solomon Promise</td>\n",
       "      <td>IT</td>\n",
       "      <td>80000</td>\n",
       "    </tr>\n",
       "  </tbody>\n",
       "</table>\n",
       "</div>"
      ],
      "text/plain": [
       "   Employee ID             Name   Department  Salary\n",
       "5          106        John Mark           HR   80000\n",
       "6          107     Joy Williams      Finance   65000\n",
       "7          108   Esther Solomon  MarketingIT   72000\n",
       "8          109   Mattew Philips           HR   75000\n",
       "9          110  Solomon Promise           IT   80000"
      ]
     },
     "execution_count": 82,
     "metadata": {},
     "output_type": "execute_result"
    }
   ],
   "source": [
    "employees_df.tail()"
   ]
  },
  {
   "cell_type": "code",
   "execution_count": 84,
   "id": "ea29e0f8-3ba1-41e8-8ff8-5eda701b9dab",
   "metadata": {},
   "outputs": [
    {
     "name": "stdout",
     "output_type": "stream",
     "text": [
      "<class 'pandas.core.frame.DataFrame'>\n",
      "RangeIndex: 10 entries, 0 to 9\n",
      "Data columns (total 4 columns):\n",
      " #   Column       Non-Null Count  Dtype \n",
      "---  ------       --------------  ----- \n",
      " 0   Employee ID  10 non-null     int64 \n",
      " 1   Name         10 non-null     object\n",
      " 2   Department   10 non-null     object\n",
      " 3   Salary       10 non-null     int64 \n",
      "dtypes: int64(2), object(2)\n",
      "memory usage: 452.0+ bytes\n"
     ]
    }
   ],
   "source": [
    "employees_df.info()"
   ]
  },
  {
   "cell_type": "code",
   "execution_count": 87,
   "id": "e7051cde-6d88-4c0b-b75c-ccac40cdf4fc",
   "metadata": {},
   "outputs": [
    {
     "data": {
      "text/html": [
       "<div>\n",
       "<style scoped>\n",
       "    .dataframe tbody tr th:only-of-type {\n",
       "        vertical-align: middle;\n",
       "    }\n",
       "\n",
       "    .dataframe tbody tr th {\n",
       "        vertical-align: top;\n",
       "    }\n",
       "\n",
       "    .dataframe thead th {\n",
       "        text-align: right;\n",
       "    }\n",
       "</style>\n",
       "<table border=\"1\" class=\"dataframe\">\n",
       "  <thead>\n",
       "    <tr style=\"text-align: right;\">\n",
       "      <th></th>\n",
       "      <th>count</th>\n",
       "      <th>mean</th>\n",
       "      <th>std</th>\n",
       "      <th>min</th>\n",
       "      <th>25%</th>\n",
       "      <th>50%</th>\n",
       "      <th>75%</th>\n",
       "      <th>max</th>\n",
       "    </tr>\n",
       "  </thead>\n",
       "  <tbody>\n",
       "    <tr>\n",
       "      <th>Employee ID</th>\n",
       "      <td>10.0</td>\n",
       "      <td>105.5</td>\n",
       "      <td>3.027650</td>\n",
       "      <td>101.0</td>\n",
       "      <td>103.25</td>\n",
       "      <td>105.5</td>\n",
       "      <td>107.75</td>\n",
       "      <td>110.0</td>\n",
       "    </tr>\n",
       "    <tr>\n",
       "      <th>Salary</th>\n",
       "      <td>10.0</td>\n",
       "      <td>73900.0</td>\n",
       "      <td>5586.690533</td>\n",
       "      <td>65000.0</td>\n",
       "      <td>72000.00</td>\n",
       "      <td>75000.0</td>\n",
       "      <td>78750.00</td>\n",
       "      <td>80000.0</td>\n",
       "    </tr>\n",
       "  </tbody>\n",
       "</table>\n",
       "</div>"
      ],
      "text/plain": [
       "             count     mean          std      min       25%      50%  \\\n",
       "Employee ID   10.0    105.5     3.027650    101.0    103.25    105.5   \n",
       "Salary        10.0  73900.0  5586.690533  65000.0  72000.00  75000.0   \n",
       "\n",
       "                  75%      max  \n",
       "Employee ID    107.75    110.0  \n",
       "Salary       78750.00  80000.0  "
      ]
     },
     "execution_count": 87,
     "metadata": {},
     "output_type": "execute_result"
    }
   ],
   "source": [
    "employees_df.describe().T"
   ]
  },
  {
   "cell_type": "code",
   "execution_count": 64,
   "id": "942e44ab-2f3c-4d8a-a2fc-5c53eaf4f7ce",
   "metadata": {},
   "outputs": [
    {
     "name": "stdout",
     "output_type": "stream",
     "text": [
      "      Name  Age\n",
      "0    Alice   25\n",
      "1      Bob   30\n",
      "2  Charlie   35\n",
      "-----------------------------------------\n",
      "      Name  Age\n",
      "0    Alice   25\n",
      "1      Bob   30\n",
      "2  Charlie   35\n",
      "-----------------------------------------\n",
      "<class 'pandas.core.frame.DataFrame'>\n",
      "RangeIndex: 3 entries, 0 to 2\n",
      "Data columns (total 2 columns):\n",
      " #   Column  Non-Null Count  Dtype \n",
      "---  ------  --------------  ----- \n",
      " 0   Name    3 non-null      object\n",
      " 1   Age     3 non-null      int64 \n",
      "dtypes: int64(1), object(1)\n",
      "memory usage: 180.0+ bytes\n",
      "None\n",
      "-----------------------------------------\n",
      "        Age\n",
      "count   3.0\n",
      "mean   30.0\n",
      "std     5.0\n",
      "min    25.0\n",
      "25%    27.5\n",
      "50%    30.0\n",
      "75%    32.5\n",
      "max    35.0\n"
     ]
    }
   ],
   "source": [
    "print(df.head())  # First 5 rows\n",
    "print(\"-----------------------------------------\")\n",
    "print(df.tail())  # Last 5 rows\n",
    "print(\"-----------------------------------------\")\n",
    "print(df.info())  # Summary of the DataFrame\n",
    "print(\"-----------------------------------------\")\n",
    "print(df.describe())  # Statistical summary"
   ]
  },
  {
   "cell_type": "markdown",
   "id": "2c93a6ac-cb22-4437-86dc-da96e77e1b16",
   "metadata": {},
   "source": [
    "B. Selecting Columns and Rows"
   ]
  },
  {
   "cell_type": "code",
   "execution_count": 99,
   "id": "96e1ae4f-fc84-46e0-a8d9-f41e591b3558",
   "metadata": {},
   "outputs": [
    {
     "data": {
      "text/html": [
       "<div>\n",
       "<style scoped>\n",
       "    .dataframe tbody tr th:only-of-type {\n",
       "        vertical-align: middle;\n",
       "    }\n",
       "\n",
       "    .dataframe tbody tr th {\n",
       "        vertical-align: top;\n",
       "    }\n",
       "\n",
       "    .dataframe thead th {\n",
       "        text-align: right;\n",
       "    }\n",
       "</style>\n",
       "<table border=\"1\" class=\"dataframe\">\n",
       "  <thead>\n",
       "    <tr style=\"text-align: right;\">\n",
       "      <th></th>\n",
       "      <th>Employee ID</th>\n",
       "      <th>Name</th>\n",
       "      <th>Department</th>\n",
       "      <th>Salary</th>\n",
       "    </tr>\n",
       "  </thead>\n",
       "  <tbody>\n",
       "    <tr>\n",
       "      <th>0</th>\n",
       "      <td>101</td>\n",
       "      <td>John Doe</td>\n",
       "      <td>IT</td>\n",
       "      <td>75000</td>\n",
       "    </tr>\n",
       "    <tr>\n",
       "      <th>1</th>\n",
       "      <td>102</td>\n",
       "      <td>Jane Smith</td>\n",
       "      <td>HR</td>\n",
       "      <td>80000</td>\n",
       "    </tr>\n",
       "    <tr>\n",
       "      <th>2</th>\n",
       "      <td>103</td>\n",
       "      <td>Emily Davis</td>\n",
       "      <td>Finance</td>\n",
       "      <td>65000</td>\n",
       "    </tr>\n",
       "    <tr>\n",
       "      <th>3</th>\n",
       "      <td>104</td>\n",
       "      <td>Michael Brown</td>\n",
       "      <td>Marketing</td>\n",
       "      <td>72000</td>\n",
       "    </tr>\n",
       "    <tr>\n",
       "      <th>4</th>\n",
       "      <td>105</td>\n",
       "      <td>Mary Hey</td>\n",
       "      <td>IT</td>\n",
       "      <td>75000</td>\n",
       "    </tr>\n",
       "    <tr>\n",
       "      <th>5</th>\n",
       "      <td>106</td>\n",
       "      <td>John Mark</td>\n",
       "      <td>HR</td>\n",
       "      <td>80000</td>\n",
       "    </tr>\n",
       "    <tr>\n",
       "      <th>6</th>\n",
       "      <td>107</td>\n",
       "      <td>Joy Williams</td>\n",
       "      <td>Finance</td>\n",
       "      <td>65000</td>\n",
       "    </tr>\n",
       "    <tr>\n",
       "      <th>7</th>\n",
       "      <td>108</td>\n",
       "      <td>Esther Solomon</td>\n",
       "      <td>MarketingIT</td>\n",
       "      <td>72000</td>\n",
       "    </tr>\n",
       "    <tr>\n",
       "      <th>8</th>\n",
       "      <td>109</td>\n",
       "      <td>Mattew Philips</td>\n",
       "      <td>HR</td>\n",
       "      <td>75000</td>\n",
       "    </tr>\n",
       "    <tr>\n",
       "      <th>9</th>\n",
       "      <td>110</td>\n",
       "      <td>Solomon Promise</td>\n",
       "      <td>IT</td>\n",
       "      <td>80000</td>\n",
       "    </tr>\n",
       "  </tbody>\n",
       "</table>\n",
       "</div>"
      ],
      "text/plain": [
       "   Employee ID             Name   Department  Salary\n",
       "0          101         John Doe           IT   75000\n",
       "1          102       Jane Smith           HR   80000\n",
       "2          103      Emily Davis      Finance   65000\n",
       "3          104    Michael Brown    Marketing   72000\n",
       "4          105         Mary Hey           IT   75000\n",
       "5          106        John Mark           HR   80000\n",
       "6          107     Joy Williams      Finance   65000\n",
       "7          108   Esther Solomon  MarketingIT   72000\n",
       "8          109   Mattew Philips           HR   75000\n",
       "9          110  Solomon Promise           IT   80000"
      ]
     },
     "execution_count": 99,
     "metadata": {},
     "output_type": "execute_result"
    }
   ],
   "source": [
    "employees_df"
   ]
  },
  {
   "cell_type": "code",
   "execution_count": 100,
   "id": "cc7e2ef3-5189-425c-b576-6d7120c081d9",
   "metadata": {},
   "outputs": [
    {
     "data": {
      "text/plain": [
       "array(['IT', 'HR', 'Finance', 'Marketing', 'MarketingIT'], dtype=object)"
      ]
     },
     "execution_count": 100,
     "metadata": {},
     "output_type": "execute_result"
    }
   ],
   "source": [
    "employees_df['Department'].unique()"
   ]
  },
  {
   "cell_type": "code",
   "execution_count": 102,
   "id": "7e4ebeed-71c4-47a7-be6a-e59f25d0c3b7",
   "metadata": {},
   "outputs": [
    {
     "data": {
      "text/plain": [
       "5"
      ]
     },
     "execution_count": 102,
     "metadata": {},
     "output_type": "execute_result"
    }
   ],
   "source": [
    "employees_df['Department'].nunique()"
   ]
  },
  {
   "cell_type": "code",
   "execution_count": 103,
   "id": "6a0ca5af-aa5d-425e-854d-72740f790260",
   "metadata": {},
   "outputs": [
    {
     "data": {
      "text/plain": [
       "Department\n",
       "IT             3\n",
       "HR             3\n",
       "Finance        2\n",
       "Marketing      1\n",
       "MarketingIT    1\n",
       "Name: count, dtype: int64"
      ]
     },
     "execution_count": 103,
     "metadata": {},
     "output_type": "execute_result"
    }
   ],
   "source": [
    "employees_df['Department'].value_counts()"
   ]
  },
  {
   "cell_type": "code",
   "execution_count": 104,
   "id": "574fa849-5a90-43be-ac9a-e554906903fe",
   "metadata": {},
   "outputs": [
    {
     "data": {
      "text/plain": [
       "0           John Doe\n",
       "1         Jane Smith\n",
       "2        Emily Davis\n",
       "3      Michael Brown\n",
       "4           Mary Hey\n",
       "5          John Mark\n",
       "6       Joy Williams\n",
       "7     Esther Solomon\n",
       "8     Mattew Philips\n",
       "9    Solomon Promise\n",
       "Name: Name, dtype: object"
      ]
     },
     "execution_count": 104,
     "metadata": {},
     "output_type": "execute_result"
    }
   ],
   "source": [
    "employees_df.Name"
   ]
  },
  {
   "cell_type": "code",
   "execution_count": 113,
   "id": "d7bebafe-1cc0-44a3-82be-0f85bc086d7a",
   "metadata": {},
   "outputs": [
    {
     "data": {
      "text/html": [
       "<div>\n",
       "<style scoped>\n",
       "    .dataframe tbody tr th:only-of-type {\n",
       "        vertical-align: middle;\n",
       "    }\n",
       "\n",
       "    .dataframe tbody tr th {\n",
       "        vertical-align: top;\n",
       "    }\n",
       "\n",
       "    .dataframe thead th {\n",
       "        text-align: right;\n",
       "    }\n",
       "</style>\n",
       "<table border=\"1\" class=\"dataframe\">\n",
       "  <thead>\n",
       "    <tr style=\"text-align: right;\">\n",
       "      <th></th>\n",
       "      <th>Employee ID</th>\n",
       "      <th>Name</th>\n",
       "      <th>Department</th>\n",
       "      <th>Salary</th>\n",
       "    </tr>\n",
       "  </thead>\n",
       "  <tbody>\n",
       "    <tr>\n",
       "      <th>0</th>\n",
       "      <td>101</td>\n",
       "      <td>John Doe</td>\n",
       "      <td>IT</td>\n",
       "      <td>75000</td>\n",
       "    </tr>\n",
       "    <tr>\n",
       "      <th>1</th>\n",
       "      <td>102</td>\n",
       "      <td>Jane Smith</td>\n",
       "      <td>HR</td>\n",
       "      <td>80000</td>\n",
       "    </tr>\n",
       "    <tr>\n",
       "      <th>2</th>\n",
       "      <td>103</td>\n",
       "      <td>Emily Davis</td>\n",
       "      <td>Finance</td>\n",
       "      <td>65000</td>\n",
       "    </tr>\n",
       "    <tr>\n",
       "      <th>3</th>\n",
       "      <td>104</td>\n",
       "      <td>Michael Brown</td>\n",
       "      <td>Marketing</td>\n",
       "      <td>72000</td>\n",
       "    </tr>\n",
       "    <tr>\n",
       "      <th>4</th>\n",
       "      <td>105</td>\n",
       "      <td>Mary Hey</td>\n",
       "      <td>IT</td>\n",
       "      <td>75000</td>\n",
       "    </tr>\n",
       "  </tbody>\n",
       "</table>\n",
       "</div>"
      ],
      "text/plain": [
       "   Employee ID           Name Department  Salary\n",
       "0          101       John Doe         IT   75000\n",
       "1          102     Jane Smith         HR   80000\n",
       "2          103    Emily Davis    Finance   65000\n",
       "3          104  Michael Brown  Marketing   72000\n",
       "4          105       Mary Hey         IT   75000"
      ]
     },
     "execution_count": 113,
     "metadata": {},
     "output_type": "execute_result"
    }
   ],
   "source": [
    "employees_df.head()"
   ]
  },
  {
   "cell_type": "code",
   "execution_count": null,
   "id": "8257c5bc-1559-4710-90a7-e2836556bec2",
   "metadata": {},
   "outputs": [],
   "source": []
  },
  {
   "cell_type": "code",
   "execution_count": 111,
   "id": "097963e3-73b0-4312-a596-d29918fec568",
   "metadata": {},
   "outputs": [
    {
     "data": {
      "text/html": [
       "<div>\n",
       "<style scoped>\n",
       "    .dataframe tbody tr th:only-of-type {\n",
       "        vertical-align: middle;\n",
       "    }\n",
       "\n",
       "    .dataframe tbody tr th {\n",
       "        vertical-align: top;\n",
       "    }\n",
       "\n",
       "    .dataframe thead th {\n",
       "        text-align: right;\n",
       "    }\n",
       "</style>\n",
       "<table border=\"1\" class=\"dataframe\">\n",
       "  <thead>\n",
       "    <tr style=\"text-align: right;\">\n",
       "      <th></th>\n",
       "      <th>Employee ID</th>\n",
       "      <th>Name</th>\n",
       "      <th>Department</th>\n",
       "      <th>Salary</th>\n",
       "    </tr>\n",
       "  </thead>\n",
       "  <tbody>\n",
       "    <tr>\n",
       "      <th>1</th>\n",
       "      <td>102</td>\n",
       "      <td>Jane Smith</td>\n",
       "      <td>HR</td>\n",
       "      <td>80000</td>\n",
       "    </tr>\n",
       "    <tr>\n",
       "      <th>2</th>\n",
       "      <td>103</td>\n",
       "      <td>Emily Davis</td>\n",
       "      <td>Finance</td>\n",
       "      <td>65000</td>\n",
       "    </tr>\n",
       "    <tr>\n",
       "      <th>3</th>\n",
       "      <td>104</td>\n",
       "      <td>Michael Brown</td>\n",
       "      <td>Marketing</td>\n",
       "      <td>72000</td>\n",
       "    </tr>\n",
       "  </tbody>\n",
       "</table>\n",
       "</div>"
      ],
      "text/plain": [
       "   Employee ID           Name Department  Salary\n",
       "1          102     Jane Smith         HR   80000\n",
       "2          103    Emily Davis    Finance   65000\n",
       "3          104  Michael Brown  Marketing   72000"
      ]
     },
     "execution_count": 111,
     "metadata": {},
     "output_type": "execute_result"
    }
   ],
   "source": [
    "employees_df.loc[1:3]"
   ]
  },
  {
   "cell_type": "code",
   "execution_count": 117,
   "id": "d9f7b58c-0e9f-405a-84ad-36b6365f4c0d",
   "metadata": {},
   "outputs": [
    {
     "data": {
      "text/html": [
       "<div>\n",
       "<style scoped>\n",
       "    .dataframe tbody tr th:only-of-type {\n",
       "        vertical-align: middle;\n",
       "    }\n",
       "\n",
       "    .dataframe tbody tr th {\n",
       "        vertical-align: top;\n",
       "    }\n",
       "\n",
       "    .dataframe thead th {\n",
       "        text-align: right;\n",
       "    }\n",
       "</style>\n",
       "<table border=\"1\" class=\"dataframe\">\n",
       "  <thead>\n",
       "    <tr style=\"text-align: right;\">\n",
       "      <th></th>\n",
       "      <th>Employee ID</th>\n",
       "      <th>Name</th>\n",
       "      <th>Department</th>\n",
       "      <th>Salary</th>\n",
       "      <th>Bonus</th>\n",
       "    </tr>\n",
       "  </thead>\n",
       "  <tbody>\n",
       "    <tr>\n",
       "      <th>1</th>\n",
       "      <td>102</td>\n",
       "      <td>Jane Smith</td>\n",
       "      <td>HR</td>\n",
       "      <td>80000</td>\n",
       "      <td>16000.0</td>\n",
       "    </tr>\n",
       "    <tr>\n",
       "      <th>2</th>\n",
       "      <td>103</td>\n",
       "      <td>Emily Davis</td>\n",
       "      <td>Finance</td>\n",
       "      <td>65000</td>\n",
       "      <td>13000.0</td>\n",
       "    </tr>\n",
       "  </tbody>\n",
       "</table>\n",
       "</div>"
      ],
      "text/plain": [
       "   Employee ID         Name Department  Salary    Bonus\n",
       "1          102   Jane Smith         HR   80000  16000.0\n",
       "2          103  Emily Davis    Finance   65000  13000.0"
      ]
     },
     "execution_count": 117,
     "metadata": {},
     "output_type": "execute_result"
    }
   ],
   "source": [
    "employees_df.iloc[1:3]"
   ]
  },
  {
   "cell_type": "code",
   "execution_count": 127,
   "id": "bbe76f3b-5cf5-42c5-b02c-7b6d6e32dd41",
   "metadata": {},
   "outputs": [],
   "source": [
    "var = 100"
   ]
  },
  {
   "cell_type": "code",
   "execution_count": 128,
   "id": "36a1f320-9410-450c-affb-71073971ad02",
   "metadata": {},
   "outputs": [],
   "source": [
    "var = 10000"
   ]
  },
  {
   "cell_type": "code",
   "execution_count": 129,
   "id": "aeb3c6ae-c1ca-40ac-be2c-e07bcce5b086",
   "metadata": {},
   "outputs": [
    {
     "data": {
      "text/plain": [
       "10000"
      ]
     },
     "execution_count": 129,
     "metadata": {},
     "output_type": "execute_result"
    }
   ],
   "source": [
    "var"
   ]
  },
  {
   "cell_type": "code",
   "execution_count": 119,
   "id": "0b2f5de4-b433-47f7-b6ed-729ad27d57c8",
   "metadata": {},
   "outputs": [
    {
     "data": {
      "text/html": [
       "<div>\n",
       "<style scoped>\n",
       "    .dataframe tbody tr th:only-of-type {\n",
       "        vertical-align: middle;\n",
       "    }\n",
       "\n",
       "    .dataframe tbody tr th {\n",
       "        vertical-align: top;\n",
       "    }\n",
       "\n",
       "    .dataframe thead th {\n",
       "        text-align: right;\n",
       "    }\n",
       "</style>\n",
       "<table border=\"1\" class=\"dataframe\">\n",
       "  <thead>\n",
       "    <tr style=\"text-align: right;\">\n",
       "      <th></th>\n",
       "      <th>Employee ID</th>\n",
       "      <th>Name</th>\n",
       "      <th>Department</th>\n",
       "      <th>Salary</th>\n",
       "      <th>Bonus</th>\n",
       "    </tr>\n",
       "  </thead>\n",
       "  <tbody>\n",
       "    <tr>\n",
       "      <th>0</th>\n",
       "      <td>101</td>\n",
       "      <td>John Doe</td>\n",
       "      <td>IT</td>\n",
       "      <td>75000</td>\n",
       "      <td>15000.0</td>\n",
       "    </tr>\n",
       "    <tr>\n",
       "      <th>1</th>\n",
       "      <td>102</td>\n",
       "      <td>Jane Smith</td>\n",
       "      <td>HR</td>\n",
       "      <td>80000</td>\n",
       "      <td>16000.0</td>\n",
       "    </tr>\n",
       "    <tr>\n",
       "      <th>2</th>\n",
       "      <td>103</td>\n",
       "      <td>Emily Davis</td>\n",
       "      <td>Finance</td>\n",
       "      <td>65000</td>\n",
       "      <td>13000.0</td>\n",
       "    </tr>\n",
       "    <tr>\n",
       "      <th>3</th>\n",
       "      <td>104</td>\n",
       "      <td>Michael Brown</td>\n",
       "      <td>Marketing</td>\n",
       "      <td>72000</td>\n",
       "      <td>14400.0</td>\n",
       "    </tr>\n",
       "    <tr>\n",
       "      <th>4</th>\n",
       "      <td>105</td>\n",
       "      <td>Mary Hey</td>\n",
       "      <td>IT</td>\n",
       "      <td>75000</td>\n",
       "      <td>15000.0</td>\n",
       "    </tr>\n",
       "  </tbody>\n",
       "</table>\n",
       "</div>"
      ],
      "text/plain": [
       "   Employee ID           Name Department  Salary    Bonus\n",
       "0          101       John Doe         IT   75000  15000.0\n",
       "1          102     Jane Smith         HR   80000  16000.0\n",
       "2          103    Emily Davis    Finance   65000  13000.0\n",
       "3          104  Michael Brown  Marketing   72000  14400.0\n",
       "4          105       Mary Hey         IT   75000  15000.0"
      ]
     },
     "execution_count": 119,
     "metadata": {},
     "output_type": "execute_result"
    }
   ],
   "source": [
    "employees_df['Bonus'] = employees_df['Salary']*0.2\n",
    "employees_df.head()"
   ]
  },
  {
   "cell_type": "code",
   "execution_count": 125,
   "id": "13288e23-3a00-4070-8b3c-fcf6b3980f08",
   "metadata": {},
   "outputs": [],
   "source": [
    "employees_df.drop('Bonus', axis = 1, inplace = True)"
   ]
  },
  {
   "cell_type": "code",
   "execution_count": null,
   "id": "d4e2c7e3-a2da-4b50-a488-9b9628cba365",
   "metadata": {},
   "outputs": [],
   "source": [
    "employees_df = employees_df.drop('Bonus', axis = 1)"
   ]
  },
  {
   "cell_type": "code",
   "execution_count": 126,
   "id": "ac332f54-ca3b-43a9-aaba-7f433599d9bb",
   "metadata": {},
   "outputs": [
    {
     "data": {
      "text/html": [
       "<div>\n",
       "<style scoped>\n",
       "    .dataframe tbody tr th:only-of-type {\n",
       "        vertical-align: middle;\n",
       "    }\n",
       "\n",
       "    .dataframe tbody tr th {\n",
       "        vertical-align: top;\n",
       "    }\n",
       "\n",
       "    .dataframe thead th {\n",
       "        text-align: right;\n",
       "    }\n",
       "</style>\n",
       "<table border=\"1\" class=\"dataframe\">\n",
       "  <thead>\n",
       "    <tr style=\"text-align: right;\">\n",
       "      <th></th>\n",
       "      <th>Employee ID</th>\n",
       "      <th>Name</th>\n",
       "      <th>Department</th>\n",
       "      <th>Salary</th>\n",
       "    </tr>\n",
       "  </thead>\n",
       "  <tbody>\n",
       "    <tr>\n",
       "      <th>0</th>\n",
       "      <td>101</td>\n",
       "      <td>John Doe</td>\n",
       "      <td>IT</td>\n",
       "      <td>75000</td>\n",
       "    </tr>\n",
       "    <tr>\n",
       "      <th>1</th>\n",
       "      <td>102</td>\n",
       "      <td>Jane Smith</td>\n",
       "      <td>HR</td>\n",
       "      <td>80000</td>\n",
       "    </tr>\n",
       "    <tr>\n",
       "      <th>2</th>\n",
       "      <td>103</td>\n",
       "      <td>Emily Davis</td>\n",
       "      <td>Finance</td>\n",
       "      <td>65000</td>\n",
       "    </tr>\n",
       "    <tr>\n",
       "      <th>3</th>\n",
       "      <td>104</td>\n",
       "      <td>Michael Brown</td>\n",
       "      <td>Marketing</td>\n",
       "      <td>72000</td>\n",
       "    </tr>\n",
       "    <tr>\n",
       "      <th>4</th>\n",
       "      <td>105</td>\n",
       "      <td>Mary Hey</td>\n",
       "      <td>IT</td>\n",
       "      <td>75000</td>\n",
       "    </tr>\n",
       "  </tbody>\n",
       "</table>\n",
       "</div>"
      ],
      "text/plain": [
       "   Employee ID           Name Department  Salary\n",
       "0          101       John Doe         IT   75000\n",
       "1          102     Jane Smith         HR   80000\n",
       "2          103    Emily Davis    Finance   65000\n",
       "3          104  Michael Brown  Marketing   72000\n",
       "4          105       Mary Hey         IT   75000"
      ]
     },
     "execution_count": 126,
     "metadata": {},
     "output_type": "execute_result"
    }
   ],
   "source": [
    "employees_df.head()"
   ]
  },
  {
   "cell_type": "code",
   "execution_count": 17,
   "id": "9d91a202-8218-4e06-bd9c-bcf0e42a0b9b",
   "metadata": {},
   "outputs": [
    {
     "name": "stdout",
     "output_type": "stream",
     "text": [
      "0      Alice\n",
      "1        Bob\n",
      "2    Charlie\n",
      "Name: Name, dtype: object\n",
      "-----------------------------------------\n",
      "Name      Alice\n",
      "Age          25\n",
      "Salary    50000\n",
      "Name: 0, dtype: object\n",
      "-----------------------------------------\n",
      "Name        Bob\n",
      "Age          30\n",
      "Salary    60000\n",
      "Name: 1, dtype: object\n"
     ]
    }
   ],
   "source": [
    "print(df[\"Name\"])  # Select a single column\n",
    "print(\"-----------------------------------------\")\n",
    "print(df.loc[0])  # Select a row by label\n",
    "print(\"-----------------------------------------\")\n",
    "print(df.iloc[1])  # Select a row by index"
   ]
  },
  {
   "cell_type": "markdown",
   "id": "eb0e3512-2cf1-4f64-8ae4-20069303649c",
   "metadata": {},
   "source": [
    "C. Adding and Removing Columns"
   ]
  },
  {
   "cell_type": "code",
   "execution_count": 18,
   "id": "a6a4f003-1f39-43c1-b73b-f88da96cdf43",
   "metadata": {},
   "outputs": [
    {
     "name": "stdout",
     "output_type": "stream",
     "text": [
      "      Name  Salary\n",
      "0    Alice   50000\n",
      "1      Bob   60000\n",
      "2  Charlie   55000\n"
     ]
    }
   ],
   "source": [
    "df[\"Salary\"] = [50000, 60000, 55000]  # Add a new column\n",
    "print(df.drop(\"Age\", axis=1))  # Remove a column"
   ]
  },
  {
   "cell_type": "markdown",
   "id": "d20c8d2a-8fdd-47aa-a2da-b1f781d92dec",
   "metadata": {},
   "source": [
    "## __5. Hands-on Exercises__\n",
    "\n",
    "### __Exercise 1: Creating Series (Beginner)__\n",
    "\n",
    "* Create a Series from a list of five numbers.\n",
    "\n",
    "* Assign custom index labels (e.g., \"A\", \"B\", \"C\", \"D\", \"E\").\n",
    "\n",
    "### __Exercise 2: Creating DataFrames (Intermediate)__\n",
    "\n",
    "* Create a DataFrame with three columns: \"Product\", \"Price\", \"Stock\".\n",
    "\n",
    "* Populate it with at least four rows of data.\n",
    "\n",
    "### __Exercise 3: Using Different Data Sources (Advanced)__\n",
    "\n",
    "* Create a DataFrame from a dictionary containing student names, grades, and subjects.\n",
    "\n",
    "* Convert two lists into a DataFrame using zip().\n",
    "\n",
    "### __Exercise 4: Working with Real-World Data (Advanced)__\n",
    "\n",
    "* Create a DataFrame for an online store with columns: \"Order ID\", \"Customer Name\", \"Total Amount\", and \"Status\".\n",
    "\n",
    "* Populate it with five sample orders.\n",
    "\n",
    "* Retrieve only the orders where \"Status\" is \"Completed\".\n",
    "\n",
    "### __Exercise 5: Modifying DataFrames (Expert)__\n",
    "\n",
    "* Add a new column to an existing DataFrame with calculated values (e.g., Tax = Price * 0.08).\n",
    "\n",
    "* Remove a column from the DataFrame.\n",
    "\n",
    "* Retrieve the first two rows of the modified DataFrame."
   ]
  },
  {
   "cell_type": "markdown",
   "id": "151c24b7-811c-4bab-85f9-190fb2ba0135",
   "metadata": {},
   "source": [
    "### __Summary:__\n",
    "\n",
    "* Pandas provides Series (1D) and DataFrame (2D) data structures.\n",
    "\n",
    "* We can create DataFrames from dictionaries, lists, and external files.\n",
    "\n",
    "* Basic operations include selecting, modifying, and summarizing data.\n",
    "\n",
    "In the next module, we will explore how to import and export data using Pandas."
   ]
  },
  {
   "cell_type": "code",
   "execution_count": 130,
   "id": "1c402e72-ac55-468f-a0ba-64b1eeaac058",
   "metadata": {},
   "outputs": [
    {
     "data": {
      "text/plain": [
       "0    A\n",
       "1    B\n",
       "2    C\n",
       "3    D\n",
       "4    E\n",
       "dtype: object"
      ]
     },
     "execution_count": 130,
     "metadata": {},
     "output_type": "execute_result"
    }
   ],
   "source": [
    "series_1 = pd.Series([\"A\", \"B\", \"C\", \"D\", \"E\"])\n",
    "series_1"
   ]
  },
  {
   "cell_type": "code",
   "execution_count": 131,
   "id": "9857b1b0-27ac-4069-9d86-cfa83bcf29e9",
   "metadata": {},
   "outputs": [
    {
     "data": {
      "text/plain": [
       "A    0\n",
       "B    1\n",
       "C    2\n",
       "D    3\n",
       "D    4\n",
       "dtype: int64"
      ]
     },
     "execution_count": 131,
     "metadata": {},
     "output_type": "execute_result"
    }
   ],
   "source": [
    "#1\n",
    "import pandas as pd\n",
    "l = [ x for x in range(5) ]\n",
    "s = pd.Series(l, index=['A','B','C','D','D'])\n",
    "s"
   ]
  },
  {
   "cell_type": "code",
   "execution_count": 133,
   "id": "e9d31f59-701f-45dd-ba37-fec415a782ef",
   "metadata": {},
   "outputs": [
    {
     "name": "stdout",
     "output_type": "stream",
     "text": [
      "   Student Grade  Subject\n",
      "0    Alice     A     Math\n",
      "1      Bob     B  Science\n",
      "2  Charlie     A  History\n",
      "3    David     C  English\n",
      "---------------------------------------------\n",
      "   Student  Score\n",
      "0    Alice     90\n",
      "1      Bob     85\n",
      "2  Charlie     95\n",
      "3    David     78\n"
     ]
    }
   ],
   "source": [
    "#3\n",
    "\n",
    "import pandas as pd\n",
    "\n",
    "\n",
    "data_dict = {\n",
    "    'Student': ['Alice', 'Bob', 'Charlie', 'David'],\n",
    "    'Grade': ['A', 'B', 'A', 'C'],\n",
    "    'Subject': ['Math', 'Science', 'History', 'English']\n",
    "}\n",
    "\n",
    "df_dict = pd.DataFrame(data_dict)\n",
    "\n",
    "\n",
    "names = ['Alice', 'Bob', 'Charlie', 'David']\n",
    "scores = [90, 85, 95, 78]\n",
    "\n",
    "df_zip = pd.DataFrame(list(zip(names, scores)), columns=['Student', 'Score'])\n",
    "\n",
    "print(df_dict)\n",
    "print(\"---------------------------------------------\")\n",
    "print(df_zip)"
   ]
  },
  {
   "cell_type": "code",
   "execution_count": 134,
   "id": "1585889f-21a2-4880-819d-417e43e30f2d",
   "metadata": {},
   "outputs": [
    {
     "name": "stdout",
     "output_type": "stream",
     "text": [
      "      Product  Price  Stock\n",
      "0      Laptop   1200     10\n",
      "1  Smartphone    800     25\n",
      "2  Headphones    150     50\n",
      "3      Tablet    500     15\n"
     ]
    }
   ],
   "source": [
    "import pandas as pd\n",
    "\n",
    "# Define the data\n",
    "data = {\n",
    "    \"Product\": [\"Laptop\", \"Smartphone\", \"Headphones\", \"Tablet\"],\n",
    "    \"Price\": [1200, 800, 150, 500],\n",
    "    \"Stock\": [10, 25, 50, 15]\n",
    "}\n",
    "\n",
    "# Create the DataFrame\n",
    "df = pd.DataFrame(data)\n",
    "\n",
    "# Print the DataFrame\n",
    "print(df)"
   ]
  },
  {
   "cell_type": "code",
   "execution_count": 137,
   "id": "614743b9-9573-4bfa-be33-857ee6e4ba8e",
   "metadata": {},
   "outputs": [
    {
     "name": "stdout",
     "output_type": "stream",
     "text": [
      "      Name  Score\n",
      "0    Alice     85\n",
      "1      Bob     90\n",
      "2  Charlie     95\n",
      "3    David     88\n"
     ]
    }
   ],
   "source": [
    "#3 part 2\n",
    "import pandas as pd\n",
    "\n",
    "names = ['Alice', 'Bob', 'Charlie', 'David']\n",
    "scores = [85, 90, 95, 88]\n",
    "\n",
    "# Zip the two lists and create a DataFrame\n",
    "zip_data = list(zip(names, scores))\n",
    "\n",
    "df_zip = pd.DataFrame(zip_data, columns=['Name', 'Score'])\n",
    "\n",
    "# Display the DataFrame\n",
    "print(df_zip)"
   ]
  },
  {
   "cell_type": "code",
   "execution_count": 140,
   "id": "0def2949-bce3-4e2a-82c2-83657c78832c",
   "metadata": {},
   "outputs": [],
   "source": [
    " arr=[[100, 'Siby', 900.1, 'Done'], [200, 'Mathew', 890.9, 'Done'], [210, 'Siby', 40.1, 'Done'], [300, 'Math', 0.1, 'Rejected'], [400, 'Tari', 9.1, 'InProgress']]"
   ]
  },
  {
   "cell_type": "code",
   "execution_count": 141,
   "id": "125805b9-b79d-4156-b3bc-85d6912cf605",
   "metadata": {},
   "outputs": [],
   "source": [
    "df = pd.DataFrame(arr, columns=[\"Order ID\", \"Customer Name\", \"Total Amount\",\"Status\"])"
   ]
  },
  {
   "cell_type": "code",
   "execution_count": 142,
   "id": "98deb2dd-a552-4f9e-afef-722d628aa0dd",
   "metadata": {},
   "outputs": [
    {
     "data": {
      "text/html": [
       "<div>\n",
       "<style scoped>\n",
       "    .dataframe tbody tr th:only-of-type {\n",
       "        vertical-align: middle;\n",
       "    }\n",
       "\n",
       "    .dataframe tbody tr th {\n",
       "        vertical-align: top;\n",
       "    }\n",
       "\n",
       "    .dataframe thead th {\n",
       "        text-align: right;\n",
       "    }\n",
       "</style>\n",
       "<table border=\"1\" class=\"dataframe\">\n",
       "  <thead>\n",
       "    <tr style=\"text-align: right;\">\n",
       "      <th></th>\n",
       "      <th>Order ID</th>\n",
       "      <th>Customer Name</th>\n",
       "      <th>Total Amount</th>\n",
       "      <th>Status</th>\n",
       "    </tr>\n",
       "  </thead>\n",
       "  <tbody>\n",
       "    <tr>\n",
       "      <th>0</th>\n",
       "      <td>100</td>\n",
       "      <td>Siby</td>\n",
       "      <td>900.1</td>\n",
       "      <td>Done</td>\n",
       "    </tr>\n",
       "    <tr>\n",
       "      <th>1</th>\n",
       "      <td>200</td>\n",
       "      <td>Mathew</td>\n",
       "      <td>890.9</td>\n",
       "      <td>Done</td>\n",
       "    </tr>\n",
       "    <tr>\n",
       "      <th>2</th>\n",
       "      <td>210</td>\n",
       "      <td>Siby</td>\n",
       "      <td>40.1</td>\n",
       "      <td>Done</td>\n",
       "    </tr>\n",
       "    <tr>\n",
       "      <th>3</th>\n",
       "      <td>300</td>\n",
       "      <td>Math</td>\n",
       "      <td>0.1</td>\n",
       "      <td>Rejected</td>\n",
       "    </tr>\n",
       "    <tr>\n",
       "      <th>4</th>\n",
       "      <td>400</td>\n",
       "      <td>Tari</td>\n",
       "      <td>9.1</td>\n",
       "      <td>InProgress</td>\n",
       "    </tr>\n",
       "  </tbody>\n",
       "</table>\n",
       "</div>"
      ],
      "text/plain": [
       "   Order ID Customer Name  Total Amount      Status\n",
       "0       100          Siby         900.1        Done\n",
       "1       200        Mathew         890.9        Done\n",
       "2       210          Siby          40.1        Done\n",
       "3       300          Math           0.1    Rejected\n",
       "4       400          Tari           9.1  InProgress"
      ]
     },
     "execution_count": 142,
     "metadata": {},
     "output_type": "execute_result"
    }
   ],
   "source": [
    "df"
   ]
  },
  {
   "cell_type": "code",
   "execution_count": 143,
   "id": "8e6cdd01-4f82-4bc7-915c-969df4eb2110",
   "metadata": {},
   "outputs": [
    {
     "data": {
      "text/html": [
       "<div>\n",
       "<style scoped>\n",
       "    .dataframe tbody tr th:only-of-type {\n",
       "        vertical-align: middle;\n",
       "    }\n",
       "\n",
       "    .dataframe tbody tr th {\n",
       "        vertical-align: top;\n",
       "    }\n",
       "\n",
       "    .dataframe thead th {\n",
       "        text-align: right;\n",
       "    }\n",
       "</style>\n",
       "<table border=\"1\" class=\"dataframe\">\n",
       "  <thead>\n",
       "    <tr style=\"text-align: right;\">\n",
       "      <th></th>\n",
       "      <th>Order ID</th>\n",
       "      <th>Customer Name</th>\n",
       "      <th>Total Amount</th>\n",
       "      <th>Status</th>\n",
       "    </tr>\n",
       "  </thead>\n",
       "  <tbody>\n",
       "    <tr>\n",
       "      <th>0</th>\n",
       "      <td>100</td>\n",
       "      <td>Siby</td>\n",
       "      <td>900.1</td>\n",
       "      <td>Done</td>\n",
       "    </tr>\n",
       "    <tr>\n",
       "      <th>1</th>\n",
       "      <td>200</td>\n",
       "      <td>Mathew</td>\n",
       "      <td>890.9</td>\n",
       "      <td>Done</td>\n",
       "    </tr>\n",
       "    <tr>\n",
       "      <th>2</th>\n",
       "      <td>210</td>\n",
       "      <td>Siby</td>\n",
       "      <td>40.1</td>\n",
       "      <td>Done</td>\n",
       "    </tr>\n",
       "  </tbody>\n",
       "</table>\n",
       "</div>"
      ],
      "text/plain": [
       "   Order ID Customer Name  Total Amount Status\n",
       "0       100          Siby         900.1   Done\n",
       "1       200        Mathew         890.9   Done\n",
       "2       210          Siby          40.1   Done"
      ]
     },
     "execution_count": 143,
     "metadata": {},
     "output_type": "execute_result"
    }
   ],
   "source": [
    "df[df['Status'] == \"Done\"]"
   ]
  },
  {
   "cell_type": "code",
   "execution_count": 144,
   "id": "752e6be6-17ec-475d-afa5-ff93efaddd71",
   "metadata": {},
   "outputs": [],
   "source": [
    "data = {\n",
    "    \"Order ID\": [1, 2, 3, 4, 5],\n",
    "    \"Customer Name\": [\"Virat Kohli\", \"Rohit Sharma\", \"MS Dhoni\", \"Hardik Pandya\", \"KL Rahul\"],\n",
    "    \"Total Amount\": [250.50, 120.75, 310.00, 99.99, 499.00],\n",
    "    \"Status\": [\"Completed\", \"Pending\", \"Completed\", \"Completed\", \"Pending\"]\n",
    "}\n",
    "\n",
    "orders_df = pd.DataFrame(data)\n"
   ]
  },
  {
   "cell_type": "code",
   "execution_count": 146,
   "id": "741111b3-f04e-4c4a-a945-36fef7eda72f",
   "metadata": {},
   "outputs": [
    {
     "data": {
      "text/html": [
       "<div>\n",
       "<style scoped>\n",
       "    .dataframe tbody tr th:only-of-type {\n",
       "        vertical-align: middle;\n",
       "    }\n",
       "\n",
       "    .dataframe tbody tr th {\n",
       "        vertical-align: top;\n",
       "    }\n",
       "\n",
       "    .dataframe thead th {\n",
       "        text-align: right;\n",
       "    }\n",
       "</style>\n",
       "<table border=\"1\" class=\"dataframe\">\n",
       "  <thead>\n",
       "    <tr style=\"text-align: right;\">\n",
       "      <th></th>\n",
       "      <th>Order ID</th>\n",
       "      <th>Customer Name</th>\n",
       "      <th>Total Amount</th>\n",
       "      <th>Status</th>\n",
       "    </tr>\n",
       "  </thead>\n",
       "  <tbody>\n",
       "    <tr>\n",
       "      <th>0</th>\n",
       "      <td>1</td>\n",
       "      <td>Virat Kohli</td>\n",
       "      <td>250.50</td>\n",
       "      <td>Completed</td>\n",
       "    </tr>\n",
       "    <tr>\n",
       "      <th>2</th>\n",
       "      <td>3</td>\n",
       "      <td>MS Dhoni</td>\n",
       "      <td>310.00</td>\n",
       "      <td>Completed</td>\n",
       "    </tr>\n",
       "    <tr>\n",
       "      <th>3</th>\n",
       "      <td>4</td>\n",
       "      <td>Hardik Pandya</td>\n",
       "      <td>99.99</td>\n",
       "      <td>Completed</td>\n",
       "    </tr>\n",
       "  </tbody>\n",
       "</table>\n",
       "</div>"
      ],
      "text/plain": [
       "   Order ID  Customer Name  Total Amount     Status\n",
       "0         1    Virat Kohli        250.50  Completed\n",
       "2         3       MS Dhoni        310.00  Completed\n",
       "3         4  Hardik Pandya         99.99  Completed"
      ]
     },
     "execution_count": 146,
     "metadata": {},
     "output_type": "execute_result"
    }
   ],
   "source": [
    "completed_orders = orders_df[orders_df[\"Status\"] == \"Completed\"]\n",
    "\n",
    "completed_orders"
   ]
  },
  {
   "cell_type": "code",
   "execution_count": 147,
   "id": "c354f84a-12b1-4fde-bfb4-3bcb7f88fa51",
   "metadata": {},
   "outputs": [
    {
     "name": "stdout",
     "output_type": "stream",
     "text": [
      "   Order ID Customer Name  Total Amount     Status\n",
      "0       101         Name1        250.50  Completed\n",
      "2       103         Name3         75.99  Completed\n",
      "4       105         Name5        150.75  Completed\n"
     ]
    }
   ],
   "source": [
    "# Define sample data\n",
    "data = {\n",
    "    \"Order ID\": [101, 102, 103, 104, 105],\n",
    "    \"Customer Name\": [\"Name1\", \"Name2\", \"Name3\", \"Name4\", \"Name5\"],\n",
    "    \"Total Amount\": [250.50, 120.00, 75.99, 300.00, 150.75],\n",
    "    \"Status\": [\"Completed\", \"Pending\", \"Completed\", \"Cancelled\", \"Completed\"]\n",
    "}\n",
    "\n",
    "# Create DataFrame\n",
    "df = pd.DataFrame(data)\n",
    "\n",
    "# Retrieve only orders where \"Status\" is \"Completed\"\n",
    "completed_orders = df[df[\"Status\"] == \"Completed\"]\n",
    "\n",
    "# Print the filtered DataFrame\n",
    "print(completed_orders)"
   ]
  },
  {
   "cell_type": "code",
   "execution_count": null,
   "id": "37928efb-034b-4673-a0aa-549ed238a656",
   "metadata": {},
   "outputs": [],
   "source": []
  }
 ],
 "metadata": {
  "kernelspec": {
   "display_name": "Python 3 (ipykernel)",
   "language": "python",
   "name": "python3"
  },
  "language_info": {
   "codemirror_mode": {
    "name": "ipython",
    "version": 3
   },
   "file_extension": ".py",
   "mimetype": "text/x-python",
   "name": "python",
   "nbconvert_exporter": "python",
   "pygments_lexer": "ipython3",
   "version": "3.12.7"
  }
 },
 "nbformat": 4,
 "nbformat_minor": 5
}
